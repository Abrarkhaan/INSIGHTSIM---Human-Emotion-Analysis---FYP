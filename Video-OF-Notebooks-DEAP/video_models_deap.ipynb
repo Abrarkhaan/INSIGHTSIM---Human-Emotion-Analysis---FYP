{
  "cells": [
    {
      "cell_type": "code",
      "execution_count": null,
      "metadata": {
        "colab": {
          "base_uri": "https://localhost:8080/"
        },
        "collapsed": true,
        "id": "UjL87nZq6fam",
        "outputId": "a8e5c208-fce1-406b-c3ff-79fdd32a681e"
      },
      "outputs": [
        {
          "name": "stdout",
          "output_type": "stream",
          "text": [
            "\u001b[2K   \u001b[90m━━━━━━━━━━━━━━━━━━━━━━━━━━━━━━━━━━━━━━━━\u001b[0m \u001b[32m644.9/644.9 MB\u001b[0m \u001b[31m587.9 kB/s\u001b[0m eta \u001b[36m0:00:00\u001b[0m\n",
            "\u001b[2K   \u001b[90m━━━━━━━━━━━━━━━━━━━━━━━━━━━━━━━━━━━━━━━━\u001b[0m \u001b[32m57.5/57.5 kB\u001b[0m \u001b[31m3.8 MB/s\u001b[0m eta \u001b[36m0:00:00\u001b[0m\n",
            "\u001b[2K   \u001b[90m━━━━━━━━━━━━━━━━━━━━━━━━━━━━━━━━━━━━━━━━\u001b[0m \u001b[32m24.5/24.5 MB\u001b[0m \u001b[31m73.0 MB/s\u001b[0m eta \u001b[36m0:00:00\u001b[0m\n",
            "\u001b[2K   \u001b[90m━━━━━━━━━━━━━━━━━━━━━━━━━━━━━━━━━━━━━━━━\u001b[0m \u001b[32m5.5/5.5 MB\u001b[0m \u001b[31m104.9 MB/s\u001b[0m eta \u001b[36m0:00:00\u001b[0m\n",
            "\u001b[2K   \u001b[90m━━━━━━━━━━━━━━━━━━━━━━━━━━━━━━━━━━━━━━━━\u001b[0m \u001b[32m5.1/5.1 MB\u001b[0m \u001b[31m101.7 MB/s\u001b[0m eta \u001b[36m0:00:00\u001b[0m\n",
            "\u001b[2K   \u001b[90m━━━━━━━━━━━━━━━━━━━━━━━━━━━━━━━━━━━━━━━━\u001b[0m \u001b[32m6.6/6.6 MB\u001b[0m \u001b[31m115.9 MB/s\u001b[0m eta \u001b[36m0:00:00\u001b[0m\n",
            "\u001b[2K   \u001b[90m━━━━━━━━━━━━━━━━━━━━━━━━━━━━━━━━━━━━━━━━\u001b[0m \u001b[32m224.5/224.5 kB\u001b[0m \u001b[31m16.0 MB/s\u001b[0m eta \u001b[36m0:00:00\u001b[0m\n",
            "\u001b[2K   \u001b[90m━━━━━━━━━━━━━━━━━━━━━━━━━━━━━━━━━━━━━━━━\u001b[0m \u001b[32m72.5/72.5 kB\u001b[0m \u001b[31m5.3 MB/s\u001b[0m eta \u001b[36m0:00:00\u001b[0m\n",
            "\u001b[?25h"
          ]
        }
      ],
      "source": [
        "!pip install tensorflow --quiet"
      ]
    },
    {
      "cell_type": "markdown",
      "metadata": {
        "id": "gW-Lc3CLhChc"
      },
      "source": [
        "# **Load features+labels**"
      ]
    },
    {
      "cell_type": "code",
      "execution_count": null,
      "metadata": {
        "id": "n7i4q5UK46Gn"
      },
      "outputs": [],
      "source": [
        "import os\n",
        "import pandas as pd\n",
        "import numpy as np\n",
        "import re\n",
        "from collections import Counter\n",
        "import pandas as pd\n",
        "import os\n",
        "from glob import glob\n",
        "import joblib"
      ]
    },
    {
      "cell_type": "code",
      "execution_count": null,
      "metadata": {
        "collapsed": true,
        "id": "gC9lIgyzjFI2"
      },
      "outputs": [],
      "source": [
        "# Specify the file path\n",
        "#file_path = '/content/drive/MyDrive/main_df.csv'\n",
        "\n",
        "# Load the CSV file into a DataFrame\n",
        "main_df = pd.read_csv(file_path)"
      ]
    },
    {
      "cell_type": "code",
      "execution_count": null,
      "metadata": {
        "colab": {
          "base_uri": "https://localhost:8080/",
          "height": 444
        },
        "id": "e4kxj0fbltty",
        "outputId": "d6afacb6-6b59-4e19-c2fc-455ff7e64987"
      },
      "outputs": [
        {
          "data": {
            "application/vnd.google.colaboratory.intrinsic+json": {
              "type": "dataframe",
              "variable_name": "df"
            },
            "text/html": [
              "\n",
              "  <div id=\"df-0c3f9d09-ac59-428b-8bcc-19adecfa2ac9\" class=\"colab-df-container\">\n",
              "    <div>\n",
              "<style scoped>\n",
              "    .dataframe tbody tr th:only-of-type {\n",
              "        vertical-align: middle;\n",
              "    }\n",
              "\n",
              "    .dataframe tbody tr th {\n",
              "        vertical-align: top;\n",
              "    }\n",
              "\n",
              "    .dataframe thead th {\n",
              "        text-align: right;\n",
              "    }\n",
              "</style>\n",
              "<table border=\"1\" class=\"dataframe\">\n",
              "  <thead>\n",
              "    <tr style=\"text-align: right;\">\n",
              "      <th></th>\n",
              "      <th>frame</th>\n",
              "      <th>face_id</th>\n",
              "      <th>timestamp</th>\n",
              "      <th>confidence</th>\n",
              "      <th>success</th>\n",
              "      <th>gaze_0_x</th>\n",
              "      <th>gaze_0_y</th>\n",
              "      <th>gaze_0_z</th>\n",
              "      <th>gaze_1_x</th>\n",
              "      <th>gaze_1_y</th>\n",
              "      <th>...</th>\n",
              "      <th>AU23_c</th>\n",
              "      <th>AU25_c</th>\n",
              "      <th>AU26_c</th>\n",
              "      <th>AU28_c</th>\n",
              "      <th>AU45_c</th>\n",
              "      <th>Valence</th>\n",
              "      <th>Arousal</th>\n",
              "      <th>Dominance</th>\n",
              "      <th>Liking</th>\n",
              "      <th>source_file</th>\n",
              "    </tr>\n",
              "  </thead>\n",
              "  <tbody>\n",
              "    <tr>\n",
              "      <th>0</th>\n",
              "      <td>1</td>\n",
              "      <td>0</td>\n",
              "      <td>0.00</td>\n",
              "      <td>0.98</td>\n",
              "      <td>1</td>\n",
              "      <td>-0.038215</td>\n",
              "      <td>0.186270</td>\n",
              "      <td>-0.981755</td>\n",
              "      <td>-0.243648</td>\n",
              "      <td>0.195652</td>\n",
              "      <td>...</td>\n",
              "      <td>0.0</td>\n",
              "      <td>0.0</td>\n",
              "      <td>0.0</td>\n",
              "      <td>0.0</td>\n",
              "      <td>0.0</td>\n",
              "      <td>6.96</td>\n",
              "      <td>3.92</td>\n",
              "      <td>7.19</td>\n",
              "      <td>6.05</td>\n",
              "      <td>s01_trial01.csv</td>\n",
              "    </tr>\n",
              "    <tr>\n",
              "      <th>1</th>\n",
              "      <td>2</td>\n",
              "      <td>0</td>\n",
              "      <td>0.02</td>\n",
              "      <td>0.98</td>\n",
              "      <td>1</td>\n",
              "      <td>-0.040259</td>\n",
              "      <td>0.178876</td>\n",
              "      <td>-0.983048</td>\n",
              "      <td>-0.237609</td>\n",
              "      <td>0.181597</td>\n",
              "      <td>...</td>\n",
              "      <td>0.0</td>\n",
              "      <td>0.0</td>\n",
              "      <td>0.0</td>\n",
              "      <td>0.0</td>\n",
              "      <td>0.0</td>\n",
              "      <td>6.96</td>\n",
              "      <td>3.92</td>\n",
              "      <td>7.19</td>\n",
              "      <td>6.05</td>\n",
              "      <td>s01_trial01.csv</td>\n",
              "    </tr>\n",
              "    <tr>\n",
              "      <th>2</th>\n",
              "      <td>3</td>\n",
              "      <td>0</td>\n",
              "      <td>0.04</td>\n",
              "      <td>0.98</td>\n",
              "      <td>1</td>\n",
              "      <td>-0.046330</td>\n",
              "      <td>0.173340</td>\n",
              "      <td>-0.983772</td>\n",
              "      <td>-0.241295</td>\n",
              "      <td>0.180079</td>\n",
              "      <td>...</td>\n",
              "      <td>0.0</td>\n",
              "      <td>0.0</td>\n",
              "      <td>0.0</td>\n",
              "      <td>0.0</td>\n",
              "      <td>0.0</td>\n",
              "      <td>6.96</td>\n",
              "      <td>3.92</td>\n",
              "      <td>7.19</td>\n",
              "      <td>6.05</td>\n",
              "      <td>s01_trial01.csv</td>\n",
              "    </tr>\n",
              "    <tr>\n",
              "      <th>3</th>\n",
              "      <td>4</td>\n",
              "      <td>0</td>\n",
              "      <td>0.06</td>\n",
              "      <td>0.98</td>\n",
              "      <td>1</td>\n",
              "      <td>-0.046832</td>\n",
              "      <td>0.176331</td>\n",
              "      <td>-0.983216</td>\n",
              "      <td>-0.237119</td>\n",
              "      <td>0.184595</td>\n",
              "      <td>...</td>\n",
              "      <td>0.0</td>\n",
              "      <td>0.0</td>\n",
              "      <td>0.0</td>\n",
              "      <td>0.0</td>\n",
              "      <td>0.0</td>\n",
              "      <td>6.96</td>\n",
              "      <td>3.92</td>\n",
              "      <td>7.19</td>\n",
              "      <td>6.05</td>\n",
              "      <td>s01_trial01.csv</td>\n",
              "    </tr>\n",
              "    <tr>\n",
              "      <th>4</th>\n",
              "      <td>5</td>\n",
              "      <td>0</td>\n",
              "      <td>0.08</td>\n",
              "      <td>0.98</td>\n",
              "      <td>1</td>\n",
              "      <td>-0.051189</td>\n",
              "      <td>0.178612</td>\n",
              "      <td>-0.982587</td>\n",
              "      <td>-0.237575</td>\n",
              "      <td>0.187091</td>\n",
              "      <td>...</td>\n",
              "      <td>0.0</td>\n",
              "      <td>0.0</td>\n",
              "      <td>0.0</td>\n",
              "      <td>0.0</td>\n",
              "      <td>0.0</td>\n",
              "      <td>6.96</td>\n",
              "      <td>3.92</td>\n",
              "      <td>7.19</td>\n",
              "      <td>6.05</td>\n",
              "      <td>s01_trial01.csv</td>\n",
              "    </tr>\n",
              "    <tr>\n",
              "      <th>...</th>\n",
              "      <td>...</td>\n",
              "      <td>...</td>\n",
              "      <td>...</td>\n",
              "      <td>...</td>\n",
              "      <td>...</td>\n",
              "      <td>...</td>\n",
              "      <td>...</td>\n",
              "      <td>...</td>\n",
              "      <td>...</td>\n",
              "      <td>...</td>\n",
              "      <td>...</td>\n",
              "      <td>...</td>\n",
              "      <td>...</td>\n",
              "      <td>...</td>\n",
              "      <td>...</td>\n",
              "      <td>...</td>\n",
              "      <td>...</td>\n",
              "      <td>...</td>\n",
              "      <td>...</td>\n",
              "      <td>...</td>\n",
              "      <td>...</td>\n",
              "    </tr>\n",
              "    <tr>\n",
              "      <th>2591995</th>\n",
              "      <td>2996</td>\n",
              "      <td>0</td>\n",
              "      <td>59.90</td>\n",
              "      <td>0.98</td>\n",
              "      <td>1</td>\n",
              "      <td>0.040680</td>\n",
              "      <td>0.144007</td>\n",
              "      <td>-0.988740</td>\n",
              "      <td>-0.062873</td>\n",
              "      <td>0.154431</td>\n",
              "      <td>...</td>\n",
              "      <td>0.0</td>\n",
              "      <td>0.0</td>\n",
              "      <td>0.0</td>\n",
              "      <td>0.0</td>\n",
              "      <td>0.0</td>\n",
              "      <td>7.06</td>\n",
              "      <td>5.99</td>\n",
              "      <td>6.04</td>\n",
              "      <td>7.05</td>\n",
              "      <td>s22_trial40.csv</td>\n",
              "    </tr>\n",
              "    <tr>\n",
              "      <th>2591996</th>\n",
              "      <td>2997</td>\n",
              "      <td>0</td>\n",
              "      <td>59.92</td>\n",
              "      <td>0.98</td>\n",
              "      <td>1</td>\n",
              "      <td>0.042779</td>\n",
              "      <td>0.138047</td>\n",
              "      <td>-0.989501</td>\n",
              "      <td>-0.052650</td>\n",
              "      <td>0.157885</td>\n",
              "      <td>...</td>\n",
              "      <td>0.0</td>\n",
              "      <td>0.0</td>\n",
              "      <td>0.0</td>\n",
              "      <td>0.0</td>\n",
              "      <td>0.0</td>\n",
              "      <td>7.06</td>\n",
              "      <td>5.99</td>\n",
              "      <td>6.04</td>\n",
              "      <td>7.05</td>\n",
              "      <td>s22_trial40.csv</td>\n",
              "    </tr>\n",
              "    <tr>\n",
              "      <th>2591997</th>\n",
              "      <td>2998</td>\n",
              "      <td>0</td>\n",
              "      <td>59.94</td>\n",
              "      <td>0.98</td>\n",
              "      <td>1</td>\n",
              "      <td>0.030957</td>\n",
              "      <td>0.148650</td>\n",
              "      <td>-0.988405</td>\n",
              "      <td>-0.062896</td>\n",
              "      <td>0.150866</td>\n",
              "      <td>...</td>\n",
              "      <td>0.0</td>\n",
              "      <td>0.0</td>\n",
              "      <td>0.0</td>\n",
              "      <td>0.0</td>\n",
              "      <td>0.0</td>\n",
              "      <td>7.06</td>\n",
              "      <td>5.99</td>\n",
              "      <td>6.04</td>\n",
              "      <td>7.05</td>\n",
              "      <td>s22_trial40.csv</td>\n",
              "    </tr>\n",
              "    <tr>\n",
              "      <th>2591998</th>\n",
              "      <td>2999</td>\n",
              "      <td>0</td>\n",
              "      <td>59.96</td>\n",
              "      <td>0.98</td>\n",
              "      <td>1</td>\n",
              "      <td>0.042978</td>\n",
              "      <td>0.181350</td>\n",
              "      <td>-0.982479</td>\n",
              "      <td>-0.073645</td>\n",
              "      <td>0.167846</td>\n",
              "      <td>...</td>\n",
              "      <td>0.0</td>\n",
              "      <td>0.0</td>\n",
              "      <td>0.0</td>\n",
              "      <td>0.0</td>\n",
              "      <td>0.0</td>\n",
              "      <td>7.06</td>\n",
              "      <td>5.99</td>\n",
              "      <td>6.04</td>\n",
              "      <td>7.05</td>\n",
              "      <td>s22_trial40.csv</td>\n",
              "    </tr>\n",
              "    <tr>\n",
              "      <th>2591999</th>\n",
              "      <td>3000</td>\n",
              "      <td>0</td>\n",
              "      <td>59.98</td>\n",
              "      <td>0.98</td>\n",
              "      <td>1</td>\n",
              "      <td>0.047422</td>\n",
              "      <td>0.205514</td>\n",
              "      <td>-0.977505</td>\n",
              "      <td>-0.053032</td>\n",
              "      <td>0.226628</td>\n",
              "      <td>...</td>\n",
              "      <td>0.0</td>\n",
              "      <td>0.0</td>\n",
              "      <td>0.0</td>\n",
              "      <td>0.0</td>\n",
              "      <td>0.0</td>\n",
              "      <td>7.06</td>\n",
              "      <td>5.99</td>\n",
              "      <td>6.04</td>\n",
              "      <td>7.05</td>\n",
              "      <td>s22_trial40.csv</td>\n",
              "    </tr>\n",
              "  </tbody>\n",
              "</table>\n",
              "<p>2592000 rows × 719 columns</p>\n",
              "</div>\n",
              "    <div class=\"colab-df-buttons\">\n",
              "\n",
              "  <div class=\"colab-df-container\">\n",
              "    <button class=\"colab-df-convert\" onclick=\"convertToInteractive('df-0c3f9d09-ac59-428b-8bcc-19adecfa2ac9')\"\n",
              "            title=\"Convert this dataframe to an interactive table.\"\n",
              "            style=\"display:none;\">\n",
              "\n",
              "  <svg xmlns=\"http://www.w3.org/2000/svg\" height=\"24px\" viewBox=\"0 -960 960 960\">\n",
              "    <path d=\"M120-120v-720h720v720H120Zm60-500h600v-160H180v160Zm220 220h160v-160H400v160Zm0 220h160v-160H400v160ZM180-400h160v-160H180v160Zm440 0h160v-160H620v160ZM180-180h160v-160H180v160Zm440 0h160v-160H620v160Z\"/>\n",
              "  </svg>\n",
              "    </button>\n",
              "\n",
              "  <style>\n",
              "    .colab-df-container {\n",
              "      display:flex;\n",
              "      gap: 12px;\n",
              "    }\n",
              "\n",
              "    .colab-df-convert {\n",
              "      background-color: #E8F0FE;\n",
              "      border: none;\n",
              "      border-radius: 50%;\n",
              "      cursor: pointer;\n",
              "      display: none;\n",
              "      fill: #1967D2;\n",
              "      height: 32px;\n",
              "      padding: 0 0 0 0;\n",
              "      width: 32px;\n",
              "    }\n",
              "\n",
              "    .colab-df-convert:hover {\n",
              "      background-color: #E2EBFA;\n",
              "      box-shadow: 0px 1px 2px rgba(60, 64, 67, 0.3), 0px 1px 3px 1px rgba(60, 64, 67, 0.15);\n",
              "      fill: #174EA6;\n",
              "    }\n",
              "\n",
              "    .colab-df-buttons div {\n",
              "      margin-bottom: 4px;\n",
              "    }\n",
              "\n",
              "    [theme=dark] .colab-df-convert {\n",
              "      background-color: #3B4455;\n",
              "      fill: #D2E3FC;\n",
              "    }\n",
              "\n",
              "    [theme=dark] .colab-df-convert:hover {\n",
              "      background-color: #434B5C;\n",
              "      box-shadow: 0px 1px 3px 1px rgba(0, 0, 0, 0.15);\n",
              "      filter: drop-shadow(0px 1px 2px rgba(0, 0, 0, 0.3));\n",
              "      fill: #FFFFFF;\n",
              "    }\n",
              "  </style>\n",
              "\n",
              "    <script>\n",
              "      const buttonEl =\n",
              "        document.querySelector('#df-0c3f9d09-ac59-428b-8bcc-19adecfa2ac9 button.colab-df-convert');\n",
              "      buttonEl.style.display =\n",
              "        google.colab.kernel.accessAllowed ? 'block' : 'none';\n",
              "\n",
              "      async function convertToInteractive(key) {\n",
              "        const element = document.querySelector('#df-0c3f9d09-ac59-428b-8bcc-19adecfa2ac9');\n",
              "        const dataTable =\n",
              "          await google.colab.kernel.invokeFunction('convertToInteractive',\n",
              "                                                    [key], {});\n",
              "        if (!dataTable) return;\n",
              "\n",
              "        const docLinkHtml = 'Like what you see? Visit the ' +\n",
              "          '<a target=\"_blank\" href=https://colab.research.google.com/notebooks/data_table.ipynb>data table notebook</a>'\n",
              "          + ' to learn more about interactive tables.';\n",
              "        element.innerHTML = '';\n",
              "        dataTable['output_type'] = 'display_data';\n",
              "        await google.colab.output.renderOutput(dataTable, element);\n",
              "        const docLink = document.createElement('div');\n",
              "        docLink.innerHTML = docLinkHtml;\n",
              "        element.appendChild(docLink);\n",
              "      }\n",
              "    </script>\n",
              "  </div>\n",
              "\n",
              "\n",
              "<div id=\"df-4a8c9a3c-3fa7-4821-9999-3a07c0ec9674\">\n",
              "  <button class=\"colab-df-quickchart\" onclick=\"quickchart('df-4a8c9a3c-3fa7-4821-9999-3a07c0ec9674')\"\n",
              "            title=\"Suggest charts\"\n",
              "            style=\"display:none;\">\n",
              "\n",
              "<svg xmlns=\"http://www.w3.org/2000/svg\" height=\"24px\"viewBox=\"0 0 24 24\"\n",
              "     width=\"24px\">\n",
              "    <g>\n",
              "        <path d=\"M19 3H5c-1.1 0-2 .9-2 2v14c0 1.1.9 2 2 2h14c1.1 0 2-.9 2-2V5c0-1.1-.9-2-2-2zM9 17H7v-7h2v7zm4 0h-2V7h2v10zm4 0h-2v-4h2v4z\"/>\n",
              "    </g>\n",
              "</svg>\n",
              "  </button>\n",
              "\n",
              "<style>\n",
              "  .colab-df-quickchart {\n",
              "      --bg-color: #E8F0FE;\n",
              "      --fill-color: #1967D2;\n",
              "      --hover-bg-color: #E2EBFA;\n",
              "      --hover-fill-color: #174EA6;\n",
              "      --disabled-fill-color: #AAA;\n",
              "      --disabled-bg-color: #DDD;\n",
              "  }\n",
              "\n",
              "  [theme=dark] .colab-df-quickchart {\n",
              "      --bg-color: #3B4455;\n",
              "      --fill-color: #D2E3FC;\n",
              "      --hover-bg-color: #434B5C;\n",
              "      --hover-fill-color: #FFFFFF;\n",
              "      --disabled-bg-color: #3B4455;\n",
              "      --disabled-fill-color: #666;\n",
              "  }\n",
              "\n",
              "  .colab-df-quickchart {\n",
              "    background-color: var(--bg-color);\n",
              "    border: none;\n",
              "    border-radius: 50%;\n",
              "    cursor: pointer;\n",
              "    display: none;\n",
              "    fill: var(--fill-color);\n",
              "    height: 32px;\n",
              "    padding: 0;\n",
              "    width: 32px;\n",
              "  }\n",
              "\n",
              "  .colab-df-quickchart:hover {\n",
              "    background-color: var(--hover-bg-color);\n",
              "    box-shadow: 0 1px 2px rgba(60, 64, 67, 0.3), 0 1px 3px 1px rgba(60, 64, 67, 0.15);\n",
              "    fill: var(--button-hover-fill-color);\n",
              "  }\n",
              "\n",
              "  .colab-df-quickchart-complete:disabled,\n",
              "  .colab-df-quickchart-complete:disabled:hover {\n",
              "    background-color: var(--disabled-bg-color);\n",
              "    fill: var(--disabled-fill-color);\n",
              "    box-shadow: none;\n",
              "  }\n",
              "\n",
              "  .colab-df-spinner {\n",
              "    border: 2px solid var(--fill-color);\n",
              "    border-color: transparent;\n",
              "    border-bottom-color: var(--fill-color);\n",
              "    animation:\n",
              "      spin 1s steps(1) infinite;\n",
              "  }\n",
              "\n",
              "  @keyframes spin {\n",
              "    0% {\n",
              "      border-color: transparent;\n",
              "      border-bottom-color: var(--fill-color);\n",
              "      border-left-color: var(--fill-color);\n",
              "    }\n",
              "    20% {\n",
              "      border-color: transparent;\n",
              "      border-left-color: var(--fill-color);\n",
              "      border-top-color: var(--fill-color);\n",
              "    }\n",
              "    30% {\n",
              "      border-color: transparent;\n",
              "      border-left-color: var(--fill-color);\n",
              "      border-top-color: var(--fill-color);\n",
              "      border-right-color: var(--fill-color);\n",
              "    }\n",
              "    40% {\n",
              "      border-color: transparent;\n",
              "      border-right-color: var(--fill-color);\n",
              "      border-top-color: var(--fill-color);\n",
              "    }\n",
              "    60% {\n",
              "      border-color: transparent;\n",
              "      border-right-color: var(--fill-color);\n",
              "    }\n",
              "    80% {\n",
              "      border-color: transparent;\n",
              "      border-right-color: var(--fill-color);\n",
              "      border-bottom-color: var(--fill-color);\n",
              "    }\n",
              "    90% {\n",
              "      border-color: transparent;\n",
              "      border-bottom-color: var(--fill-color);\n",
              "    }\n",
              "  }\n",
              "</style>\n",
              "\n",
              "  <script>\n",
              "    async function quickchart(key) {\n",
              "      const quickchartButtonEl =\n",
              "        document.querySelector('#' + key + ' button');\n",
              "      quickchartButtonEl.disabled = true;  // To prevent multiple clicks.\n",
              "      quickchartButtonEl.classList.add('colab-df-spinner');\n",
              "      try {\n",
              "        const charts = await google.colab.kernel.invokeFunction(\n",
              "            'suggestCharts', [key], {});\n",
              "      } catch (error) {\n",
              "        console.error('Error during call to suggestCharts:', error);\n",
              "      }\n",
              "      quickchartButtonEl.classList.remove('colab-df-spinner');\n",
              "      quickchartButtonEl.classList.add('colab-df-quickchart-complete');\n",
              "    }\n",
              "    (() => {\n",
              "      let quickchartButtonEl =\n",
              "        document.querySelector('#df-4a8c9a3c-3fa7-4821-9999-3a07c0ec9674 button');\n",
              "      quickchartButtonEl.style.display =\n",
              "        google.colab.kernel.accessAllowed ? 'block' : 'none';\n",
              "    })();\n",
              "  </script>\n",
              "</div>\n",
              "\n",
              "  <div id=\"id_8cdbc6e5-026c-4704-8940-4b3fae4488cd\">\n",
              "    <style>\n",
              "      .colab-df-generate {\n",
              "        background-color: #E8F0FE;\n",
              "        border: none;\n",
              "        border-radius: 50%;\n",
              "        cursor: pointer;\n",
              "        display: none;\n",
              "        fill: #1967D2;\n",
              "        height: 32px;\n",
              "        padding: 0 0 0 0;\n",
              "        width: 32px;\n",
              "      }\n",
              "\n",
              "      .colab-df-generate:hover {\n",
              "        background-color: #E2EBFA;\n",
              "        box-shadow: 0px 1px 2px rgba(60, 64, 67, 0.3), 0px 1px 3px 1px rgba(60, 64, 67, 0.15);\n",
              "        fill: #174EA6;\n",
              "      }\n",
              "\n",
              "      [theme=dark] .colab-df-generate {\n",
              "        background-color: #3B4455;\n",
              "        fill: #D2E3FC;\n",
              "      }\n",
              "\n",
              "      [theme=dark] .colab-df-generate:hover {\n",
              "        background-color: #434B5C;\n",
              "        box-shadow: 0px 1px 3px 1px rgba(0, 0, 0, 0.15);\n",
              "        filter: drop-shadow(0px 1px 2px rgba(0, 0, 0, 0.3));\n",
              "        fill: #FFFFFF;\n",
              "      }\n",
              "    </style>\n",
              "    <button class=\"colab-df-generate\" onclick=\"generateWithVariable('df')\"\n",
              "            title=\"Generate code using this dataframe.\"\n",
              "            style=\"display:none;\">\n",
              "\n",
              "  <svg xmlns=\"http://www.w3.org/2000/svg\" height=\"24px\"viewBox=\"0 0 24 24\"\n",
              "       width=\"24px\">\n",
              "    <path d=\"M7,19H8.4L18.45,9,17,7.55,7,17.6ZM5,21V16.75L18.45,3.32a2,2,0,0,1,2.83,0l1.4,1.43a1.91,1.91,0,0,1,.58,1.4,1.91,1.91,0,0,1-.58,1.4L9.25,21ZM18.45,9,17,7.55Zm-12,3A5.31,5.31,0,0,0,4.9,8.1,5.31,5.31,0,0,0,1,6.5,5.31,5.31,0,0,0,4.9,4.9,5.31,5.31,0,0,0,6.5,1,5.31,5.31,0,0,0,8.1,4.9,5.31,5.31,0,0,0,12,6.5,5.46,5.46,0,0,0,6.5,12Z\"/>\n",
              "  </svg>\n",
              "    </button>\n",
              "    <script>\n",
              "      (() => {\n",
              "      const buttonEl =\n",
              "        document.querySelector('#id_8cdbc6e5-026c-4704-8940-4b3fae4488cd button.colab-df-generate');\n",
              "      buttonEl.style.display =\n",
              "        google.colab.kernel.accessAllowed ? 'block' : 'none';\n",
              "\n",
              "      buttonEl.onclick = () => {\n",
              "        google.colab.notebook.generateWithVariable('df');\n",
              "      }\n",
              "      })();\n",
              "    </script>\n",
              "  </div>\n",
              "\n",
              "    </div>\n",
              "  </div>\n"
            ],
            "text/plain": [
              "         frame   face_id   timestamp   confidence   success   gaze_0_x  \\\n",
              "0            1         0        0.00         0.98         1  -0.038215   \n",
              "1            2         0        0.02         0.98         1  -0.040259   \n",
              "2            3         0        0.04         0.98         1  -0.046330   \n",
              "3            4         0        0.06         0.98         1  -0.046832   \n",
              "4            5         0        0.08         0.98         1  -0.051189   \n",
              "...        ...       ...         ...          ...       ...        ...   \n",
              "2591995   2996         0       59.90         0.98         1   0.040680   \n",
              "2591996   2997         0       59.92         0.98         1   0.042779   \n",
              "2591997   2998         0       59.94         0.98         1   0.030957   \n",
              "2591998   2999         0       59.96         0.98         1   0.042978   \n",
              "2591999   3000         0       59.98         0.98         1   0.047422   \n",
              "\n",
              "          gaze_0_y   gaze_0_z   gaze_1_x   gaze_1_y  ...   AU23_c   AU25_c  \\\n",
              "0         0.186270  -0.981755  -0.243648   0.195652  ...      0.0      0.0   \n",
              "1         0.178876  -0.983048  -0.237609   0.181597  ...      0.0      0.0   \n",
              "2         0.173340  -0.983772  -0.241295   0.180079  ...      0.0      0.0   \n",
              "3         0.176331  -0.983216  -0.237119   0.184595  ...      0.0      0.0   \n",
              "4         0.178612  -0.982587  -0.237575   0.187091  ...      0.0      0.0   \n",
              "...            ...        ...        ...        ...  ...      ...      ...   \n",
              "2591995   0.144007  -0.988740  -0.062873   0.154431  ...      0.0      0.0   \n",
              "2591996   0.138047  -0.989501  -0.052650   0.157885  ...      0.0      0.0   \n",
              "2591997   0.148650  -0.988405  -0.062896   0.150866  ...      0.0      0.0   \n",
              "2591998   0.181350  -0.982479  -0.073645   0.167846  ...      0.0      0.0   \n",
              "2591999   0.205514  -0.977505  -0.053032   0.226628  ...      0.0      0.0   \n",
              "\n",
              "          AU26_c   AU28_c   AU45_c  Valence  Arousal  Dominance  Liking  \\\n",
              "0            0.0      0.0      0.0     6.96     3.92       7.19    6.05   \n",
              "1            0.0      0.0      0.0     6.96     3.92       7.19    6.05   \n",
              "2            0.0      0.0      0.0     6.96     3.92       7.19    6.05   \n",
              "3            0.0      0.0      0.0     6.96     3.92       7.19    6.05   \n",
              "4            0.0      0.0      0.0     6.96     3.92       7.19    6.05   \n",
              "...          ...      ...      ...      ...      ...        ...     ...   \n",
              "2591995      0.0      0.0      0.0     7.06     5.99       6.04    7.05   \n",
              "2591996      0.0      0.0      0.0     7.06     5.99       6.04    7.05   \n",
              "2591997      0.0      0.0      0.0     7.06     5.99       6.04    7.05   \n",
              "2591998      0.0      0.0      0.0     7.06     5.99       6.04    7.05   \n",
              "2591999      0.0      0.0      0.0     7.06     5.99       6.04    7.05   \n",
              "\n",
              "             source_file  \n",
              "0        s01_trial01.csv  \n",
              "1        s01_trial01.csv  \n",
              "2        s01_trial01.csv  \n",
              "3        s01_trial01.csv  \n",
              "4        s01_trial01.csv  \n",
              "...                  ...  \n",
              "2591995  s22_trial40.csv  \n",
              "2591996  s22_trial40.csv  \n",
              "2591997  s22_trial40.csv  \n",
              "2591998  s22_trial40.csv  \n",
              "2591999  s22_trial40.csv  \n",
              "\n",
              "[2592000 rows x 719 columns]"
            ]
          },
          "execution_count": 8,
          "metadata": {},
          "output_type": "execute_result"
        }
      ],
      "source": [
        "main_df"
      ]
    },
    {
      "cell_type": "code",
      "execution_count": null,
      "metadata": {
        "colab": {
          "base_uri": "https://localhost:8080/"
        },
        "id": "Bzt1FSy_3N_A",
        "outputId": "1f28db12-d87d-4a23-f833-15c8677fa74c"
      },
      "outputs": [
        {
          "name": "stdout",
          "output_type": "stream",
          "text": [
            "<class 'pandas.core.frame.DataFrame'>\n",
            "RangeIndex: 2592000 entries, 0 to 2591999\n",
            "Columns: 719 entries, frame to source_file\n",
            "dtypes: float64(715), int64(3), object(1)\n",
            "memory usage: 13.9+ GB\n"
          ]
        }
      ],
      "source": [
        "main_df.info()"
      ]
    },
    {
      "cell_type": "code",
      "execution_count": null,
      "metadata": {
        "id": "eQyQso2DU5VZ"
      },
      "outputs": [],
      "source": [
        "#pip install openpyxl"
      ]
    },
    {
      "cell_type": "code",
      "execution_count": null,
      "metadata": {
        "colab": {
          "base_uri": "https://localhost:8080/",
          "height": 444
        },
        "id": "RfFD9MsCeEsl",
        "outputId": "51c8d19c-f891-40ad-c0f1-114c2c6dc71f"
      },
      "outputs": [
        {
          "data": {
            "application/vnd.google.colaboratory.intrinsic+json": {
              "type": "dataframe"
            },
            "text/html": [
              "\n",
              "  <div id=\"df-1441b68f-8058-4c69-b6c4-7d0d050d79e2\" class=\"colab-df-container\">\n",
              "    <div>\n",
              "<style scoped>\n",
              "    .dataframe tbody tr th:only-of-type {\n",
              "        vertical-align: middle;\n",
              "    }\n",
              "\n",
              "    .dataframe tbody tr th {\n",
              "        vertical-align: top;\n",
              "    }\n",
              "\n",
              "    .dataframe thead th {\n",
              "        text-align: right;\n",
              "    }\n",
              "</style>\n",
              "<table border=\"1\" class=\"dataframe\">\n",
              "  <thead>\n",
              "    <tr style=\"text-align: right;\">\n",
              "      <th></th>\n",
              "      <th>gaze_0_x</th>\n",
              "      <th>gaze_0_y</th>\n",
              "      <th>gaze_0_z</th>\n",
              "      <th>gaze_1_x</th>\n",
              "      <th>gaze_1_y</th>\n",
              "      <th>gaze_1_z</th>\n",
              "      <th>gaze_angle_x</th>\n",
              "      <th>gaze_angle_y</th>\n",
              "      <th>eye_lmk_x_0</th>\n",
              "      <th>eye_lmk_x_1</th>\n",
              "      <th>...</th>\n",
              "      <th>AU10_c</th>\n",
              "      <th>AU12_c</th>\n",
              "      <th>AU14_c</th>\n",
              "      <th>AU15_c</th>\n",
              "      <th>AU17_c</th>\n",
              "      <th>AU20_c</th>\n",
              "      <th>AU23_c</th>\n",
              "      <th>AU25_c</th>\n",
              "      <th>AU26_c</th>\n",
              "      <th>AU28_c</th>\n",
              "    </tr>\n",
              "  </thead>\n",
              "  <tbody>\n",
              "    <tr>\n",
              "      <th>0</th>\n",
              "      <td>-0.038215</td>\n",
              "      <td>0.186270</td>\n",
              "      <td>-0.981755</td>\n",
              "      <td>-0.243648</td>\n",
              "      <td>0.195652</td>\n",
              "      <td>-0.949924</td>\n",
              "      <td>-0.145</td>\n",
              "      <td>0.195</td>\n",
              "      <td>377.5</td>\n",
              "      <td>380.0</td>\n",
              "      <td>...</td>\n",
              "      <td>1.0</td>\n",
              "      <td>0.0</td>\n",
              "      <td>1.0</td>\n",
              "      <td>0.0</td>\n",
              "      <td>1.0</td>\n",
              "      <td>0.0</td>\n",
              "      <td>0.0</td>\n",
              "      <td>0.0</td>\n",
              "      <td>0.0</td>\n",
              "      <td>0.0</td>\n",
              "    </tr>\n",
              "    <tr>\n",
              "      <th>1</th>\n",
              "      <td>-0.040259</td>\n",
              "      <td>0.178876</td>\n",
              "      <td>-0.983048</td>\n",
              "      <td>-0.237609</td>\n",
              "      <td>0.181597</td>\n",
              "      <td>-0.954235</td>\n",
              "      <td>-0.142</td>\n",
              "      <td>0.184</td>\n",
              "      <td>377.4</td>\n",
              "      <td>380.0</td>\n",
              "      <td>...</td>\n",
              "      <td>1.0</td>\n",
              "      <td>0.0</td>\n",
              "      <td>0.0</td>\n",
              "      <td>0.0</td>\n",
              "      <td>1.0</td>\n",
              "      <td>0.0</td>\n",
              "      <td>0.0</td>\n",
              "      <td>0.0</td>\n",
              "      <td>0.0</td>\n",
              "      <td>0.0</td>\n",
              "    </tr>\n",
              "    <tr>\n",
              "      <th>2</th>\n",
              "      <td>-0.046330</td>\n",
              "      <td>0.173340</td>\n",
              "      <td>-0.983772</td>\n",
              "      <td>-0.241295</td>\n",
              "      <td>0.180079</td>\n",
              "      <td>-0.953597</td>\n",
              "      <td>-0.147</td>\n",
              "      <td>0.180</td>\n",
              "      <td>377.3</td>\n",
              "      <td>380.0</td>\n",
              "      <td>...</td>\n",
              "      <td>1.0</td>\n",
              "      <td>0.0</td>\n",
              "      <td>1.0</td>\n",
              "      <td>0.0</td>\n",
              "      <td>0.0</td>\n",
              "      <td>0.0</td>\n",
              "      <td>0.0</td>\n",
              "      <td>0.0</td>\n",
              "      <td>0.0</td>\n",
              "      <td>0.0</td>\n",
              "    </tr>\n",
              "    <tr>\n",
              "      <th>3</th>\n",
              "      <td>-0.046832</td>\n",
              "      <td>0.176331</td>\n",
              "      <td>-0.983216</td>\n",
              "      <td>-0.237119</td>\n",
              "      <td>0.184595</td>\n",
              "      <td>-0.953782</td>\n",
              "      <td>-0.146</td>\n",
              "      <td>0.184</td>\n",
              "      <td>377.2</td>\n",
              "      <td>379.8</td>\n",
              "      <td>...</td>\n",
              "      <td>1.0</td>\n",
              "      <td>0.0</td>\n",
              "      <td>0.0</td>\n",
              "      <td>0.0</td>\n",
              "      <td>0.0</td>\n",
              "      <td>0.0</td>\n",
              "      <td>0.0</td>\n",
              "      <td>0.0</td>\n",
              "      <td>0.0</td>\n",
              "      <td>0.0</td>\n",
              "    </tr>\n",
              "    <tr>\n",
              "      <th>4</th>\n",
              "      <td>-0.051189</td>\n",
              "      <td>0.178612</td>\n",
              "      <td>-0.982587</td>\n",
              "      <td>-0.237575</td>\n",
              "      <td>0.187091</td>\n",
              "      <td>-0.953182</td>\n",
              "      <td>-0.148</td>\n",
              "      <td>0.187</td>\n",
              "      <td>377.1</td>\n",
              "      <td>379.8</td>\n",
              "      <td>...</td>\n",
              "      <td>1.0</td>\n",
              "      <td>0.0</td>\n",
              "      <td>0.0</td>\n",
              "      <td>0.0</td>\n",
              "      <td>0.0</td>\n",
              "      <td>0.0</td>\n",
              "      <td>0.0</td>\n",
              "      <td>0.0</td>\n",
              "      <td>0.0</td>\n",
              "      <td>0.0</td>\n",
              "    </tr>\n",
              "    <tr>\n",
              "      <th>...</th>\n",
              "      <td>...</td>\n",
              "      <td>...</td>\n",
              "      <td>...</td>\n",
              "      <td>...</td>\n",
              "      <td>...</td>\n",
              "      <td>...</td>\n",
              "      <td>...</td>\n",
              "      <td>...</td>\n",
              "      <td>...</td>\n",
              "      <td>...</td>\n",
              "      <td>...</td>\n",
              "      <td>...</td>\n",
              "      <td>...</td>\n",
              "      <td>...</td>\n",
              "      <td>...</td>\n",
              "      <td>...</td>\n",
              "      <td>...</td>\n",
              "      <td>...</td>\n",
              "      <td>...</td>\n",
              "      <td>...</td>\n",
              "      <td>...</td>\n",
              "    </tr>\n",
              "    <tr>\n",
              "      <th>2591995</th>\n",
              "      <td>0.040680</td>\n",
              "      <td>0.144007</td>\n",
              "      <td>-0.988740</td>\n",
              "      <td>-0.062873</td>\n",
              "      <td>0.154431</td>\n",
              "      <td>-0.986001</td>\n",
              "      <td>-0.011</td>\n",
              "      <td>0.150</td>\n",
              "      <td>333.6</td>\n",
              "      <td>336.1</td>\n",
              "      <td>...</td>\n",
              "      <td>1.0</td>\n",
              "      <td>0.0</td>\n",
              "      <td>1.0</td>\n",
              "      <td>0.0</td>\n",
              "      <td>0.0</td>\n",
              "      <td>0.0</td>\n",
              "      <td>0.0</td>\n",
              "      <td>0.0</td>\n",
              "      <td>0.0</td>\n",
              "      <td>0.0</td>\n",
              "    </tr>\n",
              "    <tr>\n",
              "      <th>2591996</th>\n",
              "      <td>0.042779</td>\n",
              "      <td>0.138047</td>\n",
              "      <td>-0.989501</td>\n",
              "      <td>-0.052650</td>\n",
              "      <td>0.157885</td>\n",
              "      <td>-0.986053</td>\n",
              "      <td>-0.005</td>\n",
              "      <td>0.149</td>\n",
              "      <td>333.7</td>\n",
              "      <td>336.3</td>\n",
              "      <td>...</td>\n",
              "      <td>1.0</td>\n",
              "      <td>0.0</td>\n",
              "      <td>1.0</td>\n",
              "      <td>0.0</td>\n",
              "      <td>0.0</td>\n",
              "      <td>0.0</td>\n",
              "      <td>0.0</td>\n",
              "      <td>0.0</td>\n",
              "      <td>0.0</td>\n",
              "      <td>0.0</td>\n",
              "    </tr>\n",
              "    <tr>\n",
              "      <th>2591997</th>\n",
              "      <td>0.030957</td>\n",
              "      <td>0.148650</td>\n",
              "      <td>-0.988405</td>\n",
              "      <td>-0.062896</td>\n",
              "      <td>0.150866</td>\n",
              "      <td>-0.986551</td>\n",
              "      <td>-0.016</td>\n",
              "      <td>0.151</td>\n",
              "      <td>333.7</td>\n",
              "      <td>336.2</td>\n",
              "      <td>...</td>\n",
              "      <td>1.0</td>\n",
              "      <td>0.0</td>\n",
              "      <td>1.0</td>\n",
              "      <td>0.0</td>\n",
              "      <td>0.0</td>\n",
              "      <td>0.0</td>\n",
              "      <td>0.0</td>\n",
              "      <td>0.0</td>\n",
              "      <td>0.0</td>\n",
              "      <td>0.0</td>\n",
              "    </tr>\n",
              "    <tr>\n",
              "      <th>2591998</th>\n",
              "      <td>0.042978</td>\n",
              "      <td>0.181350</td>\n",
              "      <td>-0.982479</td>\n",
              "      <td>-0.073645</td>\n",
              "      <td>0.167846</td>\n",
              "      <td>-0.983059</td>\n",
              "      <td>-0.016</td>\n",
              "      <td>0.176</td>\n",
              "      <td>333.9</td>\n",
              "      <td>336.2</td>\n",
              "      <td>...</td>\n",
              "      <td>1.0</td>\n",
              "      <td>0.0</td>\n",
              "      <td>1.0</td>\n",
              "      <td>0.0</td>\n",
              "      <td>0.0</td>\n",
              "      <td>0.0</td>\n",
              "      <td>0.0</td>\n",
              "      <td>0.0</td>\n",
              "      <td>0.0</td>\n",
              "      <td>0.0</td>\n",
              "    </tr>\n",
              "    <tr>\n",
              "      <th>2591999</th>\n",
              "      <td>0.047422</td>\n",
              "      <td>0.205514</td>\n",
              "      <td>-0.977505</td>\n",
              "      <td>-0.053032</td>\n",
              "      <td>0.226628</td>\n",
              "      <td>-0.972536</td>\n",
              "      <td>-0.003</td>\n",
              "      <td>0.218</td>\n",
              "      <td>334.5</td>\n",
              "      <td>336.9</td>\n",
              "      <td>...</td>\n",
              "      <td>1.0</td>\n",
              "      <td>0.0</td>\n",
              "      <td>1.0</td>\n",
              "      <td>0.0</td>\n",
              "      <td>0.0</td>\n",
              "      <td>0.0</td>\n",
              "      <td>0.0</td>\n",
              "      <td>0.0</td>\n",
              "      <td>0.0</td>\n",
              "      <td>0.0</td>\n",
              "    </tr>\n",
              "  </tbody>\n",
              "</table>\n",
              "<p>2592000 rows × 708 columns</p>\n",
              "</div>\n",
              "    <div class=\"colab-df-buttons\">\n",
              "\n",
              "  <div class=\"colab-df-container\">\n",
              "    <button class=\"colab-df-convert\" onclick=\"convertToInteractive('df-1441b68f-8058-4c69-b6c4-7d0d050d79e2')\"\n",
              "            title=\"Convert this dataframe to an interactive table.\"\n",
              "            style=\"display:none;\">\n",
              "\n",
              "  <svg xmlns=\"http://www.w3.org/2000/svg\" height=\"24px\" viewBox=\"0 -960 960 960\">\n",
              "    <path d=\"M120-120v-720h720v720H120Zm60-500h600v-160H180v160Zm220 220h160v-160H400v160Zm0 220h160v-160H400v160ZM180-400h160v-160H180v160Zm440 0h160v-160H620v160ZM180-180h160v-160H180v160Zm440 0h160v-160H620v160Z\"/>\n",
              "  </svg>\n",
              "    </button>\n",
              "\n",
              "  <style>\n",
              "    .colab-df-container {\n",
              "      display:flex;\n",
              "      gap: 12px;\n",
              "    }\n",
              "\n",
              "    .colab-df-convert {\n",
              "      background-color: #E8F0FE;\n",
              "      border: none;\n",
              "      border-radius: 50%;\n",
              "      cursor: pointer;\n",
              "      display: none;\n",
              "      fill: #1967D2;\n",
              "      height: 32px;\n",
              "      padding: 0 0 0 0;\n",
              "      width: 32px;\n",
              "    }\n",
              "\n",
              "    .colab-df-convert:hover {\n",
              "      background-color: #E2EBFA;\n",
              "      box-shadow: 0px 1px 2px rgba(60, 64, 67, 0.3), 0px 1px 3px 1px rgba(60, 64, 67, 0.15);\n",
              "      fill: #174EA6;\n",
              "    }\n",
              "\n",
              "    .colab-df-buttons div {\n",
              "      margin-bottom: 4px;\n",
              "    }\n",
              "\n",
              "    [theme=dark] .colab-df-convert {\n",
              "      background-color: #3B4455;\n",
              "      fill: #D2E3FC;\n",
              "    }\n",
              "\n",
              "    [theme=dark] .colab-df-convert:hover {\n",
              "      background-color: #434B5C;\n",
              "      box-shadow: 0px 1px 3px 1px rgba(0, 0, 0, 0.15);\n",
              "      filter: drop-shadow(0px 1px 2px rgba(0, 0, 0, 0.3));\n",
              "      fill: #FFFFFF;\n",
              "    }\n",
              "  </style>\n",
              "\n",
              "    <script>\n",
              "      const buttonEl =\n",
              "        document.querySelector('#df-1441b68f-8058-4c69-b6c4-7d0d050d79e2 button.colab-df-convert');\n",
              "      buttonEl.style.display =\n",
              "        google.colab.kernel.accessAllowed ? 'block' : 'none';\n",
              "\n",
              "      async function convertToInteractive(key) {\n",
              "        const element = document.querySelector('#df-1441b68f-8058-4c69-b6c4-7d0d050d79e2');\n",
              "        const dataTable =\n",
              "          await google.colab.kernel.invokeFunction('convertToInteractive',\n",
              "                                                    [key], {});\n",
              "        if (!dataTable) return;\n",
              "\n",
              "        const docLinkHtml = 'Like what you see? Visit the ' +\n",
              "          '<a target=\"_blank\" href=https://colab.research.google.com/notebooks/data_table.ipynb>data table notebook</a>'\n",
              "          + ' to learn more about interactive tables.';\n",
              "        element.innerHTML = '';\n",
              "        dataTable['output_type'] = 'display_data';\n",
              "        await google.colab.output.renderOutput(dataTable, element);\n",
              "        const docLink = document.createElement('div');\n",
              "        docLink.innerHTML = docLinkHtml;\n",
              "        element.appendChild(docLink);\n",
              "      }\n",
              "    </script>\n",
              "  </div>\n",
              "\n",
              "\n",
              "<div id=\"df-e5a93f8d-7e78-4299-889c-f471712b56fd\">\n",
              "  <button class=\"colab-df-quickchart\" onclick=\"quickchart('df-e5a93f8d-7e78-4299-889c-f471712b56fd')\"\n",
              "            title=\"Suggest charts\"\n",
              "            style=\"display:none;\">\n",
              "\n",
              "<svg xmlns=\"http://www.w3.org/2000/svg\" height=\"24px\"viewBox=\"0 0 24 24\"\n",
              "     width=\"24px\">\n",
              "    <g>\n",
              "        <path d=\"M19 3H5c-1.1 0-2 .9-2 2v14c0 1.1.9 2 2 2h14c1.1 0 2-.9 2-2V5c0-1.1-.9-2-2-2zM9 17H7v-7h2v7zm4 0h-2V7h2v10zm4 0h-2v-4h2v4z\"/>\n",
              "    </g>\n",
              "</svg>\n",
              "  </button>\n",
              "\n",
              "<style>\n",
              "  .colab-df-quickchart {\n",
              "      --bg-color: #E8F0FE;\n",
              "      --fill-color: #1967D2;\n",
              "      --hover-bg-color: #E2EBFA;\n",
              "      --hover-fill-color: #174EA6;\n",
              "      --disabled-fill-color: #AAA;\n",
              "      --disabled-bg-color: #DDD;\n",
              "  }\n",
              "\n",
              "  [theme=dark] .colab-df-quickchart {\n",
              "      --bg-color: #3B4455;\n",
              "      --fill-color: #D2E3FC;\n",
              "      --hover-bg-color: #434B5C;\n",
              "      --hover-fill-color: #FFFFFF;\n",
              "      --disabled-bg-color: #3B4455;\n",
              "      --disabled-fill-color: #666;\n",
              "  }\n",
              "\n",
              "  .colab-df-quickchart {\n",
              "    background-color: var(--bg-color);\n",
              "    border: none;\n",
              "    border-radius: 50%;\n",
              "    cursor: pointer;\n",
              "    display: none;\n",
              "    fill: var(--fill-color);\n",
              "    height: 32px;\n",
              "    padding: 0;\n",
              "    width: 32px;\n",
              "  }\n",
              "\n",
              "  .colab-df-quickchart:hover {\n",
              "    background-color: var(--hover-bg-color);\n",
              "    box-shadow: 0 1px 2px rgba(60, 64, 67, 0.3), 0 1px 3px 1px rgba(60, 64, 67, 0.15);\n",
              "    fill: var(--button-hover-fill-color);\n",
              "  }\n",
              "\n",
              "  .colab-df-quickchart-complete:disabled,\n",
              "  .colab-df-quickchart-complete:disabled:hover {\n",
              "    background-color: var(--disabled-bg-color);\n",
              "    fill: var(--disabled-fill-color);\n",
              "    box-shadow: none;\n",
              "  }\n",
              "\n",
              "  .colab-df-spinner {\n",
              "    border: 2px solid var(--fill-color);\n",
              "    border-color: transparent;\n",
              "    border-bottom-color: var(--fill-color);\n",
              "    animation:\n",
              "      spin 1s steps(1) infinite;\n",
              "  }\n",
              "\n",
              "  @keyframes spin {\n",
              "    0% {\n",
              "      border-color: transparent;\n",
              "      border-bottom-color: var(--fill-color);\n",
              "      border-left-color: var(--fill-color);\n",
              "    }\n",
              "    20% {\n",
              "      border-color: transparent;\n",
              "      border-left-color: var(--fill-color);\n",
              "      border-top-color: var(--fill-color);\n",
              "    }\n",
              "    30% {\n",
              "      border-color: transparent;\n",
              "      border-left-color: var(--fill-color);\n",
              "      border-top-color: var(--fill-color);\n",
              "      border-right-color: var(--fill-color);\n",
              "    }\n",
              "    40% {\n",
              "      border-color: transparent;\n",
              "      border-right-color: var(--fill-color);\n",
              "      border-top-color: var(--fill-color);\n",
              "    }\n",
              "    60% {\n",
              "      border-color: transparent;\n",
              "      border-right-color: var(--fill-color);\n",
              "    }\n",
              "    80% {\n",
              "      border-color: transparent;\n",
              "      border-right-color: var(--fill-color);\n",
              "      border-bottom-color: var(--fill-color);\n",
              "    }\n",
              "    90% {\n",
              "      border-color: transparent;\n",
              "      border-bottom-color: var(--fill-color);\n",
              "    }\n",
              "  }\n",
              "</style>\n",
              "\n",
              "  <script>\n",
              "    async function quickchart(key) {\n",
              "      const quickchartButtonEl =\n",
              "        document.querySelector('#' + key + ' button');\n",
              "      quickchartButtonEl.disabled = true;  // To prevent multiple clicks.\n",
              "      quickchartButtonEl.classList.add('colab-df-spinner');\n",
              "      try {\n",
              "        const charts = await google.colab.kernel.invokeFunction(\n",
              "            'suggestCharts', [key], {});\n",
              "      } catch (error) {\n",
              "        console.error('Error during call to suggestCharts:', error);\n",
              "      }\n",
              "      quickchartButtonEl.classList.remove('colab-df-spinner');\n",
              "      quickchartButtonEl.classList.add('colab-df-quickchart-complete');\n",
              "    }\n",
              "    (() => {\n",
              "      let quickchartButtonEl =\n",
              "        document.querySelector('#df-e5a93f8d-7e78-4299-889c-f471712b56fd button');\n",
              "      quickchartButtonEl.style.display =\n",
              "        google.colab.kernel.accessAllowed ? 'block' : 'none';\n",
              "    })();\n",
              "  </script>\n",
              "</div>\n",
              "\n",
              "    </div>\n",
              "  </div>\n"
            ],
            "text/plain": [
              "         gaze_0_x  gaze_0_y  gaze_0_z  gaze_1_x  gaze_1_y  gaze_1_z  \\\n",
              "0       -0.038215  0.186270 -0.981755 -0.243648  0.195652 -0.949924   \n",
              "1       -0.040259  0.178876 -0.983048 -0.237609  0.181597 -0.954235   \n",
              "2       -0.046330  0.173340 -0.983772 -0.241295  0.180079 -0.953597   \n",
              "3       -0.046832  0.176331 -0.983216 -0.237119  0.184595 -0.953782   \n",
              "4       -0.051189  0.178612 -0.982587 -0.237575  0.187091 -0.953182   \n",
              "...           ...       ...       ...       ...       ...       ...   \n",
              "2591995  0.040680  0.144007 -0.988740 -0.062873  0.154431 -0.986001   \n",
              "2591996  0.042779  0.138047 -0.989501 -0.052650  0.157885 -0.986053   \n",
              "2591997  0.030957  0.148650 -0.988405 -0.062896  0.150866 -0.986551   \n",
              "2591998  0.042978  0.181350 -0.982479 -0.073645  0.167846 -0.983059   \n",
              "2591999  0.047422  0.205514 -0.977505 -0.053032  0.226628 -0.972536   \n",
              "\n",
              "         gaze_angle_x  gaze_angle_y  eye_lmk_x_0  eye_lmk_x_1  ...  AU10_c  \\\n",
              "0              -0.145         0.195        377.5        380.0  ...     1.0   \n",
              "1              -0.142         0.184        377.4        380.0  ...     1.0   \n",
              "2              -0.147         0.180        377.3        380.0  ...     1.0   \n",
              "3              -0.146         0.184        377.2        379.8  ...     1.0   \n",
              "4              -0.148         0.187        377.1        379.8  ...     1.0   \n",
              "...               ...           ...          ...          ...  ...     ...   \n",
              "2591995        -0.011         0.150        333.6        336.1  ...     1.0   \n",
              "2591996        -0.005         0.149        333.7        336.3  ...     1.0   \n",
              "2591997        -0.016         0.151        333.7        336.2  ...     1.0   \n",
              "2591998        -0.016         0.176        333.9        336.2  ...     1.0   \n",
              "2591999        -0.003         0.218        334.5        336.9  ...     1.0   \n",
              "\n",
              "         AU12_c  AU14_c  AU15_c  AU17_c  AU20_c  AU23_c  AU25_c  AU26_c  \\\n",
              "0           0.0     1.0     0.0     1.0     0.0     0.0     0.0     0.0   \n",
              "1           0.0     0.0     0.0     1.0     0.0     0.0     0.0     0.0   \n",
              "2           0.0     1.0     0.0     0.0     0.0     0.0     0.0     0.0   \n",
              "3           0.0     0.0     0.0     0.0     0.0     0.0     0.0     0.0   \n",
              "4           0.0     0.0     0.0     0.0     0.0     0.0     0.0     0.0   \n",
              "...         ...     ...     ...     ...     ...     ...     ...     ...   \n",
              "2591995     0.0     1.0     0.0     0.0     0.0     0.0     0.0     0.0   \n",
              "2591996     0.0     1.0     0.0     0.0     0.0     0.0     0.0     0.0   \n",
              "2591997     0.0     1.0     0.0     0.0     0.0     0.0     0.0     0.0   \n",
              "2591998     0.0     1.0     0.0     0.0     0.0     0.0     0.0     0.0   \n",
              "2591999     0.0     1.0     0.0     0.0     0.0     0.0     0.0     0.0   \n",
              "\n",
              "         AU28_c  \n",
              "0           0.0  \n",
              "1           0.0  \n",
              "2           0.0  \n",
              "3           0.0  \n",
              "4           0.0  \n",
              "...         ...  \n",
              "2591995     0.0  \n",
              "2591996     0.0  \n",
              "2591997     0.0  \n",
              "2591998     0.0  \n",
              "2591999     0.0  \n",
              "\n",
              "[2592000 rows x 708 columns]"
            ]
          },
          "execution_count": 16,
          "metadata": {},
          "output_type": "execute_result"
        }
      ],
      "source": [
        "main_df.iloc[:, 5:-6]"
      ]
    },
    {
      "cell_type": "code",
      "execution_count": null,
      "metadata": {
        "id": "uNkkUCBGetDH"
      },
      "outputs": [],
      "source": [
        "from sklearn.model_selection import train_test_split\n",
        "from tensorflow.keras.models import Sequential\n",
        "from tensorflow.keras.layers import Dense, Dropout\n",
        "from tensorflow.keras.optimizers import Adam\n",
        "from sklearn.preprocessing import StandardScaler\n",
        "import matplotlib.pyplot as plt\n",
        "from sklearn.metrics import confusion_matrix, ConfusionMatrixDisplay"
      ]
    },
    {
      "cell_type": "markdown",
      "metadata": {
        "id": "FYZzPAqBekIW"
      },
      "source": [
        "# **Arousal**"
      ]
    },
    {
      "cell_type": "code",
      "execution_count": null,
      "metadata": {
        "colab": {
          "base_uri": "https://localhost:8080/",
          "height": 458
        },
        "id": "djpg9ySsekoo",
        "outputId": "3251ed6b-bbdd-466a-d69a-4516fb04d29d"
      },
      "outputs": [
        {
          "data": {
            "text/html": [
              "<div>\n",
              "<style scoped>\n",
              "    .dataframe tbody tr th:only-of-type {\n",
              "        vertical-align: middle;\n",
              "    }\n",
              "\n",
              "    .dataframe tbody tr th {\n",
              "        vertical-align: top;\n",
              "    }\n",
              "\n",
              "    .dataframe thead th {\n",
              "        text-align: right;\n",
              "    }\n",
              "</style>\n",
              "<table border=\"1\" class=\"dataframe\">\n",
              "  <thead>\n",
              "    <tr style=\"text-align: right;\">\n",
              "      <th></th>\n",
              "      <th>Arousal</th>\n",
              "    </tr>\n",
              "  </thead>\n",
              "  <tbody>\n",
              "    <tr>\n",
              "      <th>0</th>\n",
              "      <td>3.92</td>\n",
              "    </tr>\n",
              "    <tr>\n",
              "      <th>1</th>\n",
              "      <td>3.92</td>\n",
              "    </tr>\n",
              "    <tr>\n",
              "      <th>2</th>\n",
              "      <td>3.92</td>\n",
              "    </tr>\n",
              "    <tr>\n",
              "      <th>3</th>\n",
              "      <td>3.92</td>\n",
              "    </tr>\n",
              "    <tr>\n",
              "      <th>4</th>\n",
              "      <td>3.92</td>\n",
              "    </tr>\n",
              "    <tr>\n",
              "      <th>...</th>\n",
              "      <td>...</td>\n",
              "    </tr>\n",
              "    <tr>\n",
              "      <th>2591995</th>\n",
              "      <td>5.99</td>\n",
              "    </tr>\n",
              "    <tr>\n",
              "      <th>2591996</th>\n",
              "      <td>5.99</td>\n",
              "    </tr>\n",
              "    <tr>\n",
              "      <th>2591997</th>\n",
              "      <td>5.99</td>\n",
              "    </tr>\n",
              "    <tr>\n",
              "      <th>2591998</th>\n",
              "      <td>5.99</td>\n",
              "    </tr>\n",
              "    <tr>\n",
              "      <th>2591999</th>\n",
              "      <td>5.99</td>\n",
              "    </tr>\n",
              "  </tbody>\n",
              "</table>\n",
              "<p>2592000 rows × 1 columns</p>\n",
              "</div><br><label><b>dtype:</b> float64</label>"
            ],
            "text/plain": [
              "0          3.92\n",
              "1          3.92\n",
              "2          3.92\n",
              "3          3.92\n",
              "4          3.92\n",
              "           ... \n",
              "2591995    5.99\n",
              "2591996    5.99\n",
              "2591997    5.99\n",
              "2591998    5.99\n",
              "2591999    5.99\n",
              "Name: Arousal, Length: 2592000, dtype: float64"
            ]
          },
          "execution_count": 17,
          "metadata": {},
          "output_type": "execute_result"
        }
      ],
      "source": [
        "main_df['Arousal']"
      ]
    },
    {
      "cell_type": "code",
      "execution_count": null,
      "metadata": {
        "id": "3HkdScYlfDLM"
      },
      "outputs": [],
      "source": [
        "# Thresholding the 'arousal' column\n",
        "main_df['arousal_bin'] = (main_df['Arousal'] >= 4.5).astype(int)"
      ]
    },
    {
      "cell_type": "code",
      "execution_count": null,
      "metadata": {
        "colab": {
          "base_uri": "https://localhost:8080/"
        },
        "id": "O-WXYiBQfy-l",
        "outputId": "e49a593d-4df5-49d8-89ac-308b428aa56f"
      },
      "outputs": [
        {
          "data": {
            "text/plain": [
              "Counter({0: 933000, 1: 1659000})"
            ]
          },
          "execution_count": 19,
          "metadata": {},
          "output_type": "execute_result"
        }
      ],
      "source": [
        "Counter(main_df['arousal_bin'])"
      ]
    },
    {
      "cell_type": "code",
      "execution_count": null,
      "metadata": {
        "id": "MIyjJKW4f_v6"
      },
      "outputs": [],
      "source": [
        "# Features (all columns except the last 13)\n",
        "X = main_df.iloc[:, 5:-6].values\n",
        "\n",
        "# Labels (binary column 'arousal_bin')\n",
        "y = main_df['arousal_bin'].values\n",
        "\n",
        "# Split the data into training and testing sets\n",
        "X_train, X_test, y_train, y_test = train_test_split(X, y, test_size=0.2, random_state=42)"
      ]
    },
    {
      "cell_type": "code",
      "execution_count": null,
      "metadata": {
        "colab": {
          "base_uri": "https://localhost:8080/"
        },
        "id": "Ggia2qpvhHRQ",
        "outputId": "835fa9b6-b3ff-49c6-fe35-da81de3f208e"
      },
      "outputs": [
        {
          "data": {
            "text/plain": [
              "array([[-0.083051,  0.065726, -0.994376, ...,  0.      ,  0.      ,\n",
              "         0.      ],\n",
              "       [-0.022775,  0.139665, -0.989937, ...,  0.      ,  0.      ,\n",
              "         0.      ],\n",
              "       [-0.012558,  0.27994 , -0.959935, ...,  1.      ,  0.      ,\n",
              "         1.      ],\n",
              "       ...,\n",
              "       [-0.097036,  0.14361 , -0.984866, ...,  0.      ,  0.      ,\n",
              "         0.      ],\n",
              "       [-0.125262,  0.203313, -0.971068, ...,  0.      ,  0.      ,\n",
              "         0.      ],\n",
              "       [-0.136752,  0.16993 , -0.975922, ...,  0.      ,  0.      ,\n",
              "         0.      ]])"
            ]
          },
          "execution_count": 26,
          "metadata": {},
          "output_type": "execute_result"
        }
      ],
      "source": [
        "X_train"
      ]
    },
    {
      "cell_type": "code",
      "execution_count": null,
      "metadata": {
        "colab": {
          "base_uri": "https://localhost:8080/"
        },
        "id": "_ooNiMRRp70o",
        "outputId": "5ea0dab7-ddb2-4ec5-cc21-008ca5002500"
      },
      "outputs": [
        {
          "data": {
            "text/plain": [
              "array([0, 1, 1, ..., 1, 1, 1])"
            ]
          },
          "execution_count": 27,
          "metadata": {},
          "output_type": "execute_result"
        }
      ],
      "source": [
        "y_train"
      ]
    },
    {
      "cell_type": "code",
      "execution_count": null,
      "metadata": {
        "id": "3seP6NJcg-12"
      },
      "outputs": [],
      "source": [
        "# Normalize features for better training (optional but recommended)\n",
        "scaler = StandardScaler()\n",
        "X_train = scaler.fit_transform(X_train)\n",
        "X_test = scaler.transform(X_test)"
      ]
    },
    {
      "cell_type": "code",
      "execution_count": null,
      "metadata": {
        "colab": {
          "base_uri": "https://localhost:8080/"
        },
        "id": "orNFebm3hJ44",
        "outputId": "58216cca-f7eb-486f-abf7-bdc651a919d9"
      },
      "outputs": [
        {
          "data": {
            "text/plain": [
              "array([[-0.98122295, -1.45921692, -0.65446011, ..., -0.10683177,\n",
              "        -0.01066887, -0.32162646],\n",
              "       [ 0.04851898, -0.70708798, -0.53708069, ..., -0.10683177,\n",
              "        -0.01066887, -0.32162646],\n",
              "       [ 0.22306396,  0.71982999,  0.25625501, ...,  9.3605113 ,\n",
              "        -0.01066887,  3.10919694],\n",
              "       ...,\n",
              "       [-1.22013961, -0.66695829, -0.40298945, ..., -0.10683177,\n",
              "        -0.01066887, -0.32162646],\n",
              "       [-1.70234639, -0.05964207, -0.03813224, ..., -0.10683177,\n",
              "        -0.01066887, -0.32162646],\n",
              "       [-1.89863902, -0.39922362, -0.1664854 , ..., -0.10683177,\n",
              "        -0.01066887, -0.32162646]])"
            ]
          },
          "execution_count": 29,
          "metadata": {},
          "output_type": "execute_result"
        }
      ],
      "source": [
        "X_train"
      ]
    },
    {
      "cell_type": "code",
      "execution_count": null,
      "metadata": {
        "colab": {
          "base_uri": "https://localhost:8080/"
        },
        "id": "gt2bXLZFhPjN",
        "outputId": "3abd163a-da15-42e9-dfd4-a38e8dd71539"
      },
      "outputs": [
        {
          "name": "stderr",
          "output_type": "stream",
          "text": [
            "/usr/local/lib/python3.11/dist-packages/keras/src/layers/core/dense.py:87: UserWarning: Do not pass an `input_shape`/`input_dim` argument to a layer. When using Sequential models, prefer using an `Input(shape)` object as the first layer in the model instead.\n",
            "  super().__init__(activity_regularizer=activity_regularizer, **kwargs)\n"
          ]
        }
      ],
      "source": [
        "# Define the model\n",
        "model = Sequential([\n",
        "    Dense(128, activation='relu', input_dim=X_train.shape[1]),\n",
        "    Dropout(0.3),  # Dropout for regularization\n",
        "    Dense(64, activation='relu'),\n",
        "    Dropout(0.3),\n",
        "    Dense(32, activation='relu'),\n",
        "    Dropout(0.3),\n",
        "    Dense(16, activation='relu'),\n",
        "    Dense(1, activation='sigmoid')  # Sigmoid activation for binary classification\n",
        "])\n",
        "\n",
        "# Compile the model\n",
        "model.compile(optimizer=Adam(learning_rate=0.001),\n",
        "              loss='binary_crossentropy',\n",
        "              metrics=['accuracy'])"
      ]
    },
    {
      "cell_type": "code",
      "execution_count": null,
      "metadata": {
        "colab": {
          "base_uri": "https://localhost:8080/"
        },
        "id": "SgKTDq3kfo7P",
        "outputId": "85ed2eb8-ec23-4697-f753-7337b538d846"
      },
      "outputs": [
        {
          "name": "stdout",
          "output_type": "stream",
          "text": [
            "Epoch 1/10\n",
            "\u001b[1m64800/64800\u001b[0m \u001b[32m━━━━━━━━━━━━━━━━━━━━\u001b[0m\u001b[37m\u001b[0m \u001b[1m215s\u001b[0m 3ms/step - accuracy: 0.6873 - loss: 0.5692 - val_accuracy: 0.7759 - val_loss: 0.4325\n",
            "Epoch 2/10\n",
            "\u001b[1m64800/64800\u001b[0m \u001b[32m━━━━━━━━━━━━━━━━━━━━\u001b[0m\u001b[37m\u001b[0m \u001b[1m201s\u001b[0m 3ms/step - accuracy: 0.7615 - loss: 0.4539 - val_accuracy: 0.8046 - val_loss: 0.3820\n",
            "Epoch 3/10\n",
            "\u001b[1m64800/64800\u001b[0m \u001b[32m━━━━━━━━━━━━━━━━━━━━\u001b[0m\u001b[37m\u001b[0m \u001b[1m204s\u001b[0m 3ms/step - accuracy: 0.7817 - loss: 0.4195 - val_accuracy: 0.8184 - val_loss: 0.3607\n",
            "Epoch 4/10\n",
            "\u001b[1m64800/64800\u001b[0m \u001b[32m━━━━━━━━━━━━━━━━━━━━\u001b[0m\u001b[37m\u001b[0m \u001b[1m216s\u001b[0m 3ms/step - accuracy: 0.7932 - loss: 0.3983 - val_accuracy: 0.8306 - val_loss: 0.3461\n",
            "Epoch 5/10\n",
            "\u001b[1m64800/64800\u001b[0m \u001b[32m━━━━━━━━━━━━━━━━━━━━\u001b[0m\u001b[37m\u001b[0m \u001b[1m216s\u001b[0m 3ms/step - accuracy: 0.8006 - loss: 0.3847 - val_accuracy: 0.8312 - val_loss: 0.3359\n",
            "Epoch 6/10\n",
            "\u001b[1m64800/64800\u001b[0m \u001b[32m━━━━━━━━━━━━━━━━━━━━\u001b[0m\u001b[37m\u001b[0m \u001b[1m207s\u001b[0m 3ms/step - accuracy: 0.8045 - loss: 0.3765 - val_accuracy: 0.8381 - val_loss: 0.3180\n",
            "Epoch 7/10\n",
            "\u001b[1m64800/64800\u001b[0m \u001b[32m━━━━━━━━━━━━━━━━━━━━\u001b[0m\u001b[37m\u001b[0m \u001b[1m212s\u001b[0m 3ms/step - accuracy: 0.8088 - loss: 0.3681 - val_accuracy: 0.8470 - val_loss: 0.3202\n",
            "Epoch 8/10\n",
            "\u001b[1m64800/64800\u001b[0m \u001b[32m━━━━━━━━━━━━━━━━━━━━\u001b[0m\u001b[37m\u001b[0m \u001b[1m207s\u001b[0m 3ms/step - accuracy: 0.8099 - loss: 0.3644 - val_accuracy: 0.8440 - val_loss: 0.3113\n",
            "Epoch 9/10\n",
            "\u001b[1m64800/64800\u001b[0m \u001b[32m━━━━━━━━━━━━━━━━━━━━\u001b[0m\u001b[37m\u001b[0m \u001b[1m220s\u001b[0m 3ms/step - accuracy: 0.8129 - loss: 0.3609 - val_accuracy: 0.8476 - val_loss: 0.3059\n",
            "Epoch 10/10\n",
            "\u001b[1m64800/64800\u001b[0m \u001b[32m━━━━━━━━━━━━━━━━━━━━\u001b[0m\u001b[37m\u001b[0m \u001b[1m212s\u001b[0m 3ms/step - accuracy: 0.8155 - loss: 0.3550 - val_accuracy: 0.8492 - val_loss: 0.3084\n"
          ]
        }
      ],
      "source": [
        "# Train the model\n",
        "history = model.fit(\n",
        "    X_train, y_train,\n",
        "    validation_data=(X_test, y_test),\n",
        "    epochs=10,  # Adjust epochs based on performance\n",
        "    batch_size=32,  # Adjust batch size based on data size\n",
        "    verbose=1\n",
        ")"
      ]
    },
    {
      "cell_type": "code",
      "execution_count": null,
      "metadata": {
        "colab": {
          "base_uri": "https://localhost:8080/"
        },
        "id": "XKYJV0gIhVO8",
        "outputId": "96478eab-8c92-4ce3-d125-6f7e6bc805a7"
      },
      "outputs": [
        {
          "name": "stdout",
          "output_type": "stream",
          "text": [
            "Test Accuracy: 81.49%\n"
          ]
        }
      ],
      "source": [
        "# Evaluate on the test set\n",
        "test_loss, test_accuracy = model.evaluate(X_test, y_test, verbose=0)\n",
        "print(f\"Test Accuracy: {test_accuracy * 100:.2f}%\")"
      ]
    },
    {
      "cell_type": "code",
      "execution_count": null,
      "metadata": {
        "colab": {
          "base_uri": "https://localhost:8080/",
          "height": 320
        },
        "id": "jwaCjkKVhX_5",
        "outputId": "284ca233-af57-46c4-8a6c-f5d6c6be94e2"
      },
      "outputs": [
        {
          "name": "stdout",
          "output_type": "stream",
          "text": [
            "5400/5400 [==============================] - 8s 1ms/step\n"
          ]
        },
        {
          "data": {
            "image/png": "[encoded data removed]",
            "text/plain": [
              "<Figure size 1500x500 with 4 Axes>"
            ]
          },
          "metadata": {},
          "output_type": "display_data"
        }
      ],
      "source": [
        "# Make predictions\n",
        "y_pred = model.predict(X_test)\n",
        "y_pred_classes = (y_pred > 0.5).astype(\"int32\")  # Convert probabilities to class labels\n",
        "y_true = y_test  # True class labels\n",
        "\n",
        "# Compute confusion matrix\n",
        "cm = confusion_matrix(y_true, y_pred_classes)\n",
        "\n",
        "# Create subplots: 1 row, 3 columns\n",
        "fig, ax = plt.subplots(1, 3, figsize=(15, 5))\n",
        "\n",
        "# Plot training & validation accuracy\n",
        "ax[0].plot(history.history['accuracy'], label='Train Accuracy')\n",
        "ax[0].plot(history.history['val_accuracy'], label='Validation Accuracy')\n",
        "ax[0].set_title('Model Accuracy')\n",
        "ax[0].set_xlabel('Epochs')\n",
        "ax[0].set_ylabel('Accuracy')\n",
        "ax[0].legend()\n",
        "\n",
        "# Plot training & validation loss\n",
        "ax[1].plot(history.history['loss'], label='Train Loss')\n",
        "ax[1].plot(history.history['val_loss'], label='Validation Loss')\n",
        "ax[1].set_title('Model Loss')\n",
        "ax[1].set_xlabel('Epochs')\n",
        "ax[1].set_ylabel('Loss')\n",
        "ax[1].legend()\n",
        "\n",
        "# Plot confusion matrix\n",
        "disp = ConfusionMatrixDisplay(confusion_matrix=cm, display_labels=[0, 1])\n",
        "disp.plot(ax=ax[2], cmap=\"Blues\")\n",
        "ax[2].set_title('Confusion Matrix')\n",
        "\n",
        "# Adjust layout for better visualization\n",
        "plt.tight_layout()\n",
        "plt.show()"
      ]
    },
    {
      "cell_type": "markdown",
      "metadata": {
        "id": "Y8ANryDdkZvQ"
      },
      "source": [
        "Save to .pkl"
      ]
    },
    {
      "cell_type": "code",
      "execution_count": null,
      "metadata": {
        "colab": {
          "base_uri": "https://localhost:8080/"
        },
        "id": "h_BOcAhNkcX9",
        "outputId": "73ac9cfb-df8f-4fc3-c4cf-c78690797b3b"
      },
      "outputs": [
        {
          "data": {
            "text/plain": [
              "['/content/drive/MyDrive//fyp3_arousal.pkl']"
            ]
          },
          "execution_count": 32,
          "metadata": {},
          "output_type": "execute_result"
        }
      ],
      "source": [
        "save_path = \"/content/drive/MyDrive/\"\n",
        "\n",
        "# Save the best model with the specified name\n",
        "save_file = f\"{save_path}/fyp3_arousal.pkl\"\n",
        "joblib.dump(model, save_file)"
      ]
    },
    {
      "cell_type": "markdown",
      "metadata": {
        "id": "hKM82GzdKOQh"
      },
      "source": [
        "Load from .pkl"
      ]
    },
    {
      "cell_type": "code",
      "execution_count": null,
      "metadata": {
        "collapsed": true,
        "id": "IP-E0viNLRe8"
      },
      "outputs": [],
      "source": [
        "# temp=X_test[268400]\n",
        "\n",
        "# # Assuming X_test[0] has shape (709,)\n",
        "# reshaped_data = np.reshape(temp, (1, temp.shape[0]))"
      ]
    },
    {
      "cell_type": "code",
      "execution_count": null,
      "metadata": {
        "colab": {
          "base_uri": "https://localhost:8080/"
        },
        "id": "d1rR0921IrB4",
        "outputId": "f1f7797e-6063-4eb4-c33b-396b60c0c99c"
      },
      "outputs": [
        {
          "name": "stdout",
          "output_type": "stream",
          "text": [
            "\u001b[1m1/1\u001b[0m \u001b[32m━━━━━━━━━━━━━━━━━━━━\u001b[0m\u001b[37m\u001b[0m \u001b[1m0s\u001b[0m 73ms/step\n",
            "[[0]]\n"
          ]
        }
      ],
      "source": [
        "# import joblib\n",
        "\n",
        "# # Specify the path to the saved model file\n",
        "# save_path = \"/content/drive/MyDrive/\"\n",
        "# save_file = f\"{save_path}/fyp3_arousal.pkl\"\n",
        "\n",
        "# # Load the model\n",
        "# loaded_model = joblib.load(save_file)\n",
        "\n",
        "# # Make predictions on the test data\n",
        "# y_pred = loaded_model.predict(reshaped_data)\n",
        "\n",
        "# binary_prediction = (y_pred > 0.5).astype(int)\n",
        "# print(binary_prediction)\n"
      ]
    },
    {
      "cell_type": "markdown",
      "metadata": {
        "id": "wiA5AukloDr1"
      },
      "source": [
        "# **Dominance**"
      ]
    },
    {
      "cell_type": "code",
      "execution_count": null,
      "metadata": {
        "colab": {
          "base_uri": "https://localhost:8080/",
          "height": 458
        },
        "id": "yE8YGHgJoDr2",
        "outputId": "4a032472-fc18-45b6-b411-d9fd3b1456f8"
      },
      "outputs": [
        {
          "data": {
            "text/html": [
              "<div>\n",
              "<style scoped>\n",
              "    .dataframe tbody tr th:only-of-type {\n",
              "        vertical-align: middle;\n",
              "    }\n",
              "\n",
              "    .dataframe tbody tr th {\n",
              "        vertical-align: top;\n",
              "    }\n",
              "\n",
              "    .dataframe thead th {\n",
              "        text-align: right;\n",
              "    }\n",
              "</style>\n",
              "<table border=\"1\" class=\"dataframe\">\n",
              "  <thead>\n",
              "    <tr style=\"text-align: right;\">\n",
              "      <th></th>\n",
              "      <th>Dominance</th>\n",
              "    </tr>\n",
              "  </thead>\n",
              "  <tbody>\n",
              "    <tr>\n",
              "      <th>0</th>\n",
              "      <td>7.19</td>\n",
              "    </tr>\n",
              "    <tr>\n",
              "      <th>1</th>\n",
              "      <td>7.19</td>\n",
              "    </tr>\n",
              "    <tr>\n",
              "      <th>2</th>\n",
              "      <td>7.19</td>\n",
              "    </tr>\n",
              "    <tr>\n",
              "      <th>3</th>\n",
              "      <td>7.19</td>\n",
              "    </tr>\n",
              "    <tr>\n",
              "      <th>4</th>\n",
              "      <td>7.19</td>\n",
              "    </tr>\n",
              "    <tr>\n",
              "      <th>...</th>\n",
              "      <td>...</td>\n",
              "    </tr>\n",
              "    <tr>\n",
              "      <th>2591995</th>\n",
              "      <td>6.04</td>\n",
              "    </tr>\n",
              "    <tr>\n",
              "      <th>2591996</th>\n",
              "      <td>6.04</td>\n",
              "    </tr>\n",
              "    <tr>\n",
              "      <th>2591997</th>\n",
              "      <td>6.04</td>\n",
              "    </tr>\n",
              "    <tr>\n",
              "      <th>2591998</th>\n",
              "      <td>6.04</td>\n",
              "    </tr>\n",
              "    <tr>\n",
              "      <th>2591999</th>\n",
              "      <td>6.04</td>\n",
              "    </tr>\n",
              "  </tbody>\n",
              "</table>\n",
              "<p>2592000 rows × 1 columns</p>\n",
              "</div><br><label><b>dtype:</b> float64</label>"
            ],
            "text/plain": [
              "0          7.19\n",
              "1          7.19\n",
              "2          7.19\n",
              "3          7.19\n",
              "4          7.19\n",
              "           ... \n",
              "2591995    6.04\n",
              "2591996    6.04\n",
              "2591997    6.04\n",
              "2591998    6.04\n",
              "2591999    6.04\n",
              "Name: Dominance, Length: 2592000, dtype: float64"
            ]
          },
          "execution_count": 18,
          "metadata": {},
          "output_type": "execute_result"
        }
      ],
      "source": [
        "main_df['Dominance']"
      ]
    },
    {
      "cell_type": "code",
      "execution_count": null,
      "metadata": {
        "id": "QKWY-lY3oDr3"
      },
      "outputs": [],
      "source": [
        "# Thresholding the 'Dominance' column\n",
        "main_df['dominance_bin'] = (main_df['Dominance'] >= 4.5).astype(int)"
      ]
    },
    {
      "cell_type": "code",
      "execution_count": null,
      "metadata": {
        "colab": {
          "base_uri": "https://localhost:8080/"
        },
        "id": "GaWCzh38oDr3",
        "outputId": "fb0a5897-73b3-47a3-ede5-5f4dc950f005"
      },
      "outputs": [
        {
          "data": {
            "text/plain": [
              "Counter({1: 1602000, 0: 990000})"
            ]
          },
          "execution_count": 20,
          "metadata": {},
          "output_type": "execute_result"
        }
      ],
      "source": [
        "Counter(main_df['dominance_bin'])"
      ]
    },
    {
      "cell_type": "code",
      "execution_count": null,
      "metadata": {
        "id": "nYrWyFdLoDr4"
      },
      "outputs": [],
      "source": [
        "# Features (all columns except the last 13)\n",
        "X = main_df.iloc[:, 5:-6].values\n",
        "\n",
        "# Labels (binary column 'arousal_bin')\n",
        "y = main_df['dominance_bin'].values\n",
        "\n",
        "# Split the data into training and testing sets\n",
        "X_train, X_test, y_train, y_test = train_test_split(X, y, test_size=0.2, random_state=42)"
      ]
    },
    {
      "cell_type": "code",
      "execution_count": null,
      "metadata": {
        "colab": {
          "base_uri": "https://localhost:8080/"
        },
        "id": "w29hcXPeoDr4",
        "outputId": "28625999-9682-4962-8e91-b8e4083000a3"
      },
      "outputs": [
        {
          "data": {
            "text/plain": [
              "array([[-0.083051,  0.065726, -0.994376, ...,  0.      ,  0.      ,\n",
              "         0.      ],\n",
              "       [-0.022775,  0.139665, -0.989937, ...,  0.      ,  0.      ,\n",
              "         0.      ],\n",
              "       [-0.012558,  0.27994 , -0.959935, ...,  1.      ,  0.      ,\n",
              "         1.      ],\n",
              "       ...,\n",
              "       [-0.097036,  0.14361 , -0.984866, ...,  0.      ,  0.      ,\n",
              "         0.      ],\n",
              "       [-0.125262,  0.203313, -0.971068, ...,  0.      ,  0.      ,\n",
              "         0.      ],\n",
              "       [-0.136752,  0.16993 , -0.975922, ...,  0.      ,  0.      ,\n",
              "         0.      ]])"
            ]
          },
          "execution_count": 25,
          "metadata": {},
          "output_type": "execute_result"
        }
      ],
      "source": [
        "X_train"
      ]
    },
    {
      "cell_type": "code",
      "execution_count": null,
      "metadata": {
        "colab": {
          "base_uri": "https://localhost:8080/"
        },
        "id": "NjTvj1fzoDr5",
        "outputId": "6d8dacfb-dc89-4b15-e8d7-aa3e0bdb71c2"
      },
      "outputs": [
        {
          "data": {
            "text/plain": [
              "array([1, 1, 1, ..., 0, 1, 1])"
            ]
          },
          "execution_count": 26,
          "metadata": {},
          "output_type": "execute_result"
        }
      ],
      "source": [
        "y_train"
      ]
    },
    {
      "cell_type": "code",
      "execution_count": null,
      "metadata": {
        "id": "6mHDzDuNoDr5"
      },
      "outputs": [],
      "source": [
        "# Normalize features for better training (optional but recommended)\n",
        "scaler = StandardScaler()\n",
        "X_train = scaler.fit_transform(X_train)\n",
        "X_test = scaler.transform(X_test)"
      ]
    },
    {
      "cell_type": "code",
      "execution_count": null,
      "metadata": {
        "colab": {
          "base_uri": "https://localhost:8080/"
        },
        "id": "mH17lnVnoDr6",
        "outputId": "b68c1b5e-7b5d-434c-d1aa-805a5244ef25"
      },
      "outputs": [
        {
          "data": {
            "text/plain": [
              "array([[-0.98122295, -1.45921692, -0.65446011, ..., -0.10683177,\n",
              "        -0.01066887, -0.32162646],\n",
              "       [ 0.04851898, -0.70708798, -0.53708069, ..., -0.10683177,\n",
              "        -0.01066887, -0.32162646],\n",
              "       [ 0.22306396,  0.71982999,  0.25625501, ...,  9.3605113 ,\n",
              "        -0.01066887,  3.10919694],\n",
              "       ...,\n",
              "       [-1.22013961, -0.66695829, -0.40298945, ..., -0.10683177,\n",
              "        -0.01066887, -0.32162646],\n",
              "       [-1.70234639, -0.05964207, -0.03813224, ..., -0.10683177,\n",
              "        -0.01066887, -0.32162646],\n",
              "       [-1.89863902, -0.39922362, -0.1664854 , ..., -0.10683177,\n",
              "        -0.01066887, -0.32162646]])"
            ]
          },
          "execution_count": 28,
          "metadata": {},
          "output_type": "execute_result"
        }
      ],
      "source": [
        "X_train"
      ]
    },
    {
      "cell_type": "code",
      "execution_count": null,
      "metadata": {
        "colab": {
          "base_uri": "https://localhost:8080/"
        },
        "id": "3Zkye0WMoDr7",
        "outputId": "a0a05d26-392b-47db-867e-36eb09501136"
      },
      "outputs": [
        {
          "name": "stderr",
          "output_type": "stream",
          "text": [
            "/usr/local/lib/python3.11/dist-packages/keras/src/layers/core/dense.py:87: UserWarning: Do not pass an `input_shape`/`input_dim` argument to a layer. When using Sequential models, prefer using an `Input(shape)` object as the first layer in the model instead.\n",
            "  super().__init__(activity_regularizer=activity_regularizer, **kwargs)\n"
          ]
        }
      ],
      "source": [
        "# Define the model\n",
        "model = Sequential([\n",
        "    Dense(128, activation='relu', input_dim=X_train.shape[1]),\n",
        "    Dropout(0.3),  # Dropout for regularization\n",
        "    Dense(64, activation='relu'),\n",
        "    Dropout(0.3),\n",
        "    Dense(32, activation='relu'),\n",
        "    Dropout(0.3),\n",
        "    Dense(16, activation='relu'),\n",
        "    Dense(1, activation='sigmoid')  # Sigmoid activation for binary classification\n",
        "])\n",
        "\n",
        "# Compile the model\n",
        "model.compile(optimizer=Adam(learning_rate=0.001),\n",
        "              loss='binary_crossentropy',\n",
        "              metrics=['accuracy'])"
      ]
    },
    {
      "cell_type": "code",
      "execution_count": null,
      "metadata": {
        "colab": {
          "base_uri": "https://localhost:8080/"
        },
        "id": "90rR1kV4oDr9",
        "outputId": "296caf79-b222-49f2-bc26-3fb6a208f796"
      },
      "outputs": [
        {
          "name": "stdout",
          "output_type": "stream",
          "text": [
            "Epoch 1/10\n",
            "\u001b[1m64800/64800\u001b[0m \u001b[32m━━━━━━━━━━━━━━━━━━━━\u001b[0m\u001b[37m\u001b[0m \u001b[1m215s\u001b[0m 3ms/step - accuracy: 0.6723 - loss: 0.5803 - val_accuracy: 0.7596 - val_loss: 0.4741\n",
            "Epoch 2/10\n",
            "\u001b[1m64800/64800\u001b[0m \u001b[32m━━━━━━━━━━━━━━━━━━━━\u001b[0m\u001b[37m\u001b[0m \u001b[1m203s\u001b[0m 3ms/step - accuracy: 0.7444 - loss: 0.4826 - val_accuracy: 0.7926 - val_loss: 0.4214\n",
            "Epoch 3/10\n",
            "\u001b[1m64800/64800\u001b[0m \u001b[32m━━━━━━━━━━━━━━━━━━━━\u001b[0m\u001b[37m\u001b[0m \u001b[1m200s\u001b[0m 3ms/step - accuracy: 0.7645 - loss: 0.4527 - val_accuracy: 0.8078 - val_loss: 0.3980\n",
            "Epoch 4/10\n",
            "\u001b[1m64800/64800\u001b[0m \u001b[32m━━━━━━━━━━━━━━━━━━━━\u001b[0m\u001b[37m\u001b[0m \u001b[1m202s\u001b[0m 3ms/step - accuracy: 0.7783 - loss: 0.4341 - val_accuracy: 0.8175 - val_loss: 0.3848\n",
            "Epoch 5/10\n",
            "\u001b[1m64800/64800\u001b[0m \u001b[32m━━━━━━━━━━━━━━━━━━━━\u001b[0m\u001b[37m\u001b[0m \u001b[1m204s\u001b[0m 3ms/step - accuracy: 0.7875 - loss: 0.4207 - val_accuracy: 0.8237 - val_loss: 0.3666\n",
            "Epoch 6/10\n",
            "\u001b[1m64800/64800\u001b[0m \u001b[32m━━━━━━━━━━━━━━━━━━━━\u001b[0m\u001b[37m\u001b[0m \u001b[1m211s\u001b[0m 3ms/step - accuracy: 0.7935 - loss: 0.4119 - val_accuracy: 0.8307 - val_loss: 0.3607\n",
            "Epoch 7/10\n",
            "\u001b[1m64800/64800\u001b[0m \u001b[32m━━━━━━━━━━━━━━━━━━━━\u001b[0m\u001b[37m\u001b[0m \u001b[1m211s\u001b[0m 3ms/step - accuracy: 0.7979 - loss: 0.4059 - val_accuracy: 0.8391 - val_loss: 0.3517\n",
            "Epoch 8/10\n",
            "\u001b[1m64800/64800\u001b[0m \u001b[32m━━━━━━━━━━━━━━━━━━━━\u001b[0m\u001b[37m\u001b[0m \u001b[1m209s\u001b[0m 3ms/step - accuracy: 0.8018 - loss: 0.3999 - val_accuracy: 0.8335 - val_loss: 0.3518\n",
            "Epoch 9/10\n",
            "\u001b[1m64800/64800\u001b[0m \u001b[32m━━━━━━━━━━━━━━━━━━━━\u001b[0m\u001b[37m\u001b[0m \u001b[1m212s\u001b[0m 3ms/step - accuracy: 0.8048 - loss: 0.3951 - val_accuracy: 0.8364 - val_loss: 0.3502\n",
            "Epoch 10/10\n",
            "\u001b[1m64800/64800\u001b[0m \u001b[32m━━━━━━━━━━━━━━━━━━━━\u001b[0m\u001b[37m\u001b[0m \u001b[1m206s\u001b[0m 3ms/step - accuracy: 0.8064 - loss: 0.3935 - val_accuracy: 0.8408 - val_loss: 0.3475\n"
          ]
        }
      ],
      "source": [
        "# Train the model\n",
        "history = model.fit(\n",
        "    X_train, y_train,\n",
        "    validation_data=(X_test, y_test),\n",
        "    epochs=10,  # Adjust epochs based on performance\n",
        "    batch_size=32,  # Adjust batch size based on data size\n",
        "    verbose=1\n",
        ")"
      ]
    },
    {
      "cell_type": "code",
      "execution_count": null,
      "metadata": {
        "colab": {
          "base_uri": "https://localhost:8080/"
        },
        "id": "ULi5lk6hoDr-",
        "outputId": "c0f22a13-d716-4cf8-9ebb-d0b639360c4f"
      },
      "outputs": [
        {
          "name": "stdout",
          "output_type": "stream",
          "text": [
            "Test Accuracy: 84.08%\n"
          ]
        }
      ],
      "source": [
        "# Evaluate on the test set\n",
        "test_loss, test_accuracy = model.evaluate(X_test, y_test, verbose=0)\n",
        "print(f\"Test Accuracy: {test_accuracy * 100:.2f}%\")"
      ]
    },
    {
      "cell_type": "code",
      "execution_count": null,
      "metadata": {
        "colab": {
          "base_uri": "https://localhost:8080/",
          "height": 318
        },
        "id": "ejo3f8eloDr_",
        "outputId": "88a9008a-19af-432c-bc13-fdd3fdf5c52b"
      },
      "outputs": [
        {
          "name": "stdout",
          "output_type": "stream",
          "text": [
            "\u001b[1m16200/16200\u001b[0m \u001b[32m━━━━━━━━━━━━━━━━━━━━\u001b[0m\u001b[37m\u001b[0m \u001b[1m18s\u001b[0m 1ms/step\n"
          ]
        },
        {
          "data": {
            "image/png": "[encoded data removed]",
            "text/plain": [
              "<Figure size 1500x500 with 4 Axes>"
            ]
          },
          "metadata": {},
          "output_type": "display_data"
        }
      ],
      "source": [
        "# Make predictions\n",
        "y_pred = model.predict(X_test)\n",
        "y_pred_classes = (y_pred > 0.5).astype(\"int32\")  # Convert probabilities to class labels\n",
        "y_true = y_test  # True class labels\n",
        "\n",
        "# Compute confusion matrix\n",
        "cm = confusion_matrix(y_true, y_pred_classes)\n",
        "\n",
        "# Create subplots: 1 row, 3 columns\n",
        "fig, ax = plt.subplots(1, 3, figsize=(15, 5))\n",
        "\n",
        "# Plot training & validation accuracy\n",
        "ax[0].plot(history.history['accuracy'], label='Train Accuracy')\n",
        "ax[0].plot(history.history['val_accuracy'], label='Validation Accuracy')\n",
        "ax[0].set_title('Model Accuracy')\n",
        "ax[0].set_xlabel('Epochs')\n",
        "ax[0].set_ylabel('Accuracy')\n",
        "ax[0].legend()\n",
        "\n",
        "# Plot training & validation loss\n",
        "ax[1].plot(history.history['loss'], label='Train Loss')\n",
        "ax[1].plot(history.history['val_loss'], label='Validation Loss')\n",
        "ax[1].set_title('Model Loss')\n",
        "ax[1].set_xlabel('Epochs')\n",
        "ax[1].set_ylabel('Loss')\n",
        "ax[1].legend()\n",
        "\n",
        "# Plot confusion matrix\n",
        "disp = ConfusionMatrixDisplay(confusion_matrix=cm, display_labels=[0, 1])\n",
        "disp.plot(ax=ax[2], cmap=\"Blues\")\n",
        "ax[2].set_title('Confusion Matrix')\n",
        "\n",
        "# Adjust layout for better visualization\n",
        "plt.tight_layout()\n",
        "plt.show()"
      ]
    },
    {
      "cell_type": "markdown",
      "metadata": {
        "id": "y01jR07eoDsB"
      },
      "source": [
        "Save to .pkl"
      ]
    },
    {
      "cell_type": "code",
      "execution_count": null,
      "metadata": {
        "colab": {
          "base_uri": "https://localhost:8080/"
        },
        "id": "Q2s9WlKZV9nZ",
        "outputId": "084c5d02-8a74-43e3-86f6-38c3e674c80f"
      },
      "outputs": [
        {
          "data": {
            "text/plain": [
              "['/content/drive/MyDrive//fyp3_dominance.pkl']"
            ]
          },
          "execution_count": 33,
          "metadata": {},
          "output_type": "execute_result"
        }
      ],
      "source": [
        "save_path = \"/content/drive/MyDrive/\"\n",
        "\n",
        "# Save the best model with the specified name\n",
        "save_file = f\"{save_path}/fyp3_dominance.pkl\"\n",
        "joblib.dump(model, save_file)"
      ]
    },
    {
      "cell_type": "markdown",
      "metadata": {
        "id": "LV0UUnuPV9na"
      },
      "source": [
        "Load from .pkl"
      ]
    },
    {
      "cell_type": "code",
      "execution_count": null,
      "metadata": {
        "collapsed": true,
        "id": "8-bA0nuUV9na"
      },
      "outputs": [],
      "source": [
        "# temp=X_test[268400]\n",
        "\n",
        "# # Assuming X_test[0] has shape (709,)\n",
        "# reshaped_data = np.reshape(temp, (1, temp.shape[0]))"
      ]
    },
    {
      "cell_type": "code",
      "execution_count": null,
      "metadata": {
        "colab": {
          "base_uri": "https://localhost:8080/"
        },
        "id": "28S6OepSV9nb",
        "outputId": "827182ee-376f-4071-b571-1e5ba5d68fab"
      },
      "outputs": [
        {
          "name": "stdout",
          "output_type": "stream",
          "text": [
            "\u001b[1m1/1\u001b[0m \u001b[32m━━━━━━━━━━━━━━━━━━━━\u001b[0m\u001b[37m\u001b[0m \u001b[1m0s\u001b[0m 91ms/step\n",
            "[[0]]\n"
          ]
        }
      ],
      "source": [
        "import joblib\n",
        "\n",
        "# Specify the path to the saved model file\n",
        "save_path = \"/content/drive/MyDrive/\"\n",
        "save_file = f\"{save_path}/fyp3_dominance.pkl\"\n",
        "\n",
        "# Load the model\n",
        "loaded_model = joblib.load(save_file)\n",
        "\n",
        "# Make predictions on the test data\n",
        "y_pred = loaded_model.predict(reshaped_data)\n",
        "\n",
        "binary_prediction = (y_pred > 0.5).astype(int)\n",
        "print(binary_prediction)\n"
      ]
    },
    {
      "cell_type": "markdown",
      "metadata": {
        "id": "CWzb8YlLolei"
      },
      "source": [
        "# **Liking**"
      ]
    },
    {
      "cell_type": "code",
      "execution_count": null,
      "metadata": {
        "colab": {
          "base_uri": "https://localhost:8080/",
          "height": 458
        },
        "id": "NhWLJ-xMole4",
        "outputId": "7614e05b-9c5b-45a9-a2ee-4dc7ecde6233"
      },
      "outputs": [
        {
          "data": {
            "text/html": [
              "<div>\n",
              "<style scoped>\n",
              "    .dataframe tbody tr th:only-of-type {\n",
              "        vertical-align: middle;\n",
              "    }\n",
              "\n",
              "    .dataframe tbody tr th {\n",
              "        vertical-align: top;\n",
              "    }\n",
              "\n",
              "    .dataframe thead th {\n",
              "        text-align: right;\n",
              "    }\n",
              "</style>\n",
              "<table border=\"1\" class=\"dataframe\">\n",
              "  <thead>\n",
              "    <tr style=\"text-align: right;\">\n",
              "      <th></th>\n",
              "      <th>Liking</th>\n",
              "    </tr>\n",
              "  </thead>\n",
              "  <tbody>\n",
              "    <tr>\n",
              "      <th>0</th>\n",
              "      <td>6.05</td>\n",
              "    </tr>\n",
              "    <tr>\n",
              "      <th>1</th>\n",
              "      <td>6.05</td>\n",
              "    </tr>\n",
              "    <tr>\n",
              "      <th>2</th>\n",
              "      <td>6.05</td>\n",
              "    </tr>\n",
              "    <tr>\n",
              "      <th>3</th>\n",
              "      <td>6.05</td>\n",
              "    </tr>\n",
              "    <tr>\n",
              "      <th>4</th>\n",
              "      <td>6.05</td>\n",
              "    </tr>\n",
              "    <tr>\n",
              "      <th>...</th>\n",
              "      <td>...</td>\n",
              "    </tr>\n",
              "    <tr>\n",
              "      <th>2591995</th>\n",
              "      <td>7.05</td>\n",
              "    </tr>\n",
              "    <tr>\n",
              "      <th>2591996</th>\n",
              "      <td>7.05</td>\n",
              "    </tr>\n",
              "    <tr>\n",
              "      <th>2591997</th>\n",
              "      <td>7.05</td>\n",
              "    </tr>\n",
              "    <tr>\n",
              "      <th>2591998</th>\n",
              "      <td>7.05</td>\n",
              "    </tr>\n",
              "    <tr>\n",
              "      <th>2591999</th>\n",
              "      <td>7.05</td>\n",
              "    </tr>\n",
              "  </tbody>\n",
              "</table>\n",
              "<p>2592000 rows × 1 columns</p>\n",
              "</div><br><label><b>dtype:</b> float64</label>"
            ],
            "text/plain": [
              "0          6.05\n",
              "1          6.05\n",
              "2          6.05\n",
              "3          6.05\n",
              "4          6.05\n",
              "           ... \n",
              "2591995    7.05\n",
              "2591996    7.05\n",
              "2591997    7.05\n",
              "2591998    7.05\n",
              "2591999    7.05\n",
              "Name: Liking, Length: 2592000, dtype: float64"
            ]
          },
          "execution_count": 36,
          "metadata": {},
          "output_type": "execute_result"
        }
      ],
      "source": [
        "main_df['Liking']"
      ]
    },
    {
      "cell_type": "code",
      "execution_count": null,
      "metadata": {
        "id": "P3q7JKyPole6"
      },
      "outputs": [],
      "source": [
        "# Thresholding the 'Dominance' column\n",
        "main_df['liking_bin'] = (main_df['Liking'] >= 4.5).astype(int)"
      ]
    },
    {
      "cell_type": "code",
      "execution_count": null,
      "metadata": {
        "colab": {
          "base_uri": "https://localhost:8080/"
        },
        "id": "K6Ofko_Oole7",
        "outputId": "e4f1bced-d518-4ddc-9b8e-216c464ecc39"
      },
      "outputs": [
        {
          "data": {
            "text/plain": [
              "Counter({1: 1854000, 0: 738000})"
            ]
          },
          "execution_count": 38,
          "metadata": {},
          "output_type": "execute_result"
        }
      ],
      "source": [
        "Counter(main_df['liking_bin'])"
      ]
    },
    {
      "cell_type": "code",
      "execution_count": null,
      "metadata": {
        "id": "1wa3j1Crole8"
      },
      "outputs": [],
      "source": [
        "# Labels (binary column 'arousal_bin')\n",
        "y = main_df['liking_bin'].values\n",
        "\n",
        "# Split the data into training and testing sets\n",
        "X_train, X_test, y_train, y_test = train_test_split(X, y, test_size=0.2, random_state=42)"
      ]
    },
    {
      "cell_type": "code",
      "execution_count": null,
      "metadata": {
        "colab": {
          "base_uri": "https://localhost:8080/"
        },
        "id": "zqeUj529ole9",
        "outputId": "049b8c47-a445-40eb-faf9-17887f280e89"
      },
      "outputs": [
        {
          "data": {
            "text/plain": [
              "array([[-0.083051,  0.065726, -0.994376, ...,  0.      ,  0.      ,\n",
              "         0.      ],\n",
              "       [-0.022775,  0.139665, -0.989937, ...,  0.      ,  0.      ,\n",
              "         0.      ],\n",
              "       [-0.012558,  0.27994 , -0.959935, ...,  1.      ,  0.      ,\n",
              "         1.      ],\n",
              "       ...,\n",
              "       [-0.097036,  0.14361 , -0.984866, ...,  0.      ,  0.      ,\n",
              "         0.      ],\n",
              "       [-0.125262,  0.203313, -0.971068, ...,  0.      ,  0.      ,\n",
              "         0.      ],\n",
              "       [-0.136752,  0.16993 , -0.975922, ...,  0.      ,  0.      ,\n",
              "         0.      ]])"
            ]
          },
          "execution_count": 40,
          "metadata": {},
          "output_type": "execute_result"
        }
      ],
      "source": [
        "X_train"
      ]
    },
    {
      "cell_type": "code",
      "execution_count": null,
      "metadata": {
        "colab": {
          "base_uri": "https://localhost:8080/"
        },
        "id": "Mc81sUnzole-",
        "outputId": "ddc36efc-9b90-46d4-cdcb-53dd87f44bb3"
      },
      "outputs": [
        {
          "data": {
            "text/plain": [
              "array([1, 1, 1, ..., 1, 1, 1])"
            ]
          },
          "execution_count": 41,
          "metadata": {},
          "output_type": "execute_result"
        }
      ],
      "source": [
        "y_train"
      ]
    },
    {
      "cell_type": "code",
      "execution_count": null,
      "metadata": {
        "id": "gfIPqFg6ole_"
      },
      "outputs": [],
      "source": [
        "# Normalize features for better training (optional but recommended)\n",
        "scaler = StandardScaler()\n",
        "X_train = scaler.fit_transform(X_train)\n",
        "X_test = scaler.transform(X_test)"
      ]
    },
    {
      "cell_type": "code",
      "execution_count": null,
      "metadata": {
        "colab": {
          "base_uri": "https://localhost:8080/"
        },
        "id": "EF0i4m7UolfA",
        "outputId": "4c13ddce-3936-4f1a-8a67-10581ca5150f"
      },
      "outputs": [
        {
          "data": {
            "text/plain": [
              "array([[-0.98122295, -1.45921692, -0.65446011, ..., -0.10683177,\n",
              "        -0.01066887, -0.32162646],\n",
              "       [ 0.04851898, -0.70708798, -0.53708069, ..., -0.10683177,\n",
              "        -0.01066887, -0.32162646],\n",
              "       [ 0.22306396,  0.71982999,  0.25625501, ...,  9.3605113 ,\n",
              "        -0.01066887,  3.10919694],\n",
              "       ...,\n",
              "       [-1.22013961, -0.66695829, -0.40298945, ..., -0.10683177,\n",
              "        -0.01066887, -0.32162646],\n",
              "       [-1.70234639, -0.05964207, -0.03813224, ..., -0.10683177,\n",
              "        -0.01066887, -0.32162646],\n",
              "       [-1.89863902, -0.39922362, -0.1664854 , ..., -0.10683177,\n",
              "        -0.01066887, -0.32162646]])"
            ]
          },
          "execution_count": 43,
          "metadata": {},
          "output_type": "execute_result"
        }
      ],
      "source": [
        "X_train"
      ]
    },
    {
      "cell_type": "code",
      "execution_count": null,
      "metadata": {
        "colab": {
          "base_uri": "https://localhost:8080/"
        },
        "id": "bHy7AOzholfB",
        "outputId": "da65c40b-ad67-473b-9680-20ffc9b74834"
      },
      "outputs": [
        {
          "name": "stderr",
          "output_type": "stream",
          "text": [
            "/usr/local/lib/python3.11/dist-packages/keras/src/layers/core/dense.py:87: UserWarning: Do not pass an `input_shape`/`input_dim` argument to a layer. When using Sequential models, prefer using an `Input(shape)` object as the first layer in the model instead.\n",
            "  super().__init__(activity_regularizer=activity_regularizer, **kwargs)\n"
          ]
        }
      ],
      "source": [
        "# Define the model\n",
        "model = Sequential([\n",
        "    Dense(128, activation='relu', input_dim=X_train.shape[1]),\n",
        "    Dropout(0.3),  # Dropout for regularization\n",
        "    Dense(64, activation='relu'),\n",
        "    Dropout(0.3),\n",
        "    Dense(32, activation='relu'),\n",
        "    Dropout(0.3),\n",
        "    Dense(16, activation='relu'),\n",
        "    Dense(1, activation='sigmoid')  # Sigmoid activation for binary classification\n",
        "])\n",
        "\n",
        "# Compile the model\n",
        "model.compile(optimizer=Adam(learning_rate=0.001),\n",
        "              loss='binary_crossentropy',\n",
        "              metrics=['accuracy'])"
      ]
    },
    {
      "cell_type": "code",
      "execution_count": null,
      "metadata": {
        "colab": {
          "base_uri": "https://localhost:8080/"
        },
        "id": "KXSdSPpLolfC",
        "outputId": "ba51b0a9-bda5-4937-c36d-9b59092e6a0f"
      },
      "outputs": [
        {
          "name": "stdout",
          "output_type": "stream",
          "text": [
            "Epoch 1/10\n",
            "\u001b[1m64800/64800\u001b[0m \u001b[32m━━━━━━━━━━━━━━━━━━━━\u001b[0m\u001b[37m\u001b[0m \u001b[1m214s\u001b[0m 3ms/step - accuracy: 0.7277 - loss: 0.5239 - val_accuracy: 0.7784 - val_loss: 0.4253\n",
            "Epoch 2/10\n",
            "\u001b[1m64800/64800\u001b[0m \u001b[32m━━━━━━━━━━━━━━━━━━━━\u001b[0m\u001b[37m\u001b[0m \u001b[1m207s\u001b[0m 3ms/step - accuracy: 0.7695 - loss: 0.4376 - val_accuracy: 0.7993 - val_loss: 0.3935\n",
            "Epoch 3/10\n",
            "\u001b[1m64800/64800\u001b[0m \u001b[32m━━━━━━━━━━━━━━━━━━━━\u001b[0m\u001b[37m\u001b[0m \u001b[1m208s\u001b[0m 3ms/step - accuracy: 0.7841 - loss: 0.4114 - val_accuracy: 0.8139 - val_loss: 0.3672\n",
            "Epoch 4/10\n",
            "\u001b[1m64800/64800\u001b[0m \u001b[32m━━━━━━━━━━━━━━━━━━━━\u001b[0m\u001b[37m\u001b[0m \u001b[1m212s\u001b[0m 3ms/step - accuracy: 0.7942 - loss: 0.3957 - val_accuracy: 0.8241 - val_loss: 0.3545\n",
            "Epoch 5/10\n",
            "\u001b[1m64800/64800\u001b[0m \u001b[32m━━━━━━━━━━━━━━━━━━━━\u001b[0m\u001b[37m\u001b[0m \u001b[1m217s\u001b[0m 3ms/step - accuracy: 0.8017 - loss: 0.3841 - val_accuracy: 0.8348 - val_loss: 0.3374\n",
            "Epoch 6/10\n",
            "\u001b[1m64800/64800\u001b[0m \u001b[32m━━━━━━━━━━━━━━━━━━━━\u001b[0m\u001b[37m\u001b[0m \u001b[1m212s\u001b[0m 3ms/step - accuracy: 0.8069 - loss: 0.3770 - val_accuracy: 0.8359 - val_loss: 0.3276\n",
            "Epoch 7/10\n",
            "\u001b[1m64800/64800\u001b[0m \u001b[32m━━━━━━━━━━━━━━━━━━━━\u001b[0m\u001b[37m\u001b[0m \u001b[1m214s\u001b[0m 3ms/step - accuracy: 0.8114 - loss: 0.3699 - val_accuracy: 0.8361 - val_loss: 0.3277\n",
            "Epoch 8/10\n",
            "\u001b[1m64800/64800\u001b[0m \u001b[32m━━━━━━━━━━━━━━━━━━━━\u001b[0m\u001b[37m\u001b[0m \u001b[1m211s\u001b[0m 3ms/step - accuracy: 0.8148 - loss: 0.3642 - val_accuracy: 0.8391 - val_loss: 0.3257\n",
            "Epoch 9/10\n",
            "\u001b[1m64800/64800\u001b[0m \u001b[32m━━━━━━━━━━━━━━━━━━━━\u001b[0m\u001b[37m\u001b[0m \u001b[1m206s\u001b[0m 3ms/step - accuracy: 0.8170 - loss: 0.3608 - val_accuracy: 0.8431 - val_loss: 0.3162\n",
            "Epoch 10/10\n",
            "\u001b[1m64800/64800\u001b[0m \u001b[32m━━━━━━━━━━━━━━━━━━━━\u001b[0m\u001b[37m\u001b[0m \u001b[1m213s\u001b[0m 3ms/step - accuracy: 0.8199 - loss: 0.3567 - val_accuracy: 0.8449 - val_loss: 0.3230\n"
          ]
        }
      ],
      "source": [
        "# Train the model\n",
        "history = model.fit(\n",
        "    X_train, y_train,\n",
        "    validation_data=(X_test, y_test),\n",
        "    epochs=10,  # Adjust epochs based on performance\n",
        "    batch_size=32,  # Adjust batch size based on data size\n",
        "    verbose=1\n",
        ")"
      ]
    },
    {
      "cell_type": "code",
      "execution_count": null,
      "metadata": {
        "colab": {
          "base_uri": "https://localhost:8080/"
        },
        "id": "djwIIXqfolfD",
        "outputId": "9472c06f-81f6-410d-a546-a8f8eae257ad"
      },
      "outputs": [
        {
          "name": "stdout",
          "output_type": "stream",
          "text": [
            "Test Accuracy: 84.49%\n"
          ]
        }
      ],
      "source": [
        "# Evaluate on the test set\n",
        "test_loss, test_accuracy = model.evaluate(X_test, y_test, verbose=0)\n",
        "print(f\"Test Accuracy: {test_accuracy * 100:.2f}%\")"
      ]
    },
    {
      "cell_type": "code",
      "execution_count": null,
      "metadata": {
        "colab": {
          "base_uri": "https://localhost:8080/",
          "height": 318
        },
        "id": "KPVl3KnAolfE",
        "outputId": "995a10e3-60a7-432a-9ff3-5e60600fba47"
      },
      "outputs": [
        {
          "name": "stdout",
          "output_type": "stream",
          "text": [
            "\u001b[1m16200/16200\u001b[0m \u001b[32m━━━━━━━━━━━━━━━━━━━━\u001b[0m\u001b[37m\u001b[0m \u001b[1m18s\u001b[0m 1ms/step\n"
          ]
        },
        {
          "data": {
            "image/png": "[encoded data removed]",
            "text/plain": [
              "<Figure size 1500x500 with 4 Axes>"
            ]
          },
          "metadata": {},
          "output_type": "display_data"
        }
      ],
      "source": [
        "# Make predictions\n",
        "y_pred = model.predict(X_test)\n",
        "y_pred_classes = (y_pred > 0.5).astype(\"int32\")  # Convert probabilities to class labels\n",
        "y_true = y_test  # True class labels\n",
        "\n",
        "# Compute confusion matrix\n",
        "cm = confusion_matrix(y_true, y_pred_classes)\n",
        "\n",
        "# Create subplots: 1 row, 3 columns\n",
        "fig, ax = plt.subplots(1, 3, figsize=(15, 5))\n",
        "\n",
        "# Plot training & validation accuracy\n",
        "ax[0].plot(history.history['accuracy'], label='Train Accuracy')\n",
        "ax[0].plot(history.history['val_accuracy'], label='Validation Accuracy')\n",
        "ax[0].set_title('Model Accuracy')\n",
        "ax[0].set_xlabel('Epochs')\n",
        "ax[0].set_ylabel('Accuracy')\n",
        "ax[0].legend()\n",
        "\n",
        "# Plot training & validation loss\n",
        "ax[1].plot(history.history['loss'], label='Train Loss')\n",
        "ax[1].plot(history.history['val_loss'], label='Validation Loss')\n",
        "ax[1].set_title('Model Loss')\n",
        "ax[1].set_xlabel('Epochs')\n",
        "ax[1].set_ylabel('Loss')\n",
        "ax[1].legend()\n",
        "\n",
        "# Plot confusion matrix\n",
        "disp = ConfusionMatrixDisplay(confusion_matrix=cm, display_labels=[0, 1])\n",
        "disp.plot(ax=ax[2], cmap=\"Blues\")\n",
        "ax[2].set_title('Confusion Matrix')\n",
        "\n",
        "# Adjust layout for better visualization\n",
        "plt.tight_layout()\n",
        "plt.show()"
      ]
    },
    {
      "cell_type": "markdown",
      "metadata": {
        "id": "iLygLQ5EolfG"
      },
      "source": [
        "Save to .pkl"
      ]
    },
    {
      "cell_type": "code",
      "execution_count": null,
      "metadata": {
        "colab": {
          "base_uri": "https://localhost:8080/"
        },
        "id": "cHFFR6tmWKXU",
        "outputId": "8e69fd82-8564-409e-bab4-d0f698e9dcd0"
      },
      "outputs": [
        {
          "data": {
            "text/plain": [
              "['/content/drive/MyDrive//fyp3_liking.pkl']"
            ]
          },
          "execution_count": 48,
          "metadata": {},
          "output_type": "execute_result"
        }
      ],
      "source": [
        "save_path = \"/content/drive/MyDrive/\"\n",
        "\n",
        "# Save the best model with the specified name\n",
        "save_file = f\"{save_path}/fyp3_liking.pkl\"\n",
        "joblib.dump(model, save_file)"
      ]
    },
    {
      "cell_type": "markdown",
      "metadata": {
        "id": "XnNMru9JWKXV"
      },
      "source": [
        "Load from .pkl"
      ]
    },
    {
      "cell_type": "code",
      "execution_count": null,
      "metadata": {
        "collapsed": true,
        "id": "GqBZQkchWKXV"
      },
      "outputs": [],
      "source": [
        "# temp=X_test[268400]\n",
        "\n",
        "# # Assuming X_test[0] has shape (709,)\n",
        "# reshaped_data = np.reshape(temp, (1, temp.shape[0]))"
      ]
    },
    {
      "cell_type": "code",
      "execution_count": null,
      "metadata": {
        "colab": {
          "base_uri": "https://localhost:8080/"
        },
        "id": "8tNLwo0QWKXV",
        "outputId": "e698158f-7376-4e14-ffc9-6ced33c43d2c"
      },
      "outputs": [
        {
          "name": "stdout",
          "output_type": "stream",
          "text": [
            "\u001b[1m1/1\u001b[0m \u001b[32m━━━━━━━━━━━━━━━━━━━━\u001b[0m\u001b[37m\u001b[0m \u001b[1m0s\u001b[0m 82ms/step\n",
            "[[0]]\n"
          ]
        }
      ],
      "source": [
        "import joblib\n",
        "\n",
        "# Specify the path to the saved model file\n",
        "save_path = \"/content/drive/MyDrive/\"\n",
        "save_file = f\"{save_path}/fyp3_liking.pkl\"\n",
        "\n",
        "# Load the model\n",
        "loaded_model = joblib.load(save_file)\n",
        "\n",
        "# Make predictions on the test data\n",
        "y_pred = loaded_model.predict(reshaped_data)\n",
        "\n",
        "binary_prediction = (y_pred > 0.5).astype(int)\n",
        "print(binary_prediction)\n"
      ]
    },
    {
      "cell_type": "markdown",
      "metadata": {
        "id": "G8x1bRlPpH8R"
      },
      "source": [
        "# **Valence**"
      ]
    },
    {
      "cell_type": "code",
      "execution_count": null,
      "metadata": {
        "colab": {
          "base_uri": "https://localhost:8080/",
          "height": 458
        },
        "id": "2A4YDwi9pH8S",
        "outputId": "db0a3bb5-d32f-4d16-e049-9379aeb2d3ed"
      },
      "outputs": [
        {
          "data": {
            "text/html": [
              "<div>\n",
              "<style scoped>\n",
              "    .dataframe tbody tr th:only-of-type {\n",
              "        vertical-align: middle;\n",
              "    }\n",
              "\n",
              "    .dataframe tbody tr th {\n",
              "        vertical-align: top;\n",
              "    }\n",
              "\n",
              "    .dataframe thead th {\n",
              "        text-align: right;\n",
              "    }\n",
              "</style>\n",
              "<table border=\"1\" class=\"dataframe\">\n",
              "  <thead>\n",
              "    <tr style=\"text-align: right;\">\n",
              "      <th></th>\n",
              "      <th>Valence</th>\n",
              "    </tr>\n",
              "  </thead>\n",
              "  <tbody>\n",
              "    <tr>\n",
              "      <th>0</th>\n",
              "      <td>6.96</td>\n",
              "    </tr>\n",
              "    <tr>\n",
              "      <th>1</th>\n",
              "      <td>6.96</td>\n",
              "    </tr>\n",
              "    <tr>\n",
              "      <th>2</th>\n",
              "      <td>6.96</td>\n",
              "    </tr>\n",
              "    <tr>\n",
              "      <th>3</th>\n",
              "      <td>6.96</td>\n",
              "    </tr>\n",
              "    <tr>\n",
              "      <th>4</th>\n",
              "      <td>6.96</td>\n",
              "    </tr>\n",
              "    <tr>\n",
              "      <th>...</th>\n",
              "      <td>...</td>\n",
              "    </tr>\n",
              "    <tr>\n",
              "      <th>2591995</th>\n",
              "      <td>7.06</td>\n",
              "    </tr>\n",
              "    <tr>\n",
              "      <th>2591996</th>\n",
              "      <td>7.06</td>\n",
              "    </tr>\n",
              "    <tr>\n",
              "      <th>2591997</th>\n",
              "      <td>7.06</td>\n",
              "    </tr>\n",
              "    <tr>\n",
              "      <th>2591998</th>\n",
              "      <td>7.06</td>\n",
              "    </tr>\n",
              "    <tr>\n",
              "      <th>2591999</th>\n",
              "      <td>7.06</td>\n",
              "    </tr>\n",
              "  </tbody>\n",
              "</table>\n",
              "<p>2592000 rows × 1 columns</p>\n",
              "</div><br><label><b>dtype:</b> float64</label>"
            ],
            "text/plain": [
              "0          6.96\n",
              "1          6.96\n",
              "2          6.96\n",
              "3          6.96\n",
              "4          6.96\n",
              "           ... \n",
              "2591995    7.06\n",
              "2591996    7.06\n",
              "2591997    7.06\n",
              "2591998    7.06\n",
              "2591999    7.06\n",
              "Name: Valence, Length: 2592000, dtype: float64"
            ]
          },
          "execution_count": 51,
          "metadata": {},
          "output_type": "execute_result"
        }
      ],
      "source": [
        "main_df['Valence']"
      ]
    },
    {
      "cell_type": "code",
      "execution_count": null,
      "metadata": {
        "id": "GYHQt0EupH8T"
      },
      "outputs": [],
      "source": [
        "# Thresholding the 'Dominance' column\n",
        "main_df['valence_bin'] = (main_df['Valence'] >= 4.5).astype(int)"
      ]
    },
    {
      "cell_type": "code",
      "execution_count": null,
      "metadata": {
        "colab": {
          "base_uri": "https://localhost:8080/"
        },
        "id": "BKosQKrapH8U",
        "outputId": "8b4f8181-90e6-4d12-fd9c-9535d61c70bc"
      },
      "outputs": [
        {
          "data": {
            "text/plain": [
              "Counter({1: 1614000, 0: 978000})"
            ]
          },
          "execution_count": 53,
          "metadata": {},
          "output_type": "execute_result"
        }
      ],
      "source": [
        "Counter(main_df['valence_bin'])"
      ]
    },
    {
      "cell_type": "code",
      "execution_count": null,
      "metadata": {
        "id": "CIZe7hCFpH8U"
      },
      "outputs": [],
      "source": [
        "# Labels (binary column 'arousal_bin')\n",
        "y = main_df['valence_bin'].values\n",
        "\n",
        "# Split the data into training and testing sets\n",
        "X_train, X_test, y_train, y_test = train_test_split(X, y, test_size=0.2, random_state=42)"
      ]
    },
    {
      "cell_type": "code",
      "execution_count": null,
      "metadata": {
        "colab": {
          "base_uri": "https://localhost:8080/"
        },
        "id": "m7MO4VsIpH8V",
        "outputId": "b9dc5881-0c18-4e0e-da9d-250c8e4f0ca7"
      },
      "outputs": [
        {
          "data": {
            "text/plain": [
              "array([[-0.083051,  0.065726, -0.994376, ...,  0.      ,  0.      ,\n",
              "         0.      ],\n",
              "       [-0.022775,  0.139665, -0.989937, ...,  0.      ,  0.      ,\n",
              "         0.      ],\n",
              "       [-0.012558,  0.27994 , -0.959935, ...,  1.      ,  0.      ,\n",
              "         1.      ],\n",
              "       ...,\n",
              "       [-0.097036,  0.14361 , -0.984866, ...,  0.      ,  0.      ,\n",
              "         0.      ],\n",
              "       [-0.125262,  0.203313, -0.971068, ...,  0.      ,  0.      ,\n",
              "         0.      ],\n",
              "       [-0.136752,  0.16993 , -0.975922, ...,  0.      ,  0.      ,\n",
              "         0.      ]])"
            ]
          },
          "execution_count": 55,
          "metadata": {},
          "output_type": "execute_result"
        }
      ],
      "source": [
        "X_train"
      ]
    },
    {
      "cell_type": "code",
      "execution_count": null,
      "metadata": {
        "colab": {
          "base_uri": "https://localhost:8080/"
        },
        "id": "uiJg1jwypH8W",
        "outputId": "8492bf59-926a-4836-e9e1-b6d6134c8b5e"
      },
      "outputs": [
        {
          "data": {
            "text/plain": [
              "array([1, 1, 1, ..., 0, 1, 0])"
            ]
          },
          "execution_count": 56,
          "metadata": {},
          "output_type": "execute_result"
        }
      ],
      "source": [
        "y_train"
      ]
    },
    {
      "cell_type": "code",
      "execution_count": null,
      "metadata": {
        "id": "ACvydPa8pH8W"
      },
      "outputs": [],
      "source": [
        "# Normalize features for better training (optional but recommended)\n",
        "scaler = StandardScaler()\n",
        "X_train = scaler.fit_transform(X_train)\n",
        "X_test = scaler.transform(X_test)"
      ]
    },
    {
      "cell_type": "code",
      "execution_count": null,
      "metadata": {
        "colab": {
          "base_uri": "https://localhost:8080/"
        },
        "id": "a40vWorzpH8X",
        "outputId": "ff75a28b-6952-4a1c-ed6b-5774ae413180"
      },
      "outputs": [
        {
          "data": {
            "text/plain": [
              "array([[-0.98122295, -1.45921692, -0.65446011, ..., -0.10683177,\n",
              "        -0.01066887, -0.32162646],\n",
              "       [ 0.04851898, -0.70708798, -0.53708069, ..., -0.10683177,\n",
              "        -0.01066887, -0.32162646],\n",
              "       [ 0.22306396,  0.71982999,  0.25625501, ...,  9.3605113 ,\n",
              "        -0.01066887,  3.10919694],\n",
              "       ...,\n",
              "       [-1.22013961, -0.66695829, -0.40298945, ..., -0.10683177,\n",
              "        -0.01066887, -0.32162646],\n",
              "       [-1.70234639, -0.05964207, -0.03813224, ..., -0.10683177,\n",
              "        -0.01066887, -0.32162646],\n",
              "       [-1.89863902, -0.39922362, -0.1664854 , ..., -0.10683177,\n",
              "        -0.01066887, -0.32162646]])"
            ]
          },
          "execution_count": 58,
          "metadata": {},
          "output_type": "execute_result"
        }
      ],
      "source": [
        "X_train"
      ]
    },
    {
      "cell_type": "code",
      "execution_count": null,
      "metadata": {
        "colab": {
          "base_uri": "https://localhost:8080/"
        },
        "id": "GP4FIn57pH8Y",
        "outputId": "6a4fa9cb-2348-4acc-8405-48ef0273d515"
      },
      "outputs": [
        {
          "name": "stderr",
          "output_type": "stream",
          "text": [
            "/usr/local/lib/python3.11/dist-packages/keras/src/layers/core/dense.py:87: UserWarning: Do not pass an `input_shape`/`input_dim` argument to a layer. When using Sequential models, prefer using an `Input(shape)` object as the first layer in the model instead.\n",
            "  super().__init__(activity_regularizer=activity_regularizer, **kwargs)\n"
          ]
        }
      ],
      "source": [
        "# Define the model\n",
        "model = Sequential([\n",
        "    Dense(128, activation='relu', input_dim=X_train.shape[1]),\n",
        "    Dropout(0.3),  # Dropout for regularization\n",
        "    Dense(64, activation='relu'),\n",
        "    Dropout(0.3),\n",
        "    Dense(32, activation='relu'),\n",
        "    Dropout(0.3),\n",
        "    Dense(16, activation='relu'),\n",
        "    Dense(1, activation='sigmoid')  # Sigmoid activation for binary classification\n",
        "])\n",
        "\n",
        "# Compile the model\n",
        "model.compile(optimizer=Adam(learning_rate=0.001),\n",
        "              loss='binary_crossentropy',\n",
        "              metrics=['accuracy'])"
      ]
    },
    {
      "cell_type": "code",
      "execution_count": null,
      "metadata": {
        "colab": {
          "base_uri": "https://localhost:8080/"
        },
        "id": "irQHKXbMpH8Y",
        "outputId": "7b47e6c9-2442-4d56-e3c9-e63ea6dffa84"
      },
      "outputs": [
        {
          "name": "stdout",
          "output_type": "stream",
          "text": [
            "Epoch 1/10\n",
            "\u001b[1m64800/64800\u001b[0m \u001b[32m━━━━━━━━━━━━━━━━━━━━\u001b[0m\u001b[37m\u001b[0m \u001b[1m219s\u001b[0m 3ms/step - accuracy: 0.6635 - loss: 0.6006 - val_accuracy: 0.7631 - val_loss: 0.4800\n",
            "Epoch 2/10\n",
            "\u001b[1m64800/64800\u001b[0m \u001b[32m━━━━━━━━━━━━━━━━━━━━\u001b[0m\u001b[37m\u001b[0m \u001b[1m210s\u001b[0m 3ms/step - accuracy: 0.7377 - loss: 0.4922 - val_accuracy: 0.7919 - val_loss: 0.4319\n",
            "Epoch 3/10\n",
            "\u001b[1m64800/64800\u001b[0m \u001b[32m━━━━━━━━━━━━━━━━━━━━\u001b[0m\u001b[37m\u001b[0m \u001b[1m208s\u001b[0m 3ms/step - accuracy: 0.7609 - loss: 0.4552 - val_accuracy: 0.8103 - val_loss: 0.3940\n",
            "Epoch 4/10\n",
            "\u001b[1m64800/64800\u001b[0m \u001b[32m━━━━━━━━━━━━━━━━━━━━\u001b[0m\u001b[37m\u001b[0m \u001b[1m206s\u001b[0m 3ms/step - accuracy: 0.7754 - loss: 0.4332 - val_accuracy: 0.8234 - val_loss: 0.3704\n",
            "Epoch 5/10\n",
            "\u001b[1m64800/64800\u001b[0m \u001b[32m━━━━━━━━━━━━━━━━━━━━\u001b[0m\u001b[37m\u001b[0m \u001b[1m206s\u001b[0m 3ms/step - accuracy: 0.7853 - loss: 0.4178 - val_accuracy: 0.8398 - val_loss: 0.3631\n",
            "Epoch 6/10\n",
            "\u001b[1m64800/64800\u001b[0m \u001b[32m━━━━━━━━━━━━━━━━━━━━\u001b[0m\u001b[37m\u001b[0m \u001b[1m215s\u001b[0m 3ms/step - accuracy: 0.7933 - loss: 0.4062 - val_accuracy: 0.8468 - val_loss: 0.3444\n",
            "Epoch 7/10\n",
            "\u001b[1m64800/64800\u001b[0m \u001b[32m━━━━━━━━━━━━━━━━━━━━\u001b[0m\u001b[37m\u001b[0m \u001b[1m214s\u001b[0m 3ms/step - accuracy: 0.7987 - loss: 0.3958 - val_accuracy: 0.8486 - val_loss: 0.3374\n",
            "Epoch 8/10\n",
            "\u001b[1m64800/64800\u001b[0m \u001b[32m━━━━━━━━━━━━━━━━━━━━\u001b[0m\u001b[37m\u001b[0m \u001b[1m211s\u001b[0m 3ms/step - accuracy: 0.8033 - loss: 0.3890 - val_accuracy: 0.8512 - val_loss: 0.3395\n",
            "Epoch 9/10\n",
            "\u001b[1m64800/64800\u001b[0m \u001b[32m━━━━━━━━━━━━━━━━━━━━\u001b[0m\u001b[37m\u001b[0m \u001b[1m217s\u001b[0m 3ms/step - accuracy: 0.8068 - loss: 0.3838 - val_accuracy: 0.8631 - val_loss: 0.3191\n",
            "Epoch 10/10\n",
            "\u001b[1m64800/64800\u001b[0m \u001b[32m━━━━━━━━━━━━━━━━━━━━\u001b[0m\u001b[37m\u001b[0m \u001b[1m210s\u001b[0m 3ms/step - accuracy: 0.8110 - loss: 0.3767 - val_accuracy: 0.8655 - val_loss: 0.3168\n"
          ]
        }
      ],
      "source": [
        "# Train the model\n",
        "history = model.fit(\n",
        "    X_train, y_train,\n",
        "    validation_data=(X_test, y_test),\n",
        "    epochs=10,  # Adjust epochs based on performance\n",
        "    batch_size=32,  # Adjust batch size based on data size\n",
        "    verbose=1\n",
        ")"
      ]
    },
    {
      "cell_type": "code",
      "execution_count": null,
      "metadata": {
        "colab": {
          "base_uri": "https://localhost:8080/"
        },
        "id": "xgBnOzUapH8Z",
        "outputId": "6a06fb74-7dfa-47d3-a51a-a4eeccc948f4"
      },
      "outputs": [
        {
          "name": "stdout",
          "output_type": "stream",
          "text": [
            "Test Accuracy: 86.55%\n"
          ]
        }
      ],
      "source": [
        "# Evaluate on the test set\n",
        "test_loss, test_accuracy = model.evaluate(X_test, y_test, verbose=0)\n",
        "print(f\"Test Accuracy: {test_accuracy * 100:.2f}%\")"
      ]
    },
    {
      "cell_type": "code",
      "execution_count": null,
      "metadata": {
        "colab": {
          "base_uri": "https://localhost:8080/",
          "height": 318
        },
        "id": "vMlD764hpH8a",
        "outputId": "0bfce1e4-c0c4-4627-d034-470d875fd71b"
      },
      "outputs": [
        {
          "name": "stdout",
          "output_type": "stream",
          "text": [
            "\u001b[1m16200/16200\u001b[0m \u001b[32m━━━━━━━━━━━━━━━━━━━━\u001b[0m\u001b[37m\u001b[0m \u001b[1m19s\u001b[0m 1ms/step\n"
          ]
        },
        {
          "data": {
            "image/png": "[encoded data removed]",
            "text/plain": [
              "<Figure size 1500x500 with 4 Axes>"
            ]
          },
          "metadata": {},
          "output_type": "display_data"
        }
      ],
      "source": [
        "# Make predictions\n",
        "y_pred = model.predict(X_test)\n",
        "y_pred_classes = (y_pred > 0.5).astype(\"int32\")  # Convert probabilities to class labels\n",
        "y_true = y_test  # True class labels\n",
        "\n",
        "# Compute confusion matrix\n",
        "cm = confusion_matrix(y_true, y_pred_classes)\n",
        "\n",
        "# Create subplots: 1 row, 3 columns\n",
        "fig, ax = plt.subplots(1, 3, figsize=(15, 5))\n",
        "\n",
        "# Plot training & validation accuracy\n",
        "ax[0].plot(history.history['accuracy'], label='Train Accuracy')\n",
        "ax[0].plot(history.history['val_accuracy'], label='Validation Accuracy')\n",
        "ax[0].set_title('Model Accuracy')\n",
        "ax[0].set_xlabel('Epochs')\n",
        "ax[0].set_ylabel('Accuracy')\n",
        "ax[0].legend()\n",
        "\n",
        "# Plot training & validation loss\n",
        "ax[1].plot(history.history['loss'], label='Train Loss')\n",
        "ax[1].plot(history.history['val_loss'], label='Validation Loss')\n",
        "ax[1].set_title('Model Loss')\n",
        "ax[1].set_xlabel('Epochs')\n",
        "ax[1].set_ylabel('Loss')\n",
        "ax[1].legend()\n",
        "\n",
        "# Plot confusion matrix\n",
        "disp = ConfusionMatrixDisplay(confusion_matrix=cm, display_labels=[0, 1])\n",
        "disp.plot(ax=ax[2], cmap=\"Blues\")\n",
        "ax[2].set_title('Confusion Matrix')\n",
        "\n",
        "# Adjust layout for better visualization\n",
        "plt.tight_layout()\n",
        "plt.show()"
      ]
    },
    {
      "cell_type": "markdown",
      "metadata": {
        "id": "sItOwRinpH8c"
      },
      "source": [
        "Save to .pkl"
      ]
    },
    {
      "cell_type": "code",
      "execution_count": null,
      "metadata": {
        "colab": {
          "base_uri": "https://localhost:8080/"
        },
        "id": "zitEV71PWfm5",
        "outputId": "6f8be18e-06a1-424e-dcdc-ee4f7c848c5d"
      },
      "outputs": [
        {
          "data": {
            "text/plain": [
              "['/content/drive/MyDrive//fyp3_valence.pkl']"
            ]
          },
          "execution_count": 63,
          "metadata": {},
          "output_type": "execute_result"
        }
      ],
      "source": [
        "save_path = \"/content/drive/MyDrive/\"\n",
        "\n",
        "# Save the best model with the specified name\n",
        "save_file = f\"{save_path}/fyp3_valence.pkl\"\n",
        "joblib.dump(model, save_file)"
      ]
    },
    {
      "cell_type": "markdown",
      "metadata": {
        "id": "Fx71VbukWfm7"
      },
      "source": [
        "Load from .pkl"
      ]
    },
    {
      "cell_type": "code",
      "execution_count": null,
      "metadata": {
        "collapsed": true,
        "id": "vev09o_WWfm7"
      },
      "outputs": [],
      "source": [
        "# temp=X_test[268400]\n",
        "\n",
        "# # Assuming X_test[0] has shape (709,)\n",
        "# reshaped_data = np.reshape(temp, (1, temp.shape[0]))"
      ]
    },
    {
      "cell_type": "code",
      "execution_count": null,
      "metadata": {
        "colab": {
          "base_uri": "https://localhost:8080/"
        },
        "id": "6fU7DPM6Wfm8",
        "outputId": "0f1935c2-0cbb-410d-8639-31f9d1db6b1b"
      },
      "outputs": [
        {
          "name": "stdout",
          "output_type": "stream",
          "text": [
            "\u001b[1m1/1\u001b[0m \u001b[32m━━━━━━━━━━━━━━━━━━━━\u001b[0m\u001b[37m\u001b[0m \u001b[1m0s\u001b[0m 90ms/step\n",
            "[[0]]\n"
          ]
        }
      ],
      "source": [
        "import joblib\n",
        "\n",
        "# Specify the path to the saved model file\n",
        "save_path = \"/content/drive/MyDrive/\"\n",
        "save_file = f\"{save_path}/fyp3_valence.pkl\"\n",
        "\n",
        "# Load the model\n",
        "loaded_model = joblib.load(save_file)\n",
        "\n",
        "# Make predictions on the test data\n",
        "y_pred = loaded_model.predict(reshaped_data)\n",
        "\n",
        "binary_prediction = (y_pred > 0.5).astype(int)\n",
        "print(binary_prediction)\n"
      ]
    }
  ],
  "metadata": {
    "accelerator": "TPU",
    "colab": {
      "collapsed_sections": [
        "FYZzPAqBekIW"
      ],
      "gpuType": "V28",
      "provenance": []
    },
    "kernelspec": {
      "display_name": "Python 3",
      "name": "python3"
    },
    "language_info": {
      "name": "python"
    }
  },
  "nbformat": 4,
  "nbformat_minor": 0
}
