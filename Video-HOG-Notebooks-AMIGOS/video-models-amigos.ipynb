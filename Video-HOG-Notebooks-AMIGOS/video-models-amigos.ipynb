{
  "cells": [
    {
      "cell_type": "markdown",
      "metadata": {
        "id": "vE1gzUYd4IKC"
      },
      "source": [
        "**AMIGOS FACIAL VIDEOS**"
      ]
    },
    {
      "cell_type": "code",
      "execution_count": null,
      "metadata": {
        "colab": {
          "base_uri": "https://localhost:8080/"
        },
        "id": "Hr7adh1PJHHy",
        "outputId": "725ac5fd-28f4-4a04-d93b-c4849200783f"
      },
      "outputs": [
        {
          "name": "stdout",
          "output_type": "stream",
          "text": [
            "Mounted at /content/drive\n"
          ]
        }
      ],
      "source": [
        "from google.colab import drive\n",
        "drive.mount('/content/drive')"
      ]
    },
    {
      "cell_type": "markdown",
      "metadata": {
        "id": "j_a3Vu3jZOGa"
      },
      "source": [
        "# **ML Models**"
      ]
    },
    {
      "cell_type": "code",
      "execution_count": null,
      "metadata": {
        "id": "E3auRozVcb2Z"
      },
      "outputs": [],
      "source": [
        "from sklearn.model_selection import train_test_split\n",
        "from sklearn.svm import SVC\n",
        "from sklearn.metrics import accuracy_score\n",
        "from sklearn.cluster import KMeans\n",
        "from sklearn.linear_model import LinearRegression\n",
        "from sklearn.linear_model import LogisticRegression\n",
        "from sklearn.ensemble import RandomForestRegressor\n",
        "from sklearn.linear_model import LogisticRegression\n",
        "from sklearn.tree import DecisionTreeClassifier\n",
        "from sklearn.neighbors import KNeighborsClassifier\n",
        "from sklearn.ensemble import GradientBoostingClassifier\n",
        "from sklearn.metrics import mean_squared_error, r2_score\n",
        "from sklearn.metrics import classification_report, log_loss, confusion_matrix\n",
        "import seaborn as sns\n",
        "import matplotlib.pyplot as plt\n",
        "import pandas as pd\n",
        "import random\n",
        "import numpy as np"
      ]
    },
    {
      "cell_type": "code",
      "execution_count": null,
      "metadata": {
        "id": "uXZOsxVzMXoO"
      },
      "outputs": [],
      "source": [
        "\"\"\"\n",
        "\n",
        "Load Mega_df from Drive\n",
        "\n",
        "\"\"\"\n",
        "\n",
        "mega_df = pd.read_csv(\"/content/drive/MyDrive/Amigos/Mega_DF_2.csv\")"
      ]
    },
    {
      "cell_type": "code",
      "execution_count": null,
      "metadata": {
        "colab": {
          "base_uri": "https://localhost:8080/",
          "height": 443
        },
        "id": "L6kZ5wfpDogD",
        "outputId": "42bbe35b-85d2-45d5-9cc6-00b0d7be6dc8"
      },
      "outputs": [],
      "source": [
        "mega_df"
      ]
    },
    {
      "cell_type": "code",
      "execution_count": null,
      "metadata": {
        "colab": {
          "base_uri": "https://localhost:8080/"
        },
        "id": "70i8NvsLQI9J",
        "outputId": "b7e28478-6c44-40d2-dc8d-59cbe7f06241"
      },
      "outputs": [
        {
          "name": "stdout",
          "output_type": "stream",
          "text": [
            "<class 'pandas.core.frame.DataFrame'>\n",
            "RangeIndex: 1280 entries, 0 to 1279\n",
            "Columns: 6412 entries, Feature1 to sadness\n",
            "dtypes: float64(6405), int64(7)\n",
            "memory usage: 62.6 MB\n"
          ]
        }
      ],
      "source": [
        "mega_df.info()"
      ]
    },
    {
      "cell_type": "code",
      "execution_count": null,
      "metadata": {
        "colab": {
          "base_uri": "https://localhost:8080/"
        },
        "id": "LejMBJDuQI9J",
        "outputId": "93d8a4ab-f213-46e1-968f-1c1c70fdab22"
      },
      "outputs": [
        {
          "data": {
            "text/plain": [
              "Index(['arousal', 'valence', 'dominance', 'liking', 'familiarity', 'neutral',\n",
              "       'disgust', 'happiness', 'surprise', 'anger', 'fear', 'sadness'],\n",
              "      dtype='object')"
            ]
          },
          "execution_count": 7,
          "metadata": {},
          "output_type": "execute_result"
        }
      ],
      "source": [
        "mega_df.columns[6400:]"
      ]
    },
    {
      "cell_type": "markdown",
      "metadata": {
        "id": "8V4I0jb-QI9K"
      },
      "source": [
        "## **Label: Arousal**"
      ]
    },
    {
      "cell_type": "code",
      "execution_count": null,
      "metadata": {
        "colab": {
          "base_uri": "https://localhost:8080/",
          "height": 458
        },
        "id": "Bvw7QDTHQI9K",
        "outputId": "b3e88188-a2bc-44d2-ed17-560374a06aa6"
      },
      "outputs": [
        {
          "data": {
            "text/html": [
              "<div>\n",
              "<style scoped>\n",
              "    .dataframe tbody tr th:only-of-type {\n",
              "        vertical-align: middle;\n",
              "    }\n",
              "\n",
              "    .dataframe tbody tr th {\n",
              "        vertical-align: top;\n",
              "    }\n",
              "\n",
              "    .dataframe thead th {\n",
              "        text-align: right;\n",
              "    }\n",
              "</style>\n",
              "<table border=\"1\" class=\"dataframe\">\n",
              "  <thead>\n",
              "    <tr style=\"text-align: right;\">\n",
              "      <th></th>\n",
              "      <th>arousal</th>\n",
              "    </tr>\n",
              "  </thead>\n",
              "  <tbody>\n",
              "    <tr>\n",
              "      <th>0</th>\n",
              "      <td>6.488056</td>\n",
              "    </tr>\n",
              "    <tr>\n",
              "      <th>1</th>\n",
              "      <td>6.488056</td>\n",
              "    </tr>\n",
              "    <tr>\n",
              "      <th>2</th>\n",
              "      <td>4.931744</td>\n",
              "    </tr>\n",
              "    <tr>\n",
              "      <th>3</th>\n",
              "      <td>4.931744</td>\n",
              "    </tr>\n",
              "    <tr>\n",
              "      <th>4</th>\n",
              "      <td>3.129696</td>\n",
              "    </tr>\n",
              "    <tr>\n",
              "      <th>...</th>\n",
              "      <td>...</td>\n",
              "    </tr>\n",
              "    <tr>\n",
              "      <th>1275</th>\n",
              "      <td>5.555936</td>\n",
              "    </tr>\n",
              "    <tr>\n",
              "      <th>1276</th>\n",
              "      <td>5.000000</td>\n",
              "    </tr>\n",
              "    <tr>\n",
              "      <th>1277</th>\n",
              "      <td>5.000000</td>\n",
              "    </tr>\n",
              "    <tr>\n",
              "      <th>1278</th>\n",
              "      <td>5.000000</td>\n",
              "    </tr>\n",
              "    <tr>\n",
              "      <th>1279</th>\n",
              "      <td>5.000000</td>\n",
              "    </tr>\n",
              "  </tbody>\n",
              "</table>\n",
              "<p>1280 rows × 1 columns</p>\n",
              "</div><br><label><b>dtype:</b> float64</label>"
            ],
            "text/plain": [
              "0       6.488056\n",
              "1       6.488056\n",
              "2       4.931744\n",
              "3       4.931744\n",
              "4       3.129696\n",
              "          ...   \n",
              "1275    5.555936\n",
              "1276    5.000000\n",
              "1277    5.000000\n",
              "1278    5.000000\n",
              "1279    5.000000\n",
              "Name: arousal, Length: 1280, dtype: float64"
            ]
          },
          "execution_count": 8,
          "metadata": {},
          "output_type": "execute_result"
        }
      ],
      "source": [
        "mega_df['arousal']"
      ]
    },
    {
      "cell_type": "code",
      "execution_count": null,
      "metadata": {
        "id": "BDlC6WDHQI9K"
      },
      "outputs": [],
      "source": [
        "# set threshold to 4.5. If the value in arousal column is >= threshold set it to 1 else 0\n",
        "\n",
        "threshold = 4.5\n",
        "mega_df['arousal'] = mega_df['arousal'].apply(lambda x: '1' if float(x) >= threshold else '0')"
      ]
    },
    {
      "cell_type": "code",
      "execution_count": null,
      "metadata": {
        "colab": {
          "base_uri": "https://localhost:8080/",
          "height": 458
        },
        "id": "RMsWD0B9QI9K",
        "outputId": "f4e5bc07-ffeb-492b-ec48-27ef613607a7"
      },
      "outputs": [
        {
          "data": {
            "text/html": [
              "<div>\n",
              "<style scoped>\n",
              "    .dataframe tbody tr th:only-of-type {\n",
              "        vertical-align: middle;\n",
              "    }\n",
              "\n",
              "    .dataframe tbody tr th {\n",
              "        vertical-align: top;\n",
              "    }\n",
              "\n",
              "    .dataframe thead th {\n",
              "        text-align: right;\n",
              "    }\n",
              "</style>\n",
              "<table border=\"1\" class=\"dataframe\">\n",
              "  <thead>\n",
              "    <tr style=\"text-align: right;\">\n",
              "      <th></th>\n",
              "      <th>arousal</th>\n",
              "    </tr>\n",
              "  </thead>\n",
              "  <tbody>\n",
              "    <tr>\n",
              "      <th>0</th>\n",
              "      <td>1</td>\n",
              "    </tr>\n",
              "    <tr>\n",
              "      <th>1</th>\n",
              "      <td>1</td>\n",
              "    </tr>\n",
              "    <tr>\n",
              "      <th>2</th>\n",
              "      <td>1</td>\n",
              "    </tr>\n",
              "    <tr>\n",
              "      <th>3</th>\n",
              "      <td>1</td>\n",
              "    </tr>\n",
              "    <tr>\n",
              "      <th>4</th>\n",
              "      <td>0</td>\n",
              "    </tr>\n",
              "    <tr>\n",
              "      <th>...</th>\n",
              "      <td>...</td>\n",
              "    </tr>\n",
              "    <tr>\n",
              "      <th>1275</th>\n",
              "      <td>1</td>\n",
              "    </tr>\n",
              "    <tr>\n",
              "      <th>1276</th>\n",
              "      <td>1</td>\n",
              "    </tr>\n",
              "    <tr>\n",
              "      <th>1277</th>\n",
              "      <td>1</td>\n",
              "    </tr>\n",
              "    <tr>\n",
              "      <th>1278</th>\n",
              "      <td>1</td>\n",
              "    </tr>\n",
              "    <tr>\n",
              "      <th>1279</th>\n",
              "      <td>1</td>\n",
              "    </tr>\n",
              "  </tbody>\n",
              "</table>\n",
              "<p>1280 rows × 1 columns</p>\n",
              "</div><br><label><b>dtype:</b> object</label>"
            ],
            "text/plain": [
              "0       1\n",
              "1       1\n",
              "2       1\n",
              "3       1\n",
              "4       0\n",
              "       ..\n",
              "1275    1\n",
              "1276    1\n",
              "1277    1\n",
              "1278    1\n",
              "1279    1\n",
              "Name: arousal, Length: 1280, dtype: object"
            ]
          },
          "execution_count": 10,
          "metadata": {},
          "output_type": "execute_result"
        }
      ],
      "source": [
        "mega_df['arousal']"
      ]
    },
    {
      "cell_type": "code",
      "execution_count": null,
      "metadata": {
        "id": "qb9nowleQI9K"
      },
      "outputs": [],
      "source": [
        "# DataFrame is named mega_df\n",
        "# shuffled_df = mega_df.sample(frac=1).reset_index(drop=True)"
      ]
    },
    {
      "cell_type": "code",
      "execution_count": null,
      "metadata": {
        "id": "r-ZZZYk2QI9L"
      },
      "outputs": [],
      "source": [
        "# Assuming your DataFrame is named 'mega_df'\n",
        "features = mega_df.iloc[:, :6400].values  # Selecting the first 128 columns as features\n",
        "label = mega_df['arousal'].values  # Selecting the 129th column as the label\n",
        "\n",
        "# Split the data into training and testing sets\n",
        "X_train, X_test, y_train, y_test = train_test_split(features, label, test_size=0.2, random_state=32)"
      ]
    },
    {
      "cell_type": "code",
      "execution_count": null,
      "metadata": {
        "id": "r6kCajByQI9L"
      },
      "outputs": [],
      "source": [
        "y_test = np.array([int(Y) for Y in y_test])\n",
        "y_train = np.array([int(Y) for Y in y_train])"
      ]
    },
    {
      "cell_type": "code",
      "execution_count": null,
      "metadata": {
        "colab": {
          "base_uri": "https://localhost:8080/"
        },
        "id": "j2L29dlNQI9L",
        "outputId": "d725e22b-03c6-4b55-b020-0510af05b0ed"
      },
      "outputs": [
        {
          "name": "stdout",
          "output_type": "stream",
          "text": [
            "(1024, 6400)\n",
            "(1024,)\n",
            "(256, 6400)\n",
            "(256,)\n"
          ]
        }
      ],
      "source": [
        "print(X_train.shape)\n",
        "print(y_train.shape)\n",
        "print(X_test.shape)\n",
        "print(y_test.shape)"
      ]
    },
    {
      "cell_type": "code",
      "execution_count": null,
      "metadata": {
        "colab": {
          "base_uri": "https://localhost:8080/"
        },
        "id": "cQkvXRKMQI9L",
        "outputId": "7f04451e-efef-4d4a-8158-5f459911b879"
      },
      "outputs": [
        {
          "name": "stdout",
          "output_type": "stream",
          "text": [
            "Accuracy: 69.14%\n",
            "              precision    recall  f1-score   support\n",
            "\n",
            "           0       0.52      0.52      0.52        82\n",
            "           1       0.77      0.77      0.77       174\n",
            "\n",
            "    accuracy                           0.69       256\n",
            "   macro avg       0.65      0.65      0.65       256\n",
            "weighted avg       0.69      0.69      0.69       256\n",
            "\n"
          ]
        }
      ],
      "source": [
        "# Create an SVM classifier\n",
        "svm_model = SVC(kernel='linear', C=1)  # You can also try 'rbf' or 'poly' kernels\n",
        "# Train the model\n",
        "svm_model.fit(X_train, y_train)\n",
        "# Make predictions on the test set\n",
        "y_pred_SVC = svm_model.predict(X_test)\n",
        "# Calculate the accuracy\n",
        "accuracy_svc = accuracy_score(y_test, y_pred_SVC)\n",
        "print(f\"Accuracy: {accuracy_svc * 100:.2f}%\")\n",
        "# Print classification report\n",
        "print(classification_report(y_test, y_pred_SVC))"
      ]
    },
    {
      "cell_type": "code",
      "execution_count": null,
      "metadata": {
        "colab": {
          "base_uri": "https://localhost:8080/"
        },
        "id": "6k2Y9DBzQI9L",
        "outputId": "d16579ee-7e0f-427b-cc68-c23b70180d6b"
      },
      "outputs": [
        {
          "name": "stdout",
          "output_type": "stream",
          "text": [
            "Accuracy: 65.62%\n",
            "Classification Report:\n",
            "              precision    recall  f1-score   support\n",
            "\n",
            "           0       0.47      0.49      0.48        82\n",
            "           1       0.75      0.74      0.74       174\n",
            "\n",
            "    accuracy                           0.66       256\n",
            "   macro avg       0.61      0.61      0.61       256\n",
            "weighted avg       0.66      0.66      0.66       256\n",
            "\n"
          ]
        }
      ],
      "source": [
        "# Initialize the Decision Tree classifier\n",
        "clf = DecisionTreeClassifier()\n",
        "# Train the model on the training data\n",
        "clf.fit(X_train, y_train)\n",
        "# Make predictions on the test data\n",
        "y_pred_DT = clf.predict(X_test)\n",
        "# Evaluate the model\n",
        "accuracy_dt = accuracy_score(y_test, y_pred_DT)\n",
        "class_report = classification_report(y_test, y_pred_DT)\n",
        "# Print the results\n",
        "print(f\"Accuracy: {accuracy_dt * 100:.2f}%\")\n",
        "print(\"Classification Report:\")\n",
        "print(class_report)"
      ]
    },
    {
      "cell_type": "code",
      "execution_count": null,
      "metadata": {
        "colab": {
          "base_uri": "https://localhost:8080/"
        },
        "id": "JByLb9JKQI9M",
        "outputId": "c0bad75a-9748-4ac7-b362-f5a30b2b7d20"
      },
      "outputs": [
        {
          "name": "stdout",
          "output_type": "stream",
          "text": [
            "KNN Accuracy: 73.83%\n",
            "KNN Classification Report:\n",
            "              precision    recall  f1-score   support\n",
            "\n",
            "           0       0.59      0.62      0.60        82\n",
            "           1       0.82      0.79      0.80       174\n",
            "\n",
            "    accuracy                           0.74       256\n",
            "   macro avg       0.70      0.71      0.70       256\n",
            "weighted avg       0.74      0.74      0.74       256\n",
            "\n"
          ]
        }
      ],
      "source": [
        "# Initialize the KNN classifier\n",
        "knn = KNeighborsClassifier(n_neighbors=5)  # You can change n_neighbors to tune the model\n",
        "# Train the KNN model on the training data\n",
        "knn.fit(X_train, y_train)\n",
        "# Make predictions on the test data\n",
        "y_pred_knn = knn.predict(X_test)\n",
        "# Evaluate the KNN model\n",
        "accuracy_knn = accuracy_score(y_test, y_pred_knn)\n",
        "class_report_knn = classification_report(y_test, y_pred_knn)\n",
        "# Print the results\n",
        "print(f\"KNN Accuracy: {accuracy_knn * 100:.2f}%\")\n",
        "print(\"KNN Classification Report:\")\n",
        "print(class_report_knn)"
      ]
    },
    {
      "cell_type": "code",
      "execution_count": null,
      "metadata": {
        "colab": {
          "base_uri": "https://localhost:8080/"
        },
        "id": "lamnxCfeQI9M",
        "outputId": "41d485c2-dcdf-4859-d44e-d60f7da85dbe"
      },
      "outputs": [
        {
          "name": "stdout",
          "output_type": "stream",
          "text": [
            "Accuracy: 70.31%\n",
            "              precision    recall  f1-score   support\n",
            "\n",
            "           0       0.54      0.51      0.53        82\n",
            "           1       0.78      0.79      0.78       174\n",
            "\n",
            "    accuracy                           0.70       256\n",
            "   macro avg       0.66      0.65      0.65       256\n",
            "weighted avg       0.70      0.70      0.70       256\n",
            "\n"
          ]
        }
      ],
      "source": [
        "# Create and train a Logistic Regression model\n",
        "lrc_model = LogisticRegression(solver='lbfgs', max_iter=1000, random_state=42)\n",
        "lrc_model.fit(X_train, y_train)\n",
        "# Make predictions\n",
        "y_pred_LRC = lrc_model.predict(X_test)\n",
        "# Evaluate the model\n",
        "accuracy_lr = accuracy_score(y_test, y_pred_LRC)\n",
        "print(f\"Accuracy: {accuracy_lr * 100:.2f}%\")\n",
        "# Print classification report\n",
        "print(classification_report(y_test, y_pred_LRC))"
      ]
    },
    {
      "cell_type": "code",
      "execution_count": null,
      "metadata": {
        "colab": {
          "base_uri": "https://localhost:8080/"
        },
        "id": "pTft7dy3QI9M",
        "outputId": "db4b3df8-f830-47bc-9441-12b5e82a6f9e"
      },
      "outputs": [
        {
          "name": "stdout",
          "output_type": "stream",
          "text": [
            "GBM Accuracy: 75.00%\n",
            "GBM Classification Report:\n",
            "              precision    recall  f1-score   support\n",
            "\n",
            "           0       0.70      0.39      0.50        82\n",
            "           1       0.76      0.92      0.83       174\n",
            "\n",
            "    accuracy                           0.75       256\n",
            "   macro avg       0.73      0.65      0.67       256\n",
            "weighted avg       0.74      0.75      0.73       256\n",
            "\n"
          ]
        }
      ],
      "source": [
        "# Initialize the Gradient Boosting classifier\n",
        "gbm = GradientBoostingClassifier()\n",
        "# Train the GBM model on the training data\n",
        "gbm.fit(X_train, y_train)\n",
        "# Make predictions on the test data\n",
        "y_pred_gbm = gbm.predict(X_test)\n",
        "# Evaluate the GBM model\n",
        "accuracy_gbm = accuracy_score(y_test, y_pred_gbm)\n",
        "class_report_gbm = classification_report(y_test, y_pred_gbm)\n",
        "# Print the results\n",
        "print(f\"GBM Accuracy: {accuracy_gbm * 100:.2f}%\")\n",
        "print(\"GBM Classification Report:\")\n",
        "print(class_report_gbm)"
      ]
    },
    {
      "cell_type": "code",
      "execution_count": null,
      "metadata": {
        "colab": {
          "base_uri": "https://localhost:8080/",
          "height": 391
        },
        "id": "p9d_z3WPkXeW",
        "outputId": "7a727a62-74d4-4421-eb37-9c66cc7b5cd9"
      },
      "outputs": [
        {
          "data": {
            "image/png": "[encoded data removed]",
            "text/plain": [
              "<Figure size 600x400 with 1 Axes>"
            ]
          },
          "metadata": {},
          "output_type": "display_data"
        }
      ],
      "source": [
        "# Plot the accuracy score\n",
        "plt.figure(figsize=(6, 4))\n",
        "plt.bar(['Gradient Boosting Model'], [accuracy_gbm], color='skyblue')\n",
        "plt.ylim(0, 1)\n",
        "plt.ylabel(\"Accuracy (%)\")\n",
        "plt.title(\"Test Accuracy Score\")\n",
        "plt.show()"
      ]
    },
    {
      "cell_type": "code",
      "execution_count": null,
      "metadata": {
        "colab": {
          "base_uri": "https://localhost:8080/",
          "height": 564
        },
        "id": "h5vCnZVnQI9N",
        "outputId": "0cafc68f-59ba-4fcd-9e91-b99596865015"
      },
      "outputs": [
        {
          "data": {
            "image/png": "[encoded data removed]",
            "text/plain": [
              "<Figure size 800x600 with 2 Axes>"
            ]
          },
          "metadata": {},
          "output_type": "display_data"
        }
      ],
      "source": [
        "# Generate confusion matrix\n",
        "cm = confusion_matrix(y_test, y_pred_gbm)\n",
        "\n",
        "# Plot confusion matrix\n",
        "plt.figure(figsize=(8, 6))\n",
        "sns.heatmap(cm, annot=True, fmt='d', cmap='Blues', xticklabels=['Class 0', 'Class 1'], yticklabels=['Class 0', 'Class 1'])\n",
        "plt.xlabel('Predicted Label')\n",
        "plt.ylabel('True Label')\n",
        "plt.title('Confusion Matrix')\n",
        "plt.show()"
      ]
    },
    {
      "cell_type": "code",
      "execution_count": null,
      "metadata": {
        "id": "lbrS_bhhQI9N"
      },
      "outputs": [],
      "source": []
    },
    {
      "cell_type": "markdown",
      "metadata": {
        "id": "bSA0fbgSQI9N"
      },
      "source": [
        "## **Label: Valence**"
      ]
    },
    {
      "cell_type": "code",
      "execution_count": null,
      "metadata": {
        "colab": {
          "base_uri": "https://localhost:8080/",
          "height": 458
        },
        "id": "JAr1le-YQI9N",
        "outputId": "fb9509c0-2a24-4745-8a36-3bb1b8f98830"
      },
      "outputs": [
        {
          "data": {
            "text/html": [
              "<div>\n",
              "<style scoped>\n",
              "    .dataframe tbody tr th:only-of-type {\n",
              "        vertical-align: middle;\n",
              "    }\n",
              "\n",
              "    .dataframe tbody tr th {\n",
              "        vertical-align: top;\n",
              "    }\n",
              "\n",
              "    .dataframe thead th {\n",
              "        text-align: right;\n",
              "    }\n",
              "</style>\n",
              "<table border=\"1\" class=\"dataframe\">\n",
              "  <thead>\n",
              "    <tr style=\"text-align: right;\">\n",
              "      <th></th>\n",
              "      <th>valence</th>\n",
              "    </tr>\n",
              "  </thead>\n",
              "  <tbody>\n",
              "    <tr>\n",
              "      <th>0</th>\n",
              "      <td>9.000000</td>\n",
              "    </tr>\n",
              "    <tr>\n",
              "      <th>1</th>\n",
              "      <td>9.000000</td>\n",
              "    </tr>\n",
              "    <tr>\n",
              "      <th>2</th>\n",
              "      <td>6.651880</td>\n",
              "    </tr>\n",
              "    <tr>\n",
              "      <th>3</th>\n",
              "      <td>6.651880</td>\n",
              "    </tr>\n",
              "    <tr>\n",
              "      <th>4</th>\n",
              "      <td>6.761096</td>\n",
              "    </tr>\n",
              "    <tr>\n",
              "      <th>...</th>\n",
              "      <td>...</td>\n",
              "    </tr>\n",
              "    <tr>\n",
              "      <th>1275</th>\n",
              "      <td>6.288136</td>\n",
              "    </tr>\n",
              "    <tr>\n",
              "      <th>1276</th>\n",
              "      <td>6.667800</td>\n",
              "    </tr>\n",
              "    <tr>\n",
              "      <th>1277</th>\n",
              "      <td>6.667800</td>\n",
              "    </tr>\n",
              "    <tr>\n",
              "      <th>1278</th>\n",
              "      <td>3.983048</td>\n",
              "    </tr>\n",
              "    <tr>\n",
              "      <th>1279</th>\n",
              "      <td>3.983048</td>\n",
              "    </tr>\n",
              "  </tbody>\n",
              "</table>\n",
              "<p>1280 rows × 1 columns</p>\n",
              "</div><br><label><b>dtype:</b> float64</label>"
            ],
            "text/plain": [
              "0       9.000000\n",
              "1       9.000000\n",
              "2       6.651880\n",
              "3       6.651880\n",
              "4       6.761096\n",
              "          ...   \n",
              "1275    6.288136\n",
              "1276    6.667800\n",
              "1277    6.667800\n",
              "1278    3.983048\n",
              "1279    3.983048\n",
              "Name: valence, Length: 1280, dtype: float64"
            ]
          },
          "execution_count": 25,
          "metadata": {},
          "output_type": "execute_result"
        }
      ],
      "source": [
        "mega_df['valence']"
      ]
    },
    {
      "cell_type": "code",
      "execution_count": null,
      "metadata": {
        "id": "gbeohuRwMx5L"
      },
      "outputs": [],
      "source": [
        "# set threshold to 4.5. If the value in arousal column is >= threshold set it to 1 else 0\n",
        "\n",
        "threshold = 4.5\n",
        "mega_df['valence'] = mega_df['valence'].apply(lambda x: '1' if float(x) >= threshold else '0')"
      ]
    },
    {
      "cell_type": "code",
      "execution_count": null,
      "metadata": {
        "colab": {
          "base_uri": "https://localhost:8080/",
          "height": 458
        },
        "id": "vy-R_zVVQI9O",
        "outputId": "51e98526-1d59-403e-8ec8-d780c0ac76d4"
      },
      "outputs": [
        {
          "data": {
            "text/html": [
              "<div>\n",
              "<style scoped>\n",
              "    .dataframe tbody tr th:only-of-type {\n",
              "        vertical-align: middle;\n",
              "    }\n",
              "\n",
              "    .dataframe tbody tr th {\n",
              "        vertical-align: top;\n",
              "    }\n",
              "\n",
              "    .dataframe thead th {\n",
              "        text-align: right;\n",
              "    }\n",
              "</style>\n",
              "<table border=\"1\" class=\"dataframe\">\n",
              "  <thead>\n",
              "    <tr style=\"text-align: right;\">\n",
              "      <th></th>\n",
              "      <th>valence</th>\n",
              "    </tr>\n",
              "  </thead>\n",
              "  <tbody>\n",
              "    <tr>\n",
              "      <th>0</th>\n",
              "      <td>1</td>\n",
              "    </tr>\n",
              "    <tr>\n",
              "      <th>1</th>\n",
              "      <td>1</td>\n",
              "    </tr>\n",
              "    <tr>\n",
              "      <th>2</th>\n",
              "      <td>1</td>\n",
              "    </tr>\n",
              "    <tr>\n",
              "      <th>3</th>\n",
              "      <td>1</td>\n",
              "    </tr>\n",
              "    <tr>\n",
              "      <th>4</th>\n",
              "      <td>1</td>\n",
              "    </tr>\n",
              "    <tr>\n",
              "      <th>...</th>\n",
              "      <td>...</td>\n",
              "    </tr>\n",
              "    <tr>\n",
              "      <th>1275</th>\n",
              "      <td>1</td>\n",
              "    </tr>\n",
              "    <tr>\n",
              "      <th>1276</th>\n",
              "      <td>1</td>\n",
              "    </tr>\n",
              "    <tr>\n",
              "      <th>1277</th>\n",
              "      <td>1</td>\n",
              "    </tr>\n",
              "    <tr>\n",
              "      <th>1278</th>\n",
              "      <td>0</td>\n",
              "    </tr>\n",
              "    <tr>\n",
              "      <th>1279</th>\n",
              "      <td>0</td>\n",
              "    </tr>\n",
              "  </tbody>\n",
              "</table>\n",
              "<p>1280 rows × 1 columns</p>\n",
              "</div><br><label><b>dtype:</b> object</label>"
            ],
            "text/plain": [
              "0       1\n",
              "1       1\n",
              "2       1\n",
              "3       1\n",
              "4       1\n",
              "       ..\n",
              "1275    1\n",
              "1276    1\n",
              "1277    1\n",
              "1278    0\n",
              "1279    0\n",
              "Name: valence, Length: 1280, dtype: object"
            ]
          },
          "execution_count": 27,
          "metadata": {},
          "output_type": "execute_result"
        }
      ],
      "source": [
        "mega_df['valence']"
      ]
    },
    {
      "cell_type": "code",
      "execution_count": null,
      "metadata": {
        "id": "UY0EOpIP8K5t"
      },
      "outputs": [],
      "source": [
        "# DataFrame is named mega_df\n",
        "# shuffled_df = mega_df.sample(frac=1).reset_index(drop=True)"
      ]
    },
    {
      "cell_type": "code",
      "execution_count": null,
      "metadata": {
        "id": "7jrk3VQ_CTZ7"
      },
      "outputs": [],
      "source": [
        "# Assuming your DataFrame is named 'mega_df'\n",
        "features = mega_df.iloc[:, :6400].values  # Selecting the first 128 columns as features\n",
        "label = mega_df['valence'].values  # Selecting the 129th column as the label\n",
        "\n",
        "# Split the data into training and testing sets\n",
        "X_train, X_test, y_train, y_test = train_test_split(features, label, test_size=0.2, random_state=32)"
      ]
    },
    {
      "cell_type": "code",
      "execution_count": null,
      "metadata": {
        "id": "FBhs3buyrHdl"
      },
      "outputs": [],
      "source": [
        "y_test = np.array([int(Y) for Y in y_test])\n",
        "y_train = np.array([int(Y) for Y in y_train])"
      ]
    },
    {
      "cell_type": "code",
      "execution_count": null,
      "metadata": {
        "colab": {
          "base_uri": "https://localhost:8080/"
        },
        "id": "_jQFpPa3vkx_",
        "outputId": "3c7b9690-8e75-42fe-9459-947d864cb928"
      },
      "outputs": [
        {
          "name": "stdout",
          "output_type": "stream",
          "text": [
            "(1024, 6400)\n",
            "(1024,)\n",
            "(256, 6400)\n",
            "(256,)\n"
          ]
        }
      ],
      "source": [
        "print(X_train.shape)\n",
        "print(y_train.shape)\n",
        "print(X_test.shape)\n",
        "print(y_test.shape)"
      ]
    },
    {
      "cell_type": "code",
      "execution_count": null,
      "metadata": {
        "colab": {
          "base_uri": "https://localhost:8080/"
        },
        "id": "Ba7f8m9R9jB2",
        "outputId": "1c84d5f6-c83f-4041-d5fe-9326fed3d0f7"
      },
      "outputs": [
        {
          "name": "stdout",
          "output_type": "stream",
          "text": [
            "Accuracy: 57.42%\n",
            "              precision    recall  f1-score   support\n",
            "\n",
            "           0       0.52      0.43      0.47       112\n",
            "           1       0.61      0.69      0.64       144\n",
            "\n",
            "    accuracy                           0.57       256\n",
            "   macro avg       0.56      0.56      0.56       256\n",
            "weighted avg       0.57      0.57      0.57       256\n",
            "\n"
          ]
        }
      ],
      "source": [
        "# Create an SVM classifier\n",
        "svm_model = SVC(kernel='linear', C=1)  # You can also try 'rbf' or 'poly' kernels\n",
        "# Train the model\n",
        "svm_model.fit(X_train, y_train)\n",
        "# Make predictions on the test set\n",
        "y_pred_SVC = svm_model.predict(X_test)\n",
        "# Calculate the accuracy\n",
        "accuracy_svc = accuracy_score(y_test, y_pred_SVC)\n",
        "print(f\"Accuracy: {accuracy_svc * 100:.2f}%\")\n",
        "# Print classification report\n",
        "print(classification_report(y_test, y_pred_SVC))"
      ]
    },
    {
      "cell_type": "code",
      "execution_count": null,
      "metadata": {
        "colab": {
          "base_uri": "https://localhost:8080/"
        },
        "id": "NFpbF-9kbWPl",
        "outputId": "2586c0f1-55db-4c6c-df7e-e292fa9f780e"
      },
      "outputs": [
        {
          "name": "stdout",
          "output_type": "stream",
          "text": [
            "Accuracy: 54.69%\n",
            "Classification Report:\n",
            "              precision    recall  f1-score   support\n",
            "\n",
            "           0       0.48      0.44      0.46       112\n",
            "           1       0.59      0.63      0.61       144\n",
            "\n",
            "    accuracy                           0.55       256\n",
            "   macro avg       0.54      0.53      0.53       256\n",
            "weighted avg       0.54      0.55      0.54       256\n",
            "\n"
          ]
        }
      ],
      "source": [
        "# Initialize the Decision Tree classifier\n",
        "clf = DecisionTreeClassifier()\n",
        "# Train the model on the training data\n",
        "clf.fit(X_train, y_train)\n",
        "# Make predictions on the test data\n",
        "y_pred_DT = clf.predict(X_test)\n",
        "# Evaluate the model\n",
        "accuracy_dt = accuracy_score(y_test, y_pred_DT)\n",
        "class_report = classification_report(y_test, y_pred_DT)\n",
        "# Print the results\n",
        "print(f\"Accuracy: {accuracy_dt * 100:.2f}%\")\n",
        "print(\"Classification Report:\")\n",
        "print(class_report)"
      ]
    },
    {
      "cell_type": "code",
      "execution_count": null,
      "metadata": {
        "colab": {
          "base_uri": "https://localhost:8080/"
        },
        "id": "uiKqhdlJqM4L",
        "outputId": "abc526bb-7773-481c-c2a2-65068866bac1"
      },
      "outputs": [
        {
          "name": "stdout",
          "output_type": "stream",
          "text": [
            "KNN Accuracy: 61.72%\n",
            "KNN Classification Report:\n",
            "              precision    recall  f1-score   support\n",
            "\n",
            "           0       0.56      0.58      0.57       112\n",
            "           1       0.66      0.65      0.65       144\n",
            "\n",
            "    accuracy                           0.62       256\n",
            "   macro avg       0.61      0.61      0.61       256\n",
            "weighted avg       0.62      0.62      0.62       256\n",
            "\n"
          ]
        }
      ],
      "source": [
        "# Initialize the KNN classifier\n",
        "knn = KNeighborsClassifier(n_neighbors=5)  # You can change n_neighbors to tune the model\n",
        "# Train the KNN model on the training data\n",
        "knn.fit(X_train, y_train)\n",
        "# Make predictions on the test data\n",
        "y_pred_knn = knn.predict(X_test)\n",
        "# Evaluate the KNN model\n",
        "accuracy_knn = accuracy_score(y_test, y_pred_knn)\n",
        "class_report_knn = classification_report(y_test, y_pred_knn)\n",
        "# Print the results\n",
        "print(f\"KNN Accuracy: {accuracy_knn * 100:.2f}%\")\n",
        "print(\"KNN Classification Report:\")\n",
        "print(class_report_knn)"
      ]
    },
    {
      "cell_type": "code",
      "execution_count": null,
      "metadata": {
        "colab": {
          "base_uri": "https://localhost:8080/"
        },
        "id": "J-QS92dGbWLU",
        "outputId": "d95faa00-8323-4c42-a453-b719254dbd67"
      },
      "outputs": [
        {
          "name": "stdout",
          "output_type": "stream",
          "text": [
            "Accuracy: 58.59%\n",
            "              precision    recall  f1-score   support\n",
            "\n",
            "           0       0.53      0.42      0.47       112\n",
            "           1       0.61      0.72      0.66       144\n",
            "\n",
            "    accuracy                           0.59       256\n",
            "   macro avg       0.57      0.57      0.57       256\n",
            "weighted avg       0.58      0.59      0.58       256\n",
            "\n"
          ]
        }
      ],
      "source": [
        "# Create and train a Logistic Regression model\n",
        "lrc_model = LogisticRegression(solver='lbfgs', max_iter=1000, random_state=42)\n",
        "lrc_model.fit(X_train, y_train)\n",
        "# Make predictions\n",
        "y_pred_LRC = lrc_model.predict(X_test)\n",
        "# Evaluate the model\n",
        "accuracy_lr = accuracy_score(y_test, y_pred_LRC)\n",
        "print(f\"Accuracy: {accuracy_lr * 100:.2f}%\")\n",
        "# Print classification report\n",
        "print(classification_report(y_test, y_pred_LRC))"
      ]
    },
    {
      "cell_type": "code",
      "execution_count": null,
      "metadata": {
        "colab": {
          "base_uri": "https://localhost:8080/"
        },
        "id": "Aw7aZCoFrxQB",
        "outputId": "7b3619dc-19e6-4915-e7d6-180c24d02afa"
      },
      "outputs": [
        {
          "name": "stdout",
          "output_type": "stream",
          "text": [
            "GBM Accuracy: 57.42%\n",
            "GBM Classification Report:\n",
            "              precision    recall  f1-score   support\n",
            "\n",
            "           0       0.52      0.30      0.38       112\n",
            "           1       0.59      0.78      0.67       144\n",
            "\n",
            "    accuracy                           0.57       256\n",
            "   macro avg       0.56      0.54      0.53       256\n",
            "weighted avg       0.56      0.57      0.55       256\n",
            "\n"
          ]
        }
      ],
      "source": [
        "# Initialize the Gradient Boosting classifier\n",
        "gbm = GradientBoostingClassifier()\n",
        "# Train the GBM model on the training data\n",
        "gbm.fit(X_train, y_train)\n",
        "# Make predictions on the test data\n",
        "y_pred_gbm = gbm.predict(X_test)\n",
        "# Evaluate the GBM model\n",
        "accuracy_gbm = accuracy_score(y_test, y_pred_gbm)\n",
        "class_report_gbm = classification_report(y_test, y_pred_gbm)\n",
        "# Print the results\n",
        "print(f\"GBM Accuracy: {accuracy_gbm * 100:.2f}%\")\n",
        "print(\"GBM Classification Report:\")\n",
        "print(class_report_gbm)"
      ]
    },
    {
      "cell_type": "code",
      "execution_count": null,
      "metadata": {
        "colab": {
          "base_uri": "https://localhost:8080/",
          "height": 391
        },
        "id": "vF-KJf-vkhXq",
        "outputId": "650ea21b-4eba-4c15-eb22-a651db14764b"
      },
      "outputs": [
        {
          "data": {
            "image/png": "[encoded data removed]",
            "text/plain": [
              "<Figure size 600x400 with 1 Axes>"
            ]
          },
          "metadata": {},
          "output_type": "display_data"
        }
      ],
      "source": [
        "# Plot the accuracy score\n",
        "plt.figure(figsize=(6, 4))\n",
        "plt.bar(['Gradient Boosting Model'], [accuracy_knn], color='skyblue')\n",
        "plt.ylim(0, 1)\n",
        "plt.ylabel(\"Accuracy (%)\")\n",
        "plt.title(\"Test Accuracy Score\")\n",
        "plt.show()"
      ]
    },
    {
      "cell_type": "code",
      "execution_count": null,
      "metadata": {
        "colab": {
          "base_uri": "https://localhost:8080/",
          "height": 564
        },
        "id": "hyH1-upPCTO7",
        "outputId": "8d006a1c-3f36-42e6-d02c-3a9bfe88db4f"
      },
      "outputs": [
        {
          "data": {
            "image/png": "[encoded data removed]",
            "text/plain": [
              "<Figure size 800x600 with 2 Axes>"
            ]
          },
          "metadata": {},
          "output_type": "display_data"
        }
      ],
      "source": [
        "# Generate confusion matrix\n",
        "cm = confusion_matrix(y_test, y_pred_knn)\n",
        "\n",
        "# Plot confusion matrix\n",
        "plt.figure(figsize=(8, 6))\n",
        "sns.heatmap(cm, annot=True, fmt='d', cmap='Blues', xticklabels=['Class 0', 'Class 1'], yticklabels=['Class 0', 'Class 1'])\n",
        "plt.xlabel('Predicted Label')\n",
        "plt.ylabel('True Label')\n",
        "plt.title('Confusion Matrix')\n",
        "plt.show()"
      ]
    },
    {
      "cell_type": "code",
      "execution_count": null,
      "metadata": {
        "id": "Ek-QouvZCTMZ"
      },
      "outputs": [],
      "source": []
    },
    {
      "cell_type": "markdown",
      "metadata": {
        "id": "jyE4zAw8Ucqc"
      },
      "source": [
        "## **Label: Dominance**"
      ]
    },
    {
      "cell_type": "code",
      "execution_count": null,
      "metadata": {
        "colab": {
          "base_uri": "https://localhost:8080/",
          "height": 458
        },
        "id": "5xE58bBsUcqd",
        "outputId": "f1d8f34e-f5a1-4c0e-eb7d-b3b0bf10fb86"
      },
      "outputs": [
        {
          "data": {
            "text/html": [
              "<div>\n",
              "<style scoped>\n",
              "    .dataframe tbody tr th:only-of-type {\n",
              "        vertical-align: middle;\n",
              "    }\n",
              "\n",
              "    .dataframe tbody tr th {\n",
              "        vertical-align: top;\n",
              "    }\n",
              "\n",
              "    .dataframe thead th {\n",
              "        text-align: right;\n",
              "    }\n",
              "</style>\n",
              "<table border=\"1\" class=\"dataframe\">\n",
              "  <thead>\n",
              "    <tr style=\"text-align: right;\">\n",
              "      <th></th>\n",
              "      <th>dominance</th>\n",
              "    </tr>\n",
              "  </thead>\n",
              "  <tbody>\n",
              "    <tr>\n",
              "      <th>0</th>\n",
              "      <td>2.829352</td>\n",
              "    </tr>\n",
              "    <tr>\n",
              "      <th>1</th>\n",
              "      <td>2.829352</td>\n",
              "    </tr>\n",
              "    <tr>\n",
              "      <th>2</th>\n",
              "      <td>8.044368</td>\n",
              "    </tr>\n",
              "    <tr>\n",
              "      <th>3</th>\n",
              "      <td>8.044368</td>\n",
              "    </tr>\n",
              "    <tr>\n",
              "      <th>4</th>\n",
              "      <td>4.713312</td>\n",
              "    </tr>\n",
              "    <tr>\n",
              "      <th>...</th>\n",
              "      <td>...</td>\n",
              "    </tr>\n",
              "    <tr>\n",
              "      <th>1275</th>\n",
              "      <td>4.308472</td>\n",
              "    </tr>\n",
              "    <tr>\n",
              "      <th>1276</th>\n",
              "      <td>5.000000</td>\n",
              "    </tr>\n",
              "    <tr>\n",
              "      <th>1277</th>\n",
              "      <td>5.000000</td>\n",
              "    </tr>\n",
              "    <tr>\n",
              "      <th>1278</th>\n",
              "      <td>5.000000</td>\n",
              "    </tr>\n",
              "    <tr>\n",
              "      <th>1279</th>\n",
              "      <td>5.000000</td>\n",
              "    </tr>\n",
              "  </tbody>\n",
              "</table>\n",
              "<p>1280 rows × 1 columns</p>\n",
              "</div><br><label><b>dtype:</b> float64</label>"
            ],
            "text/plain": [
              "0       2.829352\n",
              "1       2.829352\n",
              "2       8.044368\n",
              "3       8.044368\n",
              "4       4.713312\n",
              "          ...   \n",
              "1275    4.308472\n",
              "1276    5.000000\n",
              "1277    5.000000\n",
              "1278    5.000000\n",
              "1279    5.000000\n",
              "Name: dominance, Length: 1280, dtype: float64"
            ]
          },
          "execution_count": 42,
          "metadata": {},
          "output_type": "execute_result"
        }
      ],
      "source": [
        "mega_df['dominance']"
      ]
    },
    {
      "cell_type": "code",
      "execution_count": null,
      "metadata": {
        "id": "7C0L-s3sUcqd"
      },
      "outputs": [],
      "source": [
        "# set threshold to 4.5. If the value in arousal column is >= threshold set it to 1 else 0\n",
        "\n",
        "threshold = 4.5\n",
        "mega_df['dominance'] = mega_df['dominance'].apply(lambda x: '1' if float(x) >= threshold else '0')"
      ]
    },
    {
      "cell_type": "code",
      "execution_count": null,
      "metadata": {
        "colab": {
          "base_uri": "https://localhost:8080/",
          "height": 458
        },
        "id": "Sg0PFOlNUcqe",
        "outputId": "528d17c3-888a-4666-e1fb-518c8707694f"
      },
      "outputs": [
        {
          "data": {
            "text/html": [
              "<div>\n",
              "<style scoped>\n",
              "    .dataframe tbody tr th:only-of-type {\n",
              "        vertical-align: middle;\n",
              "    }\n",
              "\n",
              "    .dataframe tbody tr th {\n",
              "        vertical-align: top;\n",
              "    }\n",
              "\n",
              "    .dataframe thead th {\n",
              "        text-align: right;\n",
              "    }\n",
              "</style>\n",
              "<table border=\"1\" class=\"dataframe\">\n",
              "  <thead>\n",
              "    <tr style=\"text-align: right;\">\n",
              "      <th></th>\n",
              "      <th>dominance</th>\n",
              "    </tr>\n",
              "  </thead>\n",
              "  <tbody>\n",
              "    <tr>\n",
              "      <th>0</th>\n",
              "      <td>0</td>\n",
              "    </tr>\n",
              "    <tr>\n",
              "      <th>1</th>\n",
              "      <td>0</td>\n",
              "    </tr>\n",
              "    <tr>\n",
              "      <th>2</th>\n",
              "      <td>1</td>\n",
              "    </tr>\n",
              "    <tr>\n",
              "      <th>3</th>\n",
              "      <td>1</td>\n",
              "    </tr>\n",
              "    <tr>\n",
              "      <th>4</th>\n",
              "      <td>1</td>\n",
              "    </tr>\n",
              "    <tr>\n",
              "      <th>...</th>\n",
              "      <td>...</td>\n",
              "    </tr>\n",
              "    <tr>\n",
              "      <th>1275</th>\n",
              "      <td>0</td>\n",
              "    </tr>\n",
              "    <tr>\n",
              "      <th>1276</th>\n",
              "      <td>1</td>\n",
              "    </tr>\n",
              "    <tr>\n",
              "      <th>1277</th>\n",
              "      <td>1</td>\n",
              "    </tr>\n",
              "    <tr>\n",
              "      <th>1278</th>\n",
              "      <td>1</td>\n",
              "    </tr>\n",
              "    <tr>\n",
              "      <th>1279</th>\n",
              "      <td>1</td>\n",
              "    </tr>\n",
              "  </tbody>\n",
              "</table>\n",
              "<p>1280 rows × 1 columns</p>\n",
              "</div><br><label><b>dtype:</b> object</label>"
            ],
            "text/plain": [
              "0       0\n",
              "1       0\n",
              "2       1\n",
              "3       1\n",
              "4       1\n",
              "       ..\n",
              "1275    0\n",
              "1276    1\n",
              "1277    1\n",
              "1278    1\n",
              "1279    1\n",
              "Name: dominance, Length: 1280, dtype: object"
            ]
          },
          "execution_count": 44,
          "metadata": {},
          "output_type": "execute_result"
        }
      ],
      "source": [
        "mega_df['dominance']"
      ]
    },
    {
      "cell_type": "code",
      "execution_count": null,
      "metadata": {
        "id": "jtjp6_6vUcqe"
      },
      "outputs": [],
      "source": [
        "# DataFrame is named mega_df\n",
        "# shuffled_df = mega_df.sample(frac=1).reset_index(drop=True)"
      ]
    },
    {
      "cell_type": "code",
      "execution_count": null,
      "metadata": {
        "id": "4jIKwg5tUcqe"
      },
      "outputs": [],
      "source": [
        "# Assuming your DataFrame is named 'mega_df'\n",
        "features = mega_df.iloc[:, :6400].values  # Selecting the first 128 columns as features\n",
        "label = mega_df['dominance'].values  # Selecting the 129th column as the label\n",
        "\n",
        "# Split the data into training and testing sets\n",
        "X_train, X_test, y_train, y_test = train_test_split(features, label, test_size=0.2, random_state=32)"
      ]
    },
    {
      "cell_type": "code",
      "execution_count": null,
      "metadata": {
        "id": "cmZQeGM_Ucqf"
      },
      "outputs": [],
      "source": [
        "y_test = np.array([int(Y) for Y in y_test])\n",
        "y_train = np.array([int(Y) for Y in y_train])"
      ]
    },
    {
      "cell_type": "code",
      "execution_count": null,
      "metadata": {
        "colab": {
          "base_uri": "https://localhost:8080/"
        },
        "id": "t9t9xebtUcqf",
        "outputId": "39fddc10-8d26-4f1a-84ac-2e71ac3c3686"
      },
      "outputs": [
        {
          "name": "stdout",
          "output_type": "stream",
          "text": [
            "(1024, 6400)\n",
            "(1024,)\n",
            "(256, 6400)\n",
            "(256,)\n"
          ]
        }
      ],
      "source": [
        "print(X_train.shape)\n",
        "print(y_train.shape)\n",
        "print(X_test.shape)\n",
        "print(y_test.shape)"
      ]
    },
    {
      "cell_type": "code",
      "execution_count": null,
      "metadata": {
        "colab": {
          "base_uri": "https://localhost:8080/"
        },
        "id": "nLi2nyv2Ucqg",
        "outputId": "c2235e2e-f4f7-421e-e67a-556e27e1aee3"
      },
      "outputs": [
        {
          "name": "stdout",
          "output_type": "stream",
          "text": [
            "Accuracy: 57.42%\n",
            "              precision    recall  f1-score   support\n",
            "\n",
            "           0       0.51      0.52      0.52       112\n",
            "           1       0.62      0.62      0.62       144\n",
            "\n",
            "    accuracy                           0.57       256\n",
            "   macro avg       0.57      0.57      0.57       256\n",
            "weighted avg       0.57      0.57      0.57       256\n",
            "\n"
          ]
        }
      ],
      "source": [
        "# Create an SVM classifier\n",
        "svm_model = SVC(kernel='linear', C=1)  # You can also try 'rbf' or 'poly' kernels\n",
        "# Train the model\n",
        "svm_model.fit(X_train, y_train)\n",
        "# Make predictions on the test set\n",
        "y_pred_SVC = svm_model.predict(X_test)\n",
        "# Calculate the accuracy\n",
        "accuracy_svc = accuracy_score(y_test, y_pred_SVC)\n",
        "print(f\"Accuracy: {accuracy_svc * 100:.2f}%\")\n",
        "# Print classification report\n",
        "print(classification_report(y_test, y_pred_SVC))"
      ]
    },
    {
      "cell_type": "code",
      "execution_count": null,
      "metadata": {
        "colab": {
          "base_uri": "https://localhost:8080/"
        },
        "id": "jCcJB35tUcqg",
        "outputId": "9a4c3321-8c00-4295-d326-59ad2d04d537"
      },
      "outputs": [
        {
          "name": "stdout",
          "output_type": "stream",
          "text": [
            "Accuracy: 53.12%\n",
            "Classification Report:\n",
            "              precision    recall  f1-score   support\n",
            "\n",
            "           0       0.47      0.58      0.52       112\n",
            "           1       0.60      0.49      0.54       144\n",
            "\n",
            "    accuracy                           0.53       256\n",
            "   macro avg       0.54      0.54      0.53       256\n",
            "weighted avg       0.54      0.53      0.53       256\n",
            "\n"
          ]
        }
      ],
      "source": [
        "# Initialize the Decision Tree classifier\n",
        "clf = DecisionTreeClassifier()\n",
        "# Train the model on the training data\n",
        "clf.fit(X_train, y_train)\n",
        "# Make predictions on the test data\n",
        "y_pred_DT = clf.predict(X_test)\n",
        "# Evaluate the model\n",
        "accuracy_dt = accuracy_score(y_test, y_pred_DT)\n",
        "class_report = classification_report(y_test, y_pred_DT)\n",
        "# Print the results\n",
        "print(f\"Accuracy: {accuracy_dt * 100:.2f}%\")\n",
        "print(\"Classification Report:\")\n",
        "print(class_report)"
      ]
    },
    {
      "cell_type": "code",
      "execution_count": null,
      "metadata": {
        "colab": {
          "base_uri": "https://localhost:8080/"
        },
        "id": "4aTNmp9eUcqh",
        "outputId": "6967b58b-4c24-4cba-bb17-804ed363747e"
      },
      "outputs": [
        {
          "name": "stdout",
          "output_type": "stream",
          "text": [
            "KNN Accuracy: 66.41%\n",
            "KNN Classification Report:\n",
            "              precision    recall  f1-score   support\n",
            "\n",
            "           0       0.62      0.59      0.61       112\n",
            "           1       0.69      0.72      0.71       144\n",
            "\n",
            "    accuracy                           0.66       256\n",
            "   macro avg       0.66      0.66      0.66       256\n",
            "weighted avg       0.66      0.66      0.66       256\n",
            "\n"
          ]
        }
      ],
      "source": [
        "# Initialize the KNN classifier\n",
        "knn = KNeighborsClassifier(n_neighbors=5)  # You can change n_neighbors to tune the model\n",
        "# Train the KNN model on the training data\n",
        "knn.fit(X_train, y_train)\n",
        "# Make predictions on the test data\n",
        "y_pred_knn = knn.predict(X_test)\n",
        "# Evaluate the KNN model\n",
        "accuracy_knn = accuracy_score(y_test, y_pred_knn)\n",
        "class_report_knn = classification_report(y_test, y_pred_knn)\n",
        "# Print the results\n",
        "print(f\"KNN Accuracy: {accuracy_knn * 100:.2f}%\")\n",
        "print(\"KNN Classification Report:\")\n",
        "print(class_report_knn)"
      ]
    },
    {
      "cell_type": "code",
      "execution_count": null,
      "metadata": {
        "colab": {
          "base_uri": "https://localhost:8080/"
        },
        "id": "jWUt51MzUcqi",
        "outputId": "6af6bdc7-dec6-47c2-a8d1-c3fcf4c10472"
      },
      "outputs": [
        {
          "name": "stdout",
          "output_type": "stream",
          "text": [
            "GBM Accuracy: 63.28%\n",
            "GBM Classification Report:\n",
            "              precision    recall  f1-score   support\n",
            "\n",
            "           0       0.58      0.56      0.57       112\n",
            "           1       0.67      0.69      0.68       144\n",
            "\n",
            "    accuracy                           0.63       256\n",
            "   macro avg       0.63      0.62      0.63       256\n",
            "weighted avg       0.63      0.63      0.63       256\n",
            "\n"
          ]
        }
      ],
      "source": [
        "# Initialize the Gradient Boosting classifier\n",
        "gbm = GradientBoostingClassifier()\n",
        "# Train the GBM model on the training data\n",
        "gbm.fit(X_train, y_train)\n",
        "# Make predictions on the test data\n",
        "y_pred_gbm = gbm.predict(X_test)\n",
        "# Evaluate the GBM model\n",
        "accuracy_gbm = accuracy_score(y_test, y_pred_gbm)\n",
        "class_report_gbm = classification_report(y_test, y_pred_gbm)\n",
        "# Print the results\n",
        "print(f\"GBM Accuracy: {accuracy_gbm * 100:.2f}%\")\n",
        "print(\"GBM Classification Report:\")\n",
        "print(class_report_gbm)"
      ]
    },
    {
      "cell_type": "code",
      "execution_count": null,
      "metadata": {
        "colab": {
          "base_uri": "https://localhost:8080/",
          "height": 391
        },
        "id": "RjX3CrOydYbE",
        "outputId": "ead3e180-4448-45cd-81bf-abae364db8b1"
      },
      "outputs": [
        {
          "data": {
            "image/png": "[encoded data removed]",
            "text/plain": [
              "<Figure size 600x400 with 1 Axes>"
            ]
          },
          "metadata": {},
          "output_type": "display_data"
        }
      ],
      "source": [
        "# Plot the accuracy score\n",
        "plt.figure(figsize=(6, 4))\n",
        "plt.bar(['Gradient Boosting Model'], [accuracy_knn], color='skyblue')\n",
        "plt.ylim(0, 1)\n",
        "plt.ylabel(\"Accuracy (%)\")\n",
        "plt.title(\"Test Accuracy Score\")\n",
        "plt.show()"
      ]
    },
    {
      "cell_type": "code",
      "execution_count": null,
      "metadata": {
        "colab": {
          "base_uri": "https://localhost:8080/",
          "height": 564
        },
        "id": "yRvIhxBCUcqj",
        "outputId": "3ed3c3c9-daa2-41e9-b3cc-b8ecdb58812b"
      },
      "outputs": [
        {
          "data": {
            "image/png": "[encoded data removed]",
            "text/plain": [
              "<Figure size 800x600 with 2 Axes>"
            ]
          },
          "metadata": {},
          "output_type": "display_data"
        }
      ],
      "source": [
        "# Generate confusion matrix\n",
        "cm = confusion_matrix(y_test, y_pred_knn)\n",
        "\n",
        "# Plot confusion matrix\n",
        "plt.figure(figsize=(8, 6))\n",
        "sns.heatmap(cm, annot=True, fmt='d', cmap='Blues', xticklabels=['Class 0', 'Class 1'], yticklabels=['Class 0', 'Class 1'])\n",
        "plt.xlabel('Predicted Label')\n",
        "plt.ylabel('True Label')\n",
        "plt.title('Confusion Matrix')\n",
        "plt.show()"
      ]
    },
    {
      "cell_type": "code",
      "execution_count": null,
      "metadata": {
        "id": "nQr43eI8Ucqj"
      },
      "outputs": [],
      "source": []
    },
    {
      "cell_type": "markdown",
      "metadata": {
        "id": "Ya6jh7I0gQcX"
      },
      "source": [
        "## **Label: Liking**"
      ]
    },
    {
      "cell_type": "code",
      "execution_count": null,
      "metadata": {
        "colab": {
          "base_uri": "https://localhost:8080/",
          "height": 458
        },
        "id": "YsMypPn_gQcZ",
        "outputId": "1ada25f3-5f3c-45ed-b346-67885957c32d"
      },
      "outputs": [
        {
          "data": {
            "text/html": [
              "<div>\n",
              "<style scoped>\n",
              "    .dataframe tbody tr th:only-of-type {\n",
              "        vertical-align: middle;\n",
              "    }\n",
              "\n",
              "    .dataframe tbody tr th {\n",
              "        vertical-align: top;\n",
              "    }\n",
              "\n",
              "    .dataframe thead th {\n",
              "        text-align: right;\n",
              "    }\n",
              "</style>\n",
              "<table border=\"1\" class=\"dataframe\">\n",
              "  <thead>\n",
              "    <tr style=\"text-align: right;\">\n",
              "      <th></th>\n",
              "      <th>liking</th>\n",
              "    </tr>\n",
              "  </thead>\n",
              "  <tbody>\n",
              "    <tr>\n",
              "      <th>0</th>\n",
              "      <td>9.000000</td>\n",
              "    </tr>\n",
              "    <tr>\n",
              "      <th>1</th>\n",
              "      <td>9.000000</td>\n",
              "    </tr>\n",
              "    <tr>\n",
              "      <th>2</th>\n",
              "      <td>8.972696</td>\n",
              "    </tr>\n",
              "    <tr>\n",
              "      <th>3</th>\n",
              "      <td>8.972696</td>\n",
              "    </tr>\n",
              "    <tr>\n",
              "      <th>4</th>\n",
              "      <td>9.000000</td>\n",
              "    </tr>\n",
              "    <tr>\n",
              "      <th>...</th>\n",
              "      <td>...</td>\n",
              "    </tr>\n",
              "    <tr>\n",
              "      <th>1275</th>\n",
              "      <td>7.264408</td>\n",
              "    </tr>\n",
              "    <tr>\n",
              "      <th>1276</th>\n",
              "      <td>6.586440</td>\n",
              "    </tr>\n",
              "    <tr>\n",
              "      <th>1277</th>\n",
              "      <td>6.586440</td>\n",
              "    </tr>\n",
              "    <tr>\n",
              "      <th>1278</th>\n",
              "      <td>3.494912</td>\n",
              "    </tr>\n",
              "    <tr>\n",
              "      <th>1279</th>\n",
              "      <td>3.494912</td>\n",
              "    </tr>\n",
              "  </tbody>\n",
              "</table>\n",
              "<p>1280 rows × 1 columns</p>\n",
              "</div><br><label><b>dtype:</b> float64</label>"
            ],
            "text/plain": [
              "0       9.000000\n",
              "1       9.000000\n",
              "2       8.972696\n",
              "3       8.972696\n",
              "4       9.000000\n",
              "          ...   \n",
              "1275    7.264408\n",
              "1276    6.586440\n",
              "1277    6.586440\n",
              "1278    3.494912\n",
              "1279    3.494912\n",
              "Name: liking, Length: 1280, dtype: float64"
            ]
          },
          "execution_count": 62,
          "metadata": {},
          "output_type": "execute_result"
        }
      ],
      "source": [
        "mega_df['liking']"
      ]
    },
    {
      "cell_type": "code",
      "execution_count": null,
      "metadata": {
        "id": "WxVTv_b2gQcZ"
      },
      "outputs": [],
      "source": [
        "# set threshold to 4.5. If the value in arousal column is >= threshold set it to 1 else 0\n",
        "\n",
        "threshold = 4.5\n",
        "mega_df['liking'] = mega_df['liking'].apply(lambda x: '1' if float(x) >= threshold else '0')"
      ]
    },
    {
      "cell_type": "code",
      "execution_count": null,
      "metadata": {
        "colab": {
          "base_uri": "https://localhost:8080/",
          "height": 458
        },
        "id": "8uFXU6yegQca",
        "outputId": "0b0a301e-8734-48ec-ac79-42fb6ce7202f"
      },
      "outputs": [
        {
          "data": {
            "text/html": [
              "<div>\n",
              "<style scoped>\n",
              "    .dataframe tbody tr th:only-of-type {\n",
              "        vertical-align: middle;\n",
              "    }\n",
              "\n",
              "    .dataframe tbody tr th {\n",
              "        vertical-align: top;\n",
              "    }\n",
              "\n",
              "    .dataframe thead th {\n",
              "        text-align: right;\n",
              "    }\n",
              "</style>\n",
              "<table border=\"1\" class=\"dataframe\">\n",
              "  <thead>\n",
              "    <tr style=\"text-align: right;\">\n",
              "      <th></th>\n",
              "      <th>liking</th>\n",
              "    </tr>\n",
              "  </thead>\n",
              "  <tbody>\n",
              "    <tr>\n",
              "      <th>0</th>\n",
              "      <td>1</td>\n",
              "    </tr>\n",
              "    <tr>\n",
              "      <th>1</th>\n",
              "      <td>1</td>\n",
              "    </tr>\n",
              "    <tr>\n",
              "      <th>2</th>\n",
              "      <td>1</td>\n",
              "    </tr>\n",
              "    <tr>\n",
              "      <th>3</th>\n",
              "      <td>1</td>\n",
              "    </tr>\n",
              "    <tr>\n",
              "      <th>4</th>\n",
              "      <td>1</td>\n",
              "    </tr>\n",
              "    <tr>\n",
              "      <th>...</th>\n",
              "      <td>...</td>\n",
              "    </tr>\n",
              "    <tr>\n",
              "      <th>1275</th>\n",
              "      <td>1</td>\n",
              "    </tr>\n",
              "    <tr>\n",
              "      <th>1276</th>\n",
              "      <td>1</td>\n",
              "    </tr>\n",
              "    <tr>\n",
              "      <th>1277</th>\n",
              "      <td>1</td>\n",
              "    </tr>\n",
              "    <tr>\n",
              "      <th>1278</th>\n",
              "      <td>0</td>\n",
              "    </tr>\n",
              "    <tr>\n",
              "      <th>1279</th>\n",
              "      <td>0</td>\n",
              "    </tr>\n",
              "  </tbody>\n",
              "</table>\n",
              "<p>1280 rows × 1 columns</p>\n",
              "</div><br><label><b>dtype:</b> object</label>"
            ],
            "text/plain": [
              "0       1\n",
              "1       1\n",
              "2       1\n",
              "3       1\n",
              "4       1\n",
              "       ..\n",
              "1275    1\n",
              "1276    1\n",
              "1277    1\n",
              "1278    0\n",
              "1279    0\n",
              "Name: liking, Length: 1280, dtype: object"
            ]
          },
          "execution_count": 64,
          "metadata": {},
          "output_type": "execute_result"
        }
      ],
      "source": [
        "mega_df['liking']"
      ]
    },
    {
      "cell_type": "code",
      "execution_count": null,
      "metadata": {
        "id": "NW30e-SagQca"
      },
      "outputs": [],
      "source": [
        "# DataFrame is named mega_df\n",
        "# shuffled_df = mega_df.sample(frac=1).reset_index(drop=True)"
      ]
    },
    {
      "cell_type": "code",
      "execution_count": null,
      "metadata": {
        "id": "CU-6dSqcgQca"
      },
      "outputs": [],
      "source": [
        "# Assuming your DataFrame is named 'mega_df'\n",
        "features = mega_df.iloc[:, :6400].values  # Selecting the first 128 columns as features\n",
        "label = mega_df['liking'].values  # Selecting the 129th column as the label\n",
        "\n",
        "# Split the data into training and testing sets\n",
        "X_train, X_test, y_train, y_test = train_test_split(features, label, test_size=0.2, random_state=32)"
      ]
    },
    {
      "cell_type": "code",
      "execution_count": null,
      "metadata": {
        "id": "qdMyp-HMgQcb"
      },
      "outputs": [],
      "source": [
        "y_test = np.array([int(Y) for Y in y_test])\n",
        "y_train = np.array([int(Y) for Y in y_train])"
      ]
    },
    {
      "cell_type": "code",
      "execution_count": null,
      "metadata": {
        "colab": {
          "base_uri": "https://localhost:8080/"
        },
        "id": "GpahnLbDgQcb",
        "outputId": "82f8f9cc-2870-4864-e1fe-15cbb26defb0"
      },
      "outputs": [
        {
          "name": "stdout",
          "output_type": "stream",
          "text": [
            "(1024, 6400)\n",
            "(1024,)\n",
            "(256, 6400)\n",
            "(256,)\n"
          ]
        }
      ],
      "source": [
        "print(X_train.shape)\n",
        "print(y_train.shape)\n",
        "print(X_test.shape)\n",
        "print(y_test.shape)"
      ]
    },
    {
      "cell_type": "code",
      "execution_count": null,
      "metadata": {
        "colab": {
          "base_uri": "https://localhost:8080/"
        },
        "id": "KTHePv8fgQcc",
        "outputId": "79cb2b70-9583-4d42-8fa5-b3b91f6a2457"
      },
      "outputs": [
        {
          "name": "stdout",
          "output_type": "stream",
          "text": [
            "Accuracy: 66.80%\n",
            "              precision    recall  f1-score   support\n",
            "\n",
            "           0       0.48      0.41      0.44        82\n",
            "           1       0.74      0.79      0.76       174\n",
            "\n",
            "    accuracy                           0.67       256\n",
            "   macro avg       0.61      0.60      0.60       256\n",
            "weighted avg       0.66      0.67      0.66       256\n",
            "\n"
          ]
        }
      ],
      "source": [
        "# Create an SVM classifier\n",
        "svm_model = SVC(kernel='linear', C=1)  # You can also try 'rbf' or 'poly' kernels\n",
        "# Train the model\n",
        "svm_model.fit(X_train, y_train)\n",
        "# Make predictions on the test set\n",
        "y_pred_SVC = svm_model.predict(X_test)\n",
        "# Calculate the accuracy\n",
        "accuracy_svc = accuracy_score(y_test, y_pred_SVC)\n",
        "print(f\"Accuracy: {accuracy_svc * 100:.2f}%\")\n",
        "# Print classification report\n",
        "print(classification_report(y_test, y_pred_SVC))"
      ]
    },
    {
      "cell_type": "code",
      "execution_count": null,
      "metadata": {
        "colab": {
          "base_uri": "https://localhost:8080/"
        },
        "id": "Sznaj6AfgQcd",
        "outputId": "06958938-8bf6-4d33-f93c-50b54ada3a3b"
      },
      "outputs": [
        {
          "name": "stdout",
          "output_type": "stream",
          "text": [
            "Accuracy: 62.50%\n",
            "Classification Report:\n",
            "              precision    recall  f1-score   support\n",
            "\n",
            "           0       0.42      0.44      0.43        82\n",
            "           1       0.73      0.71      0.72       174\n",
            "\n",
            "    accuracy                           0.62       256\n",
            "   macro avg       0.57      0.58      0.57       256\n",
            "weighted avg       0.63      0.62      0.63       256\n",
            "\n"
          ]
        }
      ],
      "source": [
        "# Initialize the Decision Tree classifier\n",
        "clf = DecisionTreeClassifier()\n",
        "# Train the model on the training data\n",
        "clf.fit(X_train, y_train)\n",
        "# Make predictions on the test data\n",
        "y_pred_DT = clf.predict(X_test)\n",
        "# Evaluate the model\n",
        "accuracy_dt = accuracy_score(y_test, y_pred_DT)\n",
        "class_report = classification_report(y_test, y_pred_DT)\n",
        "# Print the results\n",
        "print(f\"Accuracy: {accuracy_dt * 100:.2f}%\")\n",
        "print(\"Classification Report:\")\n",
        "print(class_report)"
      ]
    },
    {
      "cell_type": "code",
      "execution_count": null,
      "metadata": {
        "colab": {
          "base_uri": "https://localhost:8080/"
        },
        "id": "1l6UTzD9gQcd",
        "outputId": "612a5b2b-bbb5-468e-92d2-11e0b63b6c53"
      },
      "outputs": [
        {
          "name": "stdout",
          "output_type": "stream",
          "text": [
            "KNN Accuracy: 67.19%\n",
            "KNN Classification Report:\n",
            "              precision    recall  f1-score   support\n",
            "\n",
            "           0       0.49      0.45      0.47        82\n",
            "           1       0.75      0.78      0.76       174\n",
            "\n",
            "    accuracy                           0.67       256\n",
            "   macro avg       0.62      0.61      0.62       256\n",
            "weighted avg       0.67      0.67      0.67       256\n",
            "\n"
          ]
        }
      ],
      "source": [
        "# Initialize the KNN classifier\n",
        "knn = KNeighborsClassifier(n_neighbors=5)  # You can change n_neighbors to tune the model\n",
        "# Train the KNN model on the training data\n",
        "knn.fit(X_train, y_train)\n",
        "# Make predictions on the test data\n",
        "y_pred_knn = knn.predict(X_test)\n",
        "# Evaluate the KNN model\n",
        "accuracy_knn = accuracy_score(y_test, y_pred_knn)\n",
        "class_report_knn = classification_report(y_test, y_pred_knn)\n",
        "# Print the results\n",
        "print(f\"KNN Accuracy: {accuracy_knn * 100:.2f}%\")\n",
        "print(\"KNN Classification Report:\")\n",
        "print(class_report_knn)"
      ]
    },
    {
      "cell_type": "code",
      "execution_count": null,
      "metadata": {
        "colab": {
          "base_uri": "https://localhost:8080/"
        },
        "id": "FpdVAQKWgQce",
        "outputId": "f0856830-840d-4b89-85c0-1b20c72530b0"
      },
      "outputs": [
        {
          "name": "stdout",
          "output_type": "stream",
          "text": [
            "Accuracy: 68.36%\n",
            "              precision    recall  f1-score   support\n",
            "\n",
            "           0       0.51      0.39      0.44        82\n",
            "           1       0.74      0.82      0.78       174\n",
            "\n",
            "    accuracy                           0.68       256\n",
            "   macro avg       0.62      0.61      0.61       256\n",
            "weighted avg       0.67      0.68      0.67       256\n",
            "\n"
          ]
        }
      ],
      "source": [
        "# Create and train a Logistic Regression model\n",
        "lrc_model = LogisticRegression(solver='lbfgs', max_iter=1000, random_state=42)\n",
        "lrc_model.fit(X_train, y_train)\n",
        "# Make predictions\n",
        "y_pred_LRC = lrc_model.predict(X_test)\n",
        "# Evaluate the model\n",
        "accuracy_lr = accuracy_score(y_test, y_pred_LRC)\n",
        "print(f\"Accuracy: {accuracy_lr * 100:.2f}%\")\n",
        "# Print classification report\n",
        "print(classification_report(y_test, y_pred_LRC))"
      ]
    },
    {
      "cell_type": "code",
      "execution_count": null,
      "metadata": {
        "colab": {
          "base_uri": "https://localhost:8080/"
        },
        "id": "T_Hossu-gQcf",
        "outputId": "4c944d59-3ad7-484c-a810-84611c129e98"
      },
      "outputs": [
        {
          "name": "stdout",
          "output_type": "stream",
          "text": [
            "GBM Accuracy: 68.75%\n",
            "GBM Classification Report:\n",
            "              precision    recall  f1-score   support\n",
            "\n",
            "           0       0.54      0.17      0.26        82\n",
            "           1       0.70      0.93      0.80       174\n",
            "\n",
            "    accuracy                           0.69       256\n",
            "   macro avg       0.62      0.55      0.53       256\n",
            "weighted avg       0.65      0.69      0.63       256\n",
            "\n"
          ]
        }
      ],
      "source": [
        "# Initialize the Gradient Boosting classifier\n",
        "gbm = GradientBoostingClassifier()\n",
        "# Train the GBM model on the training data\n",
        "gbm.fit(X_train, y_train)\n",
        "# Make predictions on the test data\n",
        "y_pred_gbm = gbm.predict(X_test)\n",
        "# Evaluate the GBM model\n",
        "accuracy_gbm = accuracy_score(y_test, y_pred_gbm)\n",
        "class_report_gbm = classification_report(y_test, y_pred_gbm)\n",
        "# Print the results\n",
        "print(f\"GBM Accuracy: {accuracy_gbm * 100:.2f}%\")\n",
        "print(\"GBM Classification Report:\")\n",
        "print(class_report_gbm)"
      ]
    },
    {
      "cell_type": "code",
      "execution_count": null,
      "metadata": {
        "colab": {
          "base_uri": "https://localhost:8080/",
          "height": 391
        },
        "id": "5jBO9HSsgQcg",
        "outputId": "cb0f3a21-bfe8-4c86-c30c-1a210dc391a2"
      },
      "outputs": [
        {
          "data": {
            "image/png": "[encoded data removed]",
            "text/plain": [
              "<Figure size 600x400 with 1 Axes>"
            ]
          },
          "metadata": {},
          "output_type": "display_data"
        }
      ],
      "source": [
        "# Plot the accuracy score\n",
        "plt.figure(figsize=(6, 4))\n",
        "plt.bar(['Gradient Boosting Model'], [accuracy_gbm], color='skyblue')\n",
        "plt.ylim(0, 1)\n",
        "plt.ylabel(\"Accuracy (%)\")\n",
        "plt.title(\"Test Accuracy Score\")\n",
        "plt.show()"
      ]
    },
    {
      "cell_type": "code",
      "execution_count": null,
      "metadata": {
        "colab": {
          "base_uri": "https://localhost:8080/",
          "height": 564
        },
        "id": "vIP5TtrtgQcg",
        "outputId": "d5ddccca-2f7e-4c03-a516-d00ad46d4f82"
      },
      "outputs": [
        {
          "data": {
            "image/png": "[encoded data removed]",
            "text/plain": [
              "<Figure size 800x600 with 2 Axes>"
            ]
          },
          "metadata": {},
          "output_type": "display_data"
        }
      ],
      "source": [
        "# Generate confusion matrix\n",
        "cm = confusion_matrix(y_test, y_pred_SVC)\n",
        "\n",
        "# Plot confusion matrix\n",
        "plt.figure(figsize=(8, 6))\n",
        "sns.heatmap(cm, annot=True, fmt='d', cmap='Blues', xticklabels=['Class 0', 'Class 1'], yticklabels=['Class 0', 'Class 1'])\n",
        "plt.xlabel('Predicted Label')\n",
        "plt.ylabel('True Label')\n",
        "plt.title('Confusion Matrix')\n",
        "plt.show()"
      ]
    },
    {
      "cell_type": "code",
      "execution_count": null,
      "metadata": {
        "id": "GKB5EvEbgQch"
      },
      "outputs": [],
      "source": []
    }
  ],
  "metadata": {
    "accelerator": "TPU",
    "colab": {
      "collapsed_sections": [
        "6EreHhVianv6",
        "ox3JsM60YYLM",
        "EuGKXhI9YkPd",
        "V7jomrG6Y1yV",
        "VJxi_pnSZXjL",
        "8V4I0jb-QI9K",
        "bSA0fbgSQI9N",
        "jyE4zAw8Ucqc",
        "Ya6jh7I0gQcX"
      ],
      "gpuType": "V28",
      "provenance": []
    },
    "kernelspec": {
      "display_name": "Python 3",
      "name": "python3"
    },
    "language_info": {
      "codemirror_mode": {
        "name": "ipython",
        "version": 3
      },
      "file_extension": ".py",
      "mimetype": "text/x-python",
      "name": "python",
      "nbconvert_exporter": "python",
      "pygments_lexer": "ipython3",
      "version": "3.12.0"
    }
  },
  "nbformat": 4,
  "nbformat_minor": 0
}
